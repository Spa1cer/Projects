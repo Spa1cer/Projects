{
 "cells": [
  {
   "cell_type": "markdown",
   "metadata": {},
   "source": [
    "# Описание проекта:\n",
    "Вы — аналитик крупного интернет-магазина. Вместе с отделом маркетинга вы подготовили список гипотез для увеличения выручки.\n",
    "Приоритизируйте гипотезы, запустите A/B-тест и проанализируйте результаты. \n",
    "\n",
    "**Часть 1. Приоритизация гипотез.**\n",
    "\n",
    "В файле /datasets/hypothesis.csv 9 гипотез по увеличению выручки интернет-магазина с указанными параметрами Reach, Impact, Confidence, Effort.\n",
    "\n",
    "**Задача:**\n",
    "* Примените фреймворк ICE для приоритизации гипотез. Отсортируйте их по убыванию приоритета;\n",
    "* Примените фреймворк RICE для приоритизации гипотез. Отсортируйте их по убыванию приоритета;\n",
    "* Укажите, как изменилась приоритизация гипотез при применении RICE вместо ICE. Объясните, почему так произошло.\n",
    "\n",
    "**Часть 2. Анализ A/B-теста**\n",
    "\n",
    "Вы провели A/B-тест и получили результаты, которые описаны в файлах /datasets/orders.csv и /datasets/visitors.csv.\n",
    "\n",
    "**Задача:**\n",
    "Проанализируйте A/B-тест:\n",
    "1. Постройте график кумулятивной выручки по группам. Сделайте выводы и предположения;\n",
    "2. Постройте график кумулятивного среднего чека по группам. Сделайте выводы и предположения;\n",
    "3. Постройте график относительного изменения кумулятивного среднего чека группы B к группе A. Сделайте выводы и предположения;\n",
    "4. Постройте график кумулятивного среднего количества заказов на посетителя по группам. Сделайте выводы и предположения;\n",
    "5. Постройте график относительного изменения кумулятивного среднего количества заказов на посетителя группы B к группе A. Сделайте выводы и предположения;\n",
    "6. Постройте точечный график количества заказов по пользователям. Сделайте выводы и предположения;\n",
    "7. Посчитайте 95-й и 99-й перцентили количества заказов на пользователя. Выберите границу для определения аномальных пользователей;\n",
    "8. Постройте точечный график стоимостей заказов. Сделайте выводы и предположения;\n",
    "9. Посчитайте 95-й и 99-й перцентили стоимости заказов. Выберите границу для определения аномальных заказов;\n",
    "10. Посчитайте статистическую значимость различий в среднем количестве заказов на посетителя между группами по «сырым» данным. Сделайте выводы и предположения;\n",
    "11. Посчитайте статистическую значимость различий в среднем чеке заказа между группами по «сырым» данным. Сделайте выводы и предположения;\n",
    "12. Посчитайте статистическую значимость различий в среднем количестве заказов на посетителя между группами по «очищенным» данным. Сделайте выводы и предположения;\n",
    "13. Посчитайте статистическую значимость различий в среднем чеке заказа между группами по «очищенным» данным. Сделайте выводы и предположения;\n",
    "14. Примите решение по результатам теста и объясните его. Варианты решений:\n",
    "        1. Остановить тест, зафиксировать победу одной из групп.\n",
    "        2. Остановить тест, зафиксировать отсутствие различий между группами.\n",
    "        3. Продолжить тест."
   ]
  },
  {
   "cell_type": "markdown",
   "metadata": {},
   "source": [
    "# Описание данных:\n",
    "Данные для первой части (файл /datasets/hypothesis.csv):\n",
    "* Hypothesis — краткое описание гипотезы;\n",
    "* Reach — охват пользователей по 10-балльной шкале;\n",
    "* Impact — влияние на пользователей по 10-балльной шкале;\n",
    "* Confidence — уверенность в гипотезе по 10-балльной шкале;\n",
    "* Efforts — затраты ресурсов на проверку гипотезы по 10-балльной шкале. Чем больше значение Efforts, тем дороже проверка гипотезы.\n",
    "\n",
    "Данные для второй части (файл /datasets/orders.csv):\n",
    "* transactionId — идентификатор заказа;\n",
    "* visitorId — идентификатор пользователя, совершившего заказ;\n",
    "* date — дата, когда был совершён заказ;\n",
    "* revenue — выручка заказа;\n",
    "* group — группа A/B-теста, в которую попал заказ.\n",
    "\n",
    "Файл /datasets/visitors.csv:\n",
    "* date — дата;\n",
    "* group — группа A/B-теста;\n",
    "* visitors — количество пользователей в указанную дату в указанной группе A/B-теста."
   ]
  },
  {
   "cell_type": "markdown",
   "metadata": {},
   "source": [
    "# Обзор данных:"
   ]
  },
  {
   "cell_type": "markdown",
   "metadata": {},
   "source": [
    "Импортируем необходимые библиотеки для работы:"
   ]
  },
  {
   "cell_type": "code",
   "execution_count": 1,
   "metadata": {},
   "outputs": [],
   "source": [
    "import numpy as np\n",
    "import pandas as pd\n",
    "import seaborn as sns\n",
    "from matplotlib import pyplot as plt\n",
    "import datetime as dt\n",
    "import scipy.stats as stats"
   ]
  },
  {
   "cell_type": "markdown",
   "metadata": {},
   "source": [
    "**Считывание данных и запись их в переменные:**"
   ]
  },
  {
   "cell_type": "code",
   "execution_count": 2,
   "metadata": {},
   "outputs": [],
   "source": [
    "try:\n",
    "    hypothesis = pd.read_csv('/datasets/hypothesis.csv') # считаем необходимый файл visits_info_short.csv сохраняем его в переменной visits\n",
    "except:\n",
    "    hypothesis = pd.read_csv('https://code.s3.yandex.net/datasets/hypothesis.csv')\n",
    "    \n",
    "try:\n",
    "    orders = pd.read_csv('/datasets/orders.csv') # считаем необходимый файл orders_info_short.csv сохраняем его в переменной orders\n",
    "except:\n",
    "    orders = pd.read_csv('https://code.s3.yandex.net/datasets/orders.csv')\n",
    "    \n",
    "try:\n",
    "    visitors = pd.read_csv('/datasets/visitors.csv') # считаем необходимый файл costs_info_short.csv сохраняем его в переменной costs\n",
    "except:\n",
    "    visitors = pd.read_csv('https://code.s3.yandex.net/datasets/visitors.csv')"
   ]
  },
  {
   "cell_type": "markdown",
   "metadata": {},
   "source": [
    "**Выведем первые 5 строк датасетов:**"
   ]
  },
  {
   "cell_type": "code",
   "execution_count": 3,
   "metadata": {},
   "outputs": [
    {
     "data": {
      "text/html": [
       "<div>\n",
       "<style scoped>\n",
       "    .dataframe tbody tr th:only-of-type {\n",
       "        vertical-align: middle;\n",
       "    }\n",
       "\n",
       "    .dataframe tbody tr th {\n",
       "        vertical-align: top;\n",
       "    }\n",
       "\n",
       "    .dataframe thead th {\n",
       "        text-align: right;\n",
       "    }\n",
       "</style>\n",
       "<table border=\"1\" class=\"dataframe\">\n",
       "  <thead>\n",
       "    <tr style=\"text-align: right;\">\n",
       "      <th></th>\n",
       "      <th>Hypothesis</th>\n",
       "      <th>Reach</th>\n",
       "      <th>Impact</th>\n",
       "      <th>Confidence</th>\n",
       "      <th>Efforts</th>\n",
       "    </tr>\n",
       "  </thead>\n",
       "  <tbody>\n",
       "    <tr>\n",
       "      <th>0</th>\n",
       "      <td>Добавить два новых канала привлечения трафика,...</td>\n",
       "      <td>3</td>\n",
       "      <td>10</td>\n",
       "      <td>8</td>\n",
       "      <td>6</td>\n",
       "    </tr>\n",
       "    <tr>\n",
       "      <th>1</th>\n",
       "      <td>Запустить собственную службу доставки, что сок...</td>\n",
       "      <td>2</td>\n",
       "      <td>5</td>\n",
       "      <td>4</td>\n",
       "      <td>10</td>\n",
       "    </tr>\n",
       "    <tr>\n",
       "      <th>2</th>\n",
       "      <td>Добавить блоки рекомендаций товаров на сайт ин...</td>\n",
       "      <td>8</td>\n",
       "      <td>3</td>\n",
       "      <td>7</td>\n",
       "      <td>3</td>\n",
       "    </tr>\n",
       "    <tr>\n",
       "      <th>3</th>\n",
       "      <td>Изменить структура категорий, что увеличит кон...</td>\n",
       "      <td>8</td>\n",
       "      <td>3</td>\n",
       "      <td>3</td>\n",
       "      <td>8</td>\n",
       "    </tr>\n",
       "    <tr>\n",
       "      <th>4</th>\n",
       "      <td>Изменить цвет фона главной страницы, чтобы уве...</td>\n",
       "      <td>3</td>\n",
       "      <td>1</td>\n",
       "      <td>1</td>\n",
       "      <td>1</td>\n",
       "    </tr>\n",
       "  </tbody>\n",
       "</table>\n",
       "</div>"
      ],
      "text/plain": [
       "                                          Hypothesis  Reach  Impact  \\\n",
       "0  Добавить два новых канала привлечения трафика,...      3      10   \n",
       "1  Запустить собственную службу доставки, что сок...      2       5   \n",
       "2  Добавить блоки рекомендаций товаров на сайт ин...      8       3   \n",
       "3  Изменить структура категорий, что увеличит кон...      8       3   \n",
       "4  Изменить цвет фона главной страницы, чтобы уве...      3       1   \n",
       "\n",
       "   Confidence  Efforts  \n",
       "0           8        6  \n",
       "1           4       10  \n",
       "2           7        3  \n",
       "3           3        8  \n",
       "4           1        1  "
      ]
     },
     "execution_count": 3,
     "metadata": {},
     "output_type": "execute_result"
    }
   ],
   "source": [
    "hypothesis.head() # выведем первые 5 строк датасета hypothesis"
   ]
  },
  {
   "cell_type": "code",
   "execution_count": 4,
   "metadata": {},
   "outputs": [
    {
     "data": {
      "text/html": [
       "<div>\n",
       "<style scoped>\n",
       "    .dataframe tbody tr th:only-of-type {\n",
       "        vertical-align: middle;\n",
       "    }\n",
       "\n",
       "    .dataframe tbody tr th {\n",
       "        vertical-align: top;\n",
       "    }\n",
       "\n",
       "    .dataframe thead th {\n",
       "        text-align: right;\n",
       "    }\n",
       "</style>\n",
       "<table border=\"1\" class=\"dataframe\">\n",
       "  <thead>\n",
       "    <tr style=\"text-align: right;\">\n",
       "      <th></th>\n",
       "      <th>transactionId</th>\n",
       "      <th>visitorId</th>\n",
       "      <th>date</th>\n",
       "      <th>revenue</th>\n",
       "      <th>group</th>\n",
       "    </tr>\n",
       "  </thead>\n",
       "  <tbody>\n",
       "    <tr>\n",
       "      <th>0</th>\n",
       "      <td>3667963787</td>\n",
       "      <td>3312258926</td>\n",
       "      <td>2019-08-15</td>\n",
       "      <td>1650</td>\n",
       "      <td>B</td>\n",
       "    </tr>\n",
       "    <tr>\n",
       "      <th>1</th>\n",
       "      <td>2804400009</td>\n",
       "      <td>3642806036</td>\n",
       "      <td>2019-08-15</td>\n",
       "      <td>730</td>\n",
       "      <td>B</td>\n",
       "    </tr>\n",
       "    <tr>\n",
       "      <th>2</th>\n",
       "      <td>2961555356</td>\n",
       "      <td>4069496402</td>\n",
       "      <td>2019-08-15</td>\n",
       "      <td>400</td>\n",
       "      <td>A</td>\n",
       "    </tr>\n",
       "    <tr>\n",
       "      <th>3</th>\n",
       "      <td>3797467345</td>\n",
       "      <td>1196621759</td>\n",
       "      <td>2019-08-15</td>\n",
       "      <td>9759</td>\n",
       "      <td>B</td>\n",
       "    </tr>\n",
       "    <tr>\n",
       "      <th>4</th>\n",
       "      <td>2282983706</td>\n",
       "      <td>2322279887</td>\n",
       "      <td>2019-08-15</td>\n",
       "      <td>2308</td>\n",
       "      <td>B</td>\n",
       "    </tr>\n",
       "  </tbody>\n",
       "</table>\n",
       "</div>"
      ],
      "text/plain": [
       "   transactionId   visitorId        date  revenue group\n",
       "0     3667963787  3312258926  2019-08-15     1650     B\n",
       "1     2804400009  3642806036  2019-08-15      730     B\n",
       "2     2961555356  4069496402  2019-08-15      400     A\n",
       "3     3797467345  1196621759  2019-08-15     9759     B\n",
       "4     2282983706  2322279887  2019-08-15     2308     B"
      ]
     },
     "execution_count": 4,
     "metadata": {},
     "output_type": "execute_result"
    }
   ],
   "source": [
    "orders.head() # выведем первые 5 строк датасета orders"
   ]
  },
  {
   "cell_type": "code",
   "execution_count": 5,
   "metadata": {},
   "outputs": [
    {
     "data": {
      "text/html": [
       "<div>\n",
       "<style scoped>\n",
       "    .dataframe tbody tr th:only-of-type {\n",
       "        vertical-align: middle;\n",
       "    }\n",
       "\n",
       "    .dataframe tbody tr th {\n",
       "        vertical-align: top;\n",
       "    }\n",
       "\n",
       "    .dataframe thead th {\n",
       "        text-align: right;\n",
       "    }\n",
       "</style>\n",
       "<table border=\"1\" class=\"dataframe\">\n",
       "  <thead>\n",
       "    <tr style=\"text-align: right;\">\n",
       "      <th></th>\n",
       "      <th>date</th>\n",
       "      <th>group</th>\n",
       "      <th>visitors</th>\n",
       "    </tr>\n",
       "  </thead>\n",
       "  <tbody>\n",
       "    <tr>\n",
       "      <th>0</th>\n",
       "      <td>2019-08-01</td>\n",
       "      <td>A</td>\n",
       "      <td>719</td>\n",
       "    </tr>\n",
       "    <tr>\n",
       "      <th>1</th>\n",
       "      <td>2019-08-02</td>\n",
       "      <td>A</td>\n",
       "      <td>619</td>\n",
       "    </tr>\n",
       "    <tr>\n",
       "      <th>2</th>\n",
       "      <td>2019-08-03</td>\n",
       "      <td>A</td>\n",
       "      <td>507</td>\n",
       "    </tr>\n",
       "    <tr>\n",
       "      <th>3</th>\n",
       "      <td>2019-08-04</td>\n",
       "      <td>A</td>\n",
       "      <td>717</td>\n",
       "    </tr>\n",
       "    <tr>\n",
       "      <th>4</th>\n",
       "      <td>2019-08-05</td>\n",
       "      <td>A</td>\n",
       "      <td>756</td>\n",
       "    </tr>\n",
       "  </tbody>\n",
       "</table>\n",
       "</div>"
      ],
      "text/plain": [
       "         date group  visitors\n",
       "0  2019-08-01     A       719\n",
       "1  2019-08-02     A       619\n",
       "2  2019-08-03     A       507\n",
       "3  2019-08-04     A       717\n",
       "4  2019-08-05     A       756"
      ]
     },
     "execution_count": 5,
     "metadata": {},
     "output_type": "execute_result"
    }
   ],
   "source": [
    "visitors.head() # выведем первые 5 строк датасета visitors"
   ]
  },
  {
   "cell_type": "markdown",
   "metadata": {},
   "source": [
    "**Ознакомимся с данными, методом info():**"
   ]
  },
  {
   "cell_type": "code",
   "execution_count": 6,
   "metadata": {},
   "outputs": [
    {
     "name": "stdout",
     "output_type": "stream",
     "text": [
      "<class 'pandas.core.frame.DataFrame'>\n",
      "RangeIndex: 9 entries, 0 to 8\n",
      "Data columns (total 5 columns):\n",
      " #   Column      Non-Null Count  Dtype \n",
      "---  ------      --------------  ----- \n",
      " 0   Hypothesis  9 non-null      object\n",
      " 1   Reach       9 non-null      int64 \n",
      " 2   Impact      9 non-null      int64 \n",
      " 3   Confidence  9 non-null      int64 \n",
      " 4   Efforts     9 non-null      int64 \n",
      "dtypes: int64(4), object(1)\n",
      "memory usage: 488.0+ bytes\n"
     ]
    }
   ],
   "source": [
    "hypothesis.info() # ознакомимся с данными датасета hypothesis"
   ]
  },
  {
   "cell_type": "code",
   "execution_count": 7,
   "metadata": {},
   "outputs": [
    {
     "name": "stdout",
     "output_type": "stream",
     "text": [
      "<class 'pandas.core.frame.DataFrame'>\n",
      "RangeIndex: 1197 entries, 0 to 1196\n",
      "Data columns (total 5 columns):\n",
      " #   Column         Non-Null Count  Dtype \n",
      "---  ------         --------------  ----- \n",
      " 0   transactionId  1197 non-null   int64 \n",
      " 1   visitorId      1197 non-null   int64 \n",
      " 2   date           1197 non-null   object\n",
      " 3   revenue        1197 non-null   int64 \n",
      " 4   group          1197 non-null   object\n",
      "dtypes: int64(3), object(2)\n",
      "memory usage: 46.9+ KB\n"
     ]
    }
   ],
   "source": [
    "orders.info() # ознакомимся с данными датасета orders"
   ]
  },
  {
   "cell_type": "code",
   "execution_count": 8,
   "metadata": {},
   "outputs": [
    {
     "name": "stdout",
     "output_type": "stream",
     "text": [
      "<class 'pandas.core.frame.DataFrame'>\n",
      "RangeIndex: 62 entries, 0 to 61\n",
      "Data columns (total 3 columns):\n",
      " #   Column    Non-Null Count  Dtype \n",
      "---  ------    --------------  ----- \n",
      " 0   date      62 non-null     object\n",
      " 1   group     62 non-null     object\n",
      " 2   visitors  62 non-null     int64 \n",
      "dtypes: int64(1), object(2)\n",
      "memory usage: 1.6+ KB\n"
     ]
    }
   ],
   "source": [
    "visitors.info() # ознакомимся с данными датасета visitors"
   ]
  },
  {
   "cell_type": "markdown",
   "metadata": {},
   "source": [
    "**Выводы:** походу выполнения раздела \"Обзор данных\" были импортированы необходимые библиотеки для работы с ними в дальнейшем. Были загружены датасеты в переменные hypothesis, orders и visitors. Также были выведены первые 5 строк каждого датасета на экран, для ознакомления с данными. После применения метода info() к каждому датасету, было обнаружено, что:\n",
    "* в датасете orders строка date имеет тип данных object, необходимо перевести в тип datetime;\n",
    "* в датасете visitors строка date имеет тип данных object, необходимо перевести в тип datetime;\n",
    "* необходимо привести колонки к нижнему регистру, такие как: transactionId и visitorId в датасете orders."
   ]
  },
  {
   "cell_type": "markdown",
   "metadata": {},
   "source": [
    "# Предобработка данных:"
   ]
  },
  {
   "cell_type": "markdown",
   "metadata": {},
   "source": [
    "**Приведение столбцов к нижнему регистру и замена пробелов на нижний знак подчеркивания:**"
   ]
  },
  {
   "cell_type": "code",
   "execution_count": 9,
   "metadata": {},
   "outputs": [],
   "source": [
    "hypothesis.columns = [x.lower().replace(' ', '_') for x in hypothesis.columns.values]\n",
    "orders.columns = [x.lower().replace(' ', '_') for x in orders.columns.values]\n",
    "visitors.columns = [x.lower().replace(' ', '_') for x in visitors.columns.values]"
   ]
  },
  {
   "cell_type": "code",
   "execution_count": 10,
   "metadata": {},
   "outputs": [
    {
     "data": {
      "text/plain": [
       "Index(['hypothesis', 'reach', 'impact', 'confidence', 'efforts'], dtype='object')"
      ]
     },
     "execution_count": 10,
     "metadata": {},
     "output_type": "execute_result"
    }
   ],
   "source": [
    "hypothesis.columns # посмотрим на результат датасета hypothesis"
   ]
  },
  {
   "cell_type": "code",
   "execution_count": 11,
   "metadata": {},
   "outputs": [
    {
     "data": {
      "text/plain": [
       "Index(['transactionid', 'visitorid', 'date', 'revenue', 'group'], dtype='object')"
      ]
     },
     "execution_count": 11,
     "metadata": {},
     "output_type": "execute_result"
    }
   ],
   "source": [
    "orders.columns # посмотрим на результат датасета orders"
   ]
  },
  {
   "cell_type": "code",
   "execution_count": 12,
   "metadata": {},
   "outputs": [
    {
     "data": {
      "text/plain": [
       "Index(['date', 'group', 'visitors'], dtype='object')"
      ]
     },
     "execution_count": 12,
     "metadata": {},
     "output_type": "execute_result"
    }
   ],
   "source": [
    "visitors.columns # посмотрим на результат датасета costs"
   ]
  },
  {
   "cell_type": "markdown",
   "metadata": {},
   "source": [
    "**В датасетах столбцы имеют тип данных object, которые необходимо перевести в тип datetime:**"
   ]
  },
  {
   "cell_type": "code",
   "execution_count": 13,
   "metadata": {},
   "outputs": [],
   "source": [
    "orders['date'] = pd.to_datetime(orders['date']) # перевод столбца date датасета orders в тип данных datetime\n",
    "visitors['date'] = pd.to_datetime(visitors['date']) # перевод столбца date датасета visitors в тип данных datetime"
   ]
  },
  {
   "cell_type": "markdown",
   "metadata": {},
   "source": [
    "**Посмотрим на количество пропущенных значений в датасетах:**"
   ]
  },
  {
   "cell_type": "code",
   "execution_count": 14,
   "metadata": {},
   "outputs": [
    {
     "data": {
      "text/plain": [
       "hypothesis    0\n",
       "reach         0\n",
       "impact        0\n",
       "confidence    0\n",
       "efforts       0\n",
       "dtype: int64"
      ]
     },
     "execution_count": 14,
     "metadata": {},
     "output_type": "execute_result"
    }
   ],
   "source": [
    "hypothesis.isna().sum() # выведем количество пропущенных значений для каждого столбца датасета hypothesis"
   ]
  },
  {
   "cell_type": "code",
   "execution_count": 15,
   "metadata": {},
   "outputs": [
    {
     "data": {
      "text/plain": [
       "transactionid    0\n",
       "visitorid        0\n",
       "date             0\n",
       "revenue          0\n",
       "group            0\n",
       "dtype: int64"
      ]
     },
     "execution_count": 15,
     "metadata": {},
     "output_type": "execute_result"
    }
   ],
   "source": [
    "orders.isna().sum() # выведем количество пропущенных значений для каждого столбца датасета orders"
   ]
  },
  {
   "cell_type": "code",
   "execution_count": 16,
   "metadata": {},
   "outputs": [
    {
     "data": {
      "text/plain": [
       "date        0\n",
       "group       0\n",
       "visitors    0\n",
       "dtype: int64"
      ]
     },
     "execution_count": 16,
     "metadata": {},
     "output_type": "execute_result"
    }
   ],
   "source": [
    "visitors.isna().sum() # выведем количество пропущенных значений для каждого столбца датасета visitors"
   ]
  },
  {
   "cell_type": "markdown",
   "metadata": {},
   "source": [
    "Пропущенные значения в данных отсутствуют."
   ]
  },
  {
   "cell_type": "markdown",
   "metadata": {},
   "source": [
    "**Проверка на явные дубликаты:**"
   ]
  },
  {
   "cell_type": "code",
   "execution_count": 17,
   "metadata": {},
   "outputs": [
    {
     "name": "stdout",
     "output_type": "stream",
     "text": [
      "Количетво явных дубликатов в файле hypothesis: 0\n"
     ]
    }
   ],
   "source": [
    "print('Количетво явных дубликатов в файле hypothesis:', hypothesis.duplicated().sum())"
   ]
  },
  {
   "cell_type": "code",
   "execution_count": 18,
   "metadata": {},
   "outputs": [
    {
     "name": "stdout",
     "output_type": "stream",
     "text": [
      "Количетво явных дубликатов в файле orders: 0\n"
     ]
    }
   ],
   "source": [
    "print('Количетво явных дубликатов в файле orders:', orders.duplicated().sum())"
   ]
  },
  {
   "cell_type": "code",
   "execution_count": 19,
   "metadata": {},
   "outputs": [
    {
     "name": "stdout",
     "output_type": "stream",
     "text": [
      "Количетво явных дубликатов в файле visitors: 0\n"
     ]
    }
   ],
   "source": [
    "print('Количетво явных дубликатов в файле visitors:', visitors.duplicated().sum())"
   ]
  },
  {
   "cell_type": "markdown",
   "metadata": {},
   "source": [
    "**Изучим данные датасета hypothesis:**"
   ]
  },
  {
   "cell_type": "markdown",
   "metadata": {},
   "source": [
    "Построим гистограммы по данным столбцов:"
   ]
  },
  {
   "cell_type": "code",
   "execution_count": 20,
   "metadata": {},
   "outputs": [
    {
     "data": {
      "image/png": "[encoded data removed]",
      "text/plain": [
       "<Figure size 1080x1080 with 4 Axes>"
      ]
     },
     "metadata": {
      "needs_background": "light"
     },
     "output_type": "display_data"
    }
   ],
   "source": [
    "hypothesis.hist(figsize = (15, 15));"
   ]
  },
  {
   "cell_type": "markdown",
   "metadata": {},
   "source": [
    "Посмотрим на уникальные значения столбцов датасета и их количество:"
   ]
  },
  {
   "cell_type": "code",
   "execution_count": 21,
   "metadata": {},
   "outputs": [
    {
     "data": {
      "text/plain": [
       "array(['Добавить два новых канала привлечения трафика, что позволит привлекать на 30% больше пользователей',\n",
       "       'Запустить собственную службу доставки, что сократит срок доставки заказов',\n",
       "       'Добавить блоки рекомендаций товаров на сайт интернет магазина, чтобы повысить конверсию и средний чек заказа',\n",
       "       'Изменить структура категорий, что увеличит конверсию, т.к. пользователи быстрее найдут нужный товар',\n",
       "       'Изменить цвет фона главной страницы, чтобы увеличить вовлеченность пользователей',\n",
       "       'Добавить страницу отзывов клиентов о магазине, что позволит увеличить количество заказов',\n",
       "       'Показать на главной странице баннеры с актуальными акциями и распродажами, чтобы увеличить конверсию',\n",
       "       'Добавить форму подписки на все основные страницы, чтобы собрать базу клиентов для email-рассылок',\n",
       "       'Запустить акцию, дающую скидку на товар в день рождения'],\n",
       "      dtype=object)"
      ]
     },
     "metadata": {},
     "output_type": "display_data"
    },
    {
     "data": {
      "text/plain": [
       "Добавить два новых канала привлечения трафика, что позволит привлекать на 30% больше пользователей              1\n",
       "Запустить собственную службу доставки, что сократит срок доставки заказов                                       1\n",
       "Добавить блоки рекомендаций товаров на сайт интернет магазина, чтобы повысить конверсию и средний чек заказа    1\n",
       "Изменить структура категорий, что увеличит конверсию, т.к. пользователи быстрее найдут нужный товар             1\n",
       "Изменить цвет фона главной страницы, чтобы увеличить вовлеченность пользователей                                1\n",
       "Добавить страницу отзывов клиентов о магазине, что позволит увеличить количество заказов                        1\n",
       "Показать на главной странице баннеры с актуальными акциями и распродажами, чтобы увеличить конверсию            1\n",
       "Добавить форму подписки на все основные страницы, чтобы собрать базу клиентов для email-рассылок                1\n",
       "Запустить акцию, дающую скидку на товар в день рождения                                                         1\n",
       "Name: hypothesis, dtype: int64"
      ]
     },
     "metadata": {},
     "output_type": "display_data"
    },
    {
     "data": {
      "text/plain": [
       "9"
      ]
     },
     "metadata": {},
     "output_type": "display_data"
    }
   ],
   "source": [
    "display(hypothesis['hypothesis'].unique()) # посмотрим уникальные значения столбца hypothesis\n",
    "display(hypothesis['hypothesis'].value_counts())\n",
    "display(hypothesis['hypothesis'].count())"
   ]
  },
  {
   "cell_type": "code",
   "execution_count": 22,
   "metadata": {},
   "outputs": [
    {
     "data": {
      "text/plain": [
       "array([ 3,  2,  8,  5, 10,  1], dtype=int64)"
      ]
     },
     "metadata": {},
     "output_type": "display_data"
    },
    {
     "data": {
      "text/plain": [
       "3     3\n",
       "8     2\n",
       "2     1\n",
       "5     1\n",
       "10    1\n",
       "1     1\n",
       "Name: reach, dtype: int64"
      ]
     },
     "metadata": {},
     "output_type": "display_data"
    },
    {
     "data": {
      "text/plain": [
       "9"
      ]
     },
     "metadata": {},
     "output_type": "display_data"
    }
   ],
   "source": [
    "display(hypothesis['reach'].unique()) # посмотрим уникальные значения столбца reach\n",
    "display(hypothesis['reach'].value_counts())\n",
    "display(hypothesis['reach'].count())"
   ]
  },
  {
   "cell_type": "code",
   "execution_count": 23,
   "metadata": {},
   "outputs": [
    {
     "data": {
      "text/plain": [
       "array([10,  5,  3,  1,  2,  7,  9], dtype=int64)"
      ]
     },
     "metadata": {},
     "output_type": "display_data"
    },
    {
     "data": {
      "text/plain": [
       "3     3\n",
       "10    1\n",
       "5     1\n",
       "1     1\n",
       "2     1\n",
       "7     1\n",
       "9     1\n",
       "Name: impact, dtype: int64"
      ]
     },
     "metadata": {},
     "output_type": "display_data"
    },
    {
     "data": {
      "text/plain": [
       "9"
      ]
     },
     "metadata": {},
     "output_type": "display_data"
    }
   ],
   "source": [
    "display(hypothesis['impact'].unique()) # посмотрим уникальные значения столбца impact\n",
    "display(hypothesis['impact'].value_counts())\n",
    "display(hypothesis['impact'].count())"
   ]
  },
  {
   "cell_type": "code",
   "execution_count": 24,
   "metadata": {},
   "outputs": [
    {
     "data": {
      "text/plain": [
       "array([8, 4, 7, 3, 1, 2, 9], dtype=int64)"
      ]
     },
     "metadata": {},
     "output_type": "display_data"
    },
    {
     "data": {
      "text/plain": [
       "8    3\n",
       "4    1\n",
       "7    1\n",
       "3    1\n",
       "1    1\n",
       "2    1\n",
       "9    1\n",
       "Name: confidence, dtype: int64"
      ]
     },
     "metadata": {},
     "output_type": "display_data"
    },
    {
     "data": {
      "text/plain": [
       "9"
      ]
     },
     "metadata": {},
     "output_type": "display_data"
    }
   ],
   "source": [
    "display(hypothesis['confidence'].unique()) # посмотрим уникальные значения столбца confidence\n",
    "display(hypothesis['confidence'].value_counts())\n",
    "display(hypothesis['confidence'].count())"
   ]
  },
  {
   "cell_type": "code",
   "execution_count": 25,
   "metadata": {},
   "outputs": [
    {
     "data": {
      "text/plain": [
       "array([ 6, 10,  3,  8,  1,  5], dtype=int64)"
      ]
     },
     "metadata": {},
     "output_type": "display_data"
    },
    {
     "data": {
      "text/plain": [
       "3     3\n",
       "5     2\n",
       "6     1\n",
       "10    1\n",
       "8     1\n",
       "1     1\n",
       "Name: efforts, dtype: int64"
      ]
     },
     "metadata": {},
     "output_type": "display_data"
    },
    {
     "data": {
      "text/plain": [
       "9"
      ]
     },
     "metadata": {},
     "output_type": "display_data"
    }
   ],
   "source": [
    "display(hypothesis['efforts'].unique()) # посмотрим уникальные значения столбца efforts\n",
    "display(hypothesis['efforts'].value_counts())\n",
    "display(hypothesis['efforts'].count())"
   ]
  },
  {
   "cell_type": "markdown",
   "metadata": {},
   "source": [
    "**Изучим данные датасета orders:**"
   ]
  },
  {
   "cell_type": "code",
   "execution_count": 26,
   "metadata": {},
   "outputs": [
    {
     "data": {
      "image/png": "[encoded data removed]",
      "text/plain": [
       "<Figure size 1584x1080 with 4 Axes>"
      ]
     },
     "metadata": {
      "needs_background": "light"
     },
     "output_type": "display_data"
    }
   ],
   "source": [
    "orders.hist(figsize = (22, 15));"
   ]
  },
  {
   "cell_type": "code",
   "execution_count": 27,
   "metadata": {},
   "outputs": [
    {
     "data": {
      "text/plain": [
       "array([3667963787, 2804400009, 2961555356, ..., 1807773912, 1947021204,\n",
       "       3936777065], dtype=int64)"
      ]
     },
     "metadata": {},
     "output_type": "display_data"
    },
    {
     "data": {
      "text/plain": [
       "3667963787    1\n",
       "4167421281    1\n",
       "2875229767    1\n",
       "504373597     1\n",
       "2017680897    1\n",
       "             ..\n",
       "1853288890    1\n",
       "2084190534    1\n",
       "2956594374    1\n",
       "3646798055    1\n",
       "3936777065    1\n",
       "Name: transactionid, Length: 1197, dtype: int64"
      ]
     },
     "metadata": {},
     "output_type": "display_data"
    },
    {
     "data": {
      "text/plain": [
       "1197"
      ]
     },
     "metadata": {},
     "output_type": "display_data"
    }
   ],
   "source": [
    "display(orders['transactionid'].unique()) # посмотрим уникальные значения столбца transactionid\n",
    "display(orders['transactionid'].value_counts())\n",
    "display(orders['transactionid'].count())"
   ]
  },
  {
   "cell_type": "code",
   "execution_count": 28,
   "metadata": {},
   "outputs": [
    {
     "data": {
      "text/plain": [
       "array([3312258926, 3642806036, 4069496402, ...,  370388673,  573423106,\n",
       "       2108080724], dtype=int64)"
      ]
     },
     "metadata": {},
     "output_type": "display_data"
    },
    {
     "data": {
      "text/plain": [
       "4256040402    11\n",
       "2458001652    11\n",
       "2378935119     9\n",
       "2038680547     8\n",
       "199603092      5\n",
       "              ..\n",
       "2524310328     1\n",
       "2210805728     1\n",
       "2274825520     1\n",
       "1831227158     1\n",
       "2108080724     1\n",
       "Name: visitorid, Length: 1031, dtype: int64"
      ]
     },
     "metadata": {},
     "output_type": "display_data"
    },
    {
     "data": {
      "text/plain": [
       "1197"
      ]
     },
     "metadata": {},
     "output_type": "display_data"
    }
   ],
   "source": [
    "display(orders['visitorid'].unique()) # посмотрим уникальные значения столбца visitorid\n",
    "display(orders['visitorid'].value_counts())\n",
    "display(orders['visitorid'].count())"
   ]
  },
  {
   "cell_type": "code",
   "execution_count": 29,
   "metadata": {},
   "outputs": [
    {
     "data": {
      "text/plain": [
       "array(['2019-08-15T00:00:00.000000000', '2019-08-16T00:00:00.000000000',\n",
       "       '2019-08-01T00:00:00.000000000', '2019-08-22T00:00:00.000000000',\n",
       "       '2019-08-17T00:00:00.000000000', '2019-08-23T00:00:00.000000000',\n",
       "       '2019-08-02T00:00:00.000000000', '2019-08-18T00:00:00.000000000',\n",
       "       '2019-08-24T00:00:00.000000000', '2019-08-03T00:00:00.000000000',\n",
       "       '2019-08-25T00:00:00.000000000', '2019-08-28T00:00:00.000000000',\n",
       "       '2019-08-19T00:00:00.000000000', '2019-08-06T00:00:00.000000000',\n",
       "       '2019-08-26T00:00:00.000000000', '2019-08-29T00:00:00.000000000',\n",
       "       '2019-08-04T00:00:00.000000000', '2019-08-20T00:00:00.000000000',\n",
       "       '2019-08-09T00:00:00.000000000', '2019-08-07T00:00:00.000000000',\n",
       "       '2019-08-30T00:00:00.000000000', '2019-08-05T00:00:00.000000000',\n",
       "       '2019-08-27T00:00:00.000000000', '2019-08-21T00:00:00.000000000',\n",
       "       '2019-08-08T00:00:00.000000000', '2019-08-10T00:00:00.000000000',\n",
       "       '2019-08-31T00:00:00.000000000', '2019-08-11T00:00:00.000000000',\n",
       "       '2019-08-12T00:00:00.000000000', '2019-08-13T00:00:00.000000000',\n",
       "       '2019-08-14T00:00:00.000000000'], dtype='datetime64[ns]')"
      ]
     },
     "metadata": {},
     "output_type": "display_data"
    },
    {
     "data": {
      "text/plain": [
       "2019-08-05    48\n",
       "2019-08-14    47\n",
       "2019-08-12    47\n",
       "2019-08-06    46\n",
       "2019-08-15    46\n",
       "2019-08-01    45\n",
       "2019-08-28    45\n",
       "2019-08-02    44\n",
       "2019-08-27    44\n",
       "2019-08-08    43\n",
       "2019-08-19    43\n",
       "2019-08-29    42\n",
       "2019-08-07    42\n",
       "2019-08-22    41\n",
       "2019-08-09    41\n",
       "2019-08-26    41\n",
       "2019-08-03    40\n",
       "2019-08-23    40\n",
       "2019-08-10    39\n",
       "2019-08-16    38\n",
       "2019-08-21    37\n",
       "2019-08-30    35\n",
       "2019-08-13    35\n",
       "2019-08-04    33\n",
       "2019-08-20    32\n",
       "2019-08-31    32\n",
       "2019-08-24    31\n",
       "2019-08-11    26\n",
       "2019-08-18    26\n",
       "2019-08-17    24\n",
       "2019-08-25    24\n",
       "Name: date, dtype: int64"
      ]
     },
     "metadata": {},
     "output_type": "display_data"
    },
    {
     "data": {
      "text/plain": [
       "1197"
      ]
     },
     "metadata": {},
     "output_type": "display_data"
    }
   ],
   "source": [
    "display(orders['date'].unique()) # посмотрим уникальные значения столбца date\n",
    "display(orders['date'].value_counts())\n",
    "display(orders['date'].count())"
   ]
  },
  {
   "cell_type": "code",
   "execution_count": 30,
   "metadata": {},
   "outputs": [
    {
     "data": {
      "text/plain": [
       "array([   1650,     730,     400,    9759,    2308,    2210,    1860,\n",
       "          1044,   13710,    1855,    4008,    4499,    7370,   11985,\n",
       "         10980,   15277,    1060,     990,   16490,    1190,     300,\n",
       "          1050,     632,   15185,    7555,    3488,    7620,    5280,\n",
       "           700,     190,     383,    1680,   22785,    2355,    2470,\n",
       "          6250,   19260,     610,    2986,    1090,    9290,    2480,\n",
       "          3000,    2140,    3590,    6990,    1250,    2970,   18100,\n",
       "           100,    2750,     570,    2978,    1440,    7860,   56650,\n",
       "           790,    1350,    2540,    1710,    2350,   14610,    8999,\n",
       "         10510,   29499,     780,     890,    4400,   32350,   40740,\n",
       "          2490,    2080,    5400,    5100,    4020,     690,   12350,\n",
       "          1290,     382,    2110,    1490,   17868,    1940,   26550,\n",
       "          5970,     987,    9024,    5555,    7129,    3240,    2995,\n",
       "          2550,   17600,     850,    5365,    8390,    5870,    5020,\n",
       "         14489,    8470,    1630,    5800,     172,    6230,     760,\n",
       "          3390,    4480,    1139,   12336,    1450,    7990,    5099,\n",
       "          9400,    6441,    3070,    6145,   53904,    6922,    5190,\n",
       "          6976,    7690,     426,   28490,     390,     299,    6329,\n",
       "          8800,    2990,    9448,    2920,    9980,    1790,    4970,\n",
       "          3760,    8090,   11990,   18900,    6420,    1990,     650,\n",
       "           436,    1038,    1780,    3564,    3340,    5480,   38160,\n",
       "          2800,    3040,     995,    3210,     310,    2090,    3468,\n",
       "           778,    5740,    4580,    1840,    1550,   17990,     290,\n",
       "          6940,    1690,    5369,   11115,     165,    2646,    2220,\n",
       "          2190,    2845,    1799,    1498,    9850,    6700,     500,\n",
       "          2640,    4717,   30649,    5640,    2820,   17422,   14155,\n",
       "          4185,   10960,    1140,    1310,    1380,   10791,    9310,\n",
       "          3470,    2955,   15850,   27550,   15485,    6201,    2320,\n",
       "           599,     660,    6149,    2938,   10590,     110,   12810,\n",
       "          9880,     920,   15417,     950,    2339,    3190,    2360,\n",
       "         16950,   34340,    1620,   14271,    1920,     380,    8240,\n",
       "           282,   10970,     170,    1922,   14400,   19538,   10450,\n",
       "          2290,    1830,   33970,    1100,    4877,   12680,     860,\n",
       "          3354,    1000,    6890,    4299,   12562,     420,   23750,\n",
       "          6350,     490,   22040,    2950,    2342,    5622,    7485,\n",
       "          1200,    2057,      76,    1900,    2690,   20219,    4195,\n",
       "           830,    2330,    2526,    1435,    1460,     250,    6194,\n",
       "          3460,    5070,    8850,    1410,    1758,    1220,    8000,\n",
       "         15072,   41450,    1530,    1390,    4370,    6000,    2580,\n",
       "          5160,    6536,    5000,   14970,    9080,     910,   16770,\n",
       "          2500,    1590,    3990,   20026,   12470,    4980,   16680,\n",
       "         16480,    4780,    3450,    5415,   16279,    2385,     120,\n",
       "          1398,   20990,    5539,     270,   21220,    1253,   12550,\n",
       "           880,    9990,    3890,   19240,    3080,     460,      70,\n",
       "           870,   26980,   13990,   24744,    4500,    8870,     600,\n",
       "           440,     750,    1950,   37550,   31680,    9490,   11249,\n",
       "           470, 1294500,    2630,    4930,    3150,   17650,    5450,\n",
       "          5770,    1575,   20450,   11050,    2000,    2255,    1999,\n",
       "          7300,   18464,    6677,    2890,    6248,    5270,    4485,\n",
       "          7349,    3030,      50,    9232,    9934,    2840,    8990,\n",
       "          8780,    4410,     350,   19280,   13769,    6681,    6260,\n",
       "          1130,   11135,   20100,    2722,    8885,    8585,    1980,\n",
       "         10195,   30990,    2359,     320,    2590,    8250,     580,\n",
       "          5350,    3140,    1910,   17379,    4840,    6930,    5690,\n",
       "          6090,     740,   10440,    4880,    6590,   21550,   33405,\n",
       "          3525,   43990,   13390,     697,    4495,    8401,    6382,\n",
       "          2285,   10485,    6288,   11711,    3950,   25080,    1580,\n",
       "         35485,    9750,   27490,    1510,    1850,    4990,    3650,\n",
       "         33050,    5530,   27600,    1893,   31350,     360,    5249,\n",
       "          6716,    3559,    5790,     604,    3550,     240,    2235,\n",
       "         10550,    4690,   12888,    7995,    3220,     495,     265,\n",
       "          4790,     480,    1721,    2830,     340,    1870,    2670,\n",
       "          2420,    3261,    1634,   39800,   12990,   25890,   18990,\n",
       "          3826,   18010,   10250,   17030,    5119,    9870,   13860,\n",
       "          8877,    4620,   43690,    1846,      90,    4190,   34550,\n",
       "         10765,    7024,    4698,    2030,   78990,   10850,     550,\n",
       "         16990,     620,     654,    6613,   10160,    6400,    6440,\n",
       "         27390,    2050,     540,   42740,    9680,    5150,     410,\n",
       "          3680,    5227,     590,    5776,    2390,   14495,    2070,\n",
       "          2555,   19520,   11688,    4180,    1399,   45880,    3050,\n",
       "           295,   17792,   24381,    1805,   28350,    6170,    3270,\n",
       "          2960,    1020,   10137,   14490,   67990,   86620,    4900,\n",
       "         49495,    3170,   37150,   19660,   45780,   24860,    1737,\n",
       "          1040,    9690,    1149,    5490,    1640,     840,   12490,\n",
       "          4740,    3480,     785,    7890,    2600,    3739,     900,\n",
       "          3888,    1993,   13770,   20290,    2578,    5330,    5719,\n",
       "          2436,    5030,    4210,    2400,    8099,    1540,    6242,\n",
       "         18560,     150,    4600,   13740,    2790,   19990,     980,\n",
       "          1120,   15416,    3410,    5840,    4170,   10170,     985,\n",
       "         22950,    1180,    1188,    2674,    4710,   18270,     770,\n",
       "         93940,    7110,   12642,    4920,    3290,   35890,    4363,\n",
       "          6445,   58220,    3740,    3500,    1600,    1420,    1729,\n",
       "          3250,     450,   11440,    4188,     530,   13354,   17300,\n",
       "          2180,     160,    1960,     359,     510,   19386,      75,\n",
       "          1885,    4040,   25790,   13203,    2250,   34990,    3430,\n",
       "         19490,     720,      60,    7390,    3910,   58550,     800,\n",
       "          7240,   18350,   18463,    3330,    6660,    4283,   60450,\n",
       "         24350,    9050,    5170,   28750,   11250,    1730,    5900,\n",
       "          2348,    3600,    1320,    3806,    2907,     971,   14990,\n",
       "           640,    8290,    5430,     820,    4685,    2610,   14250,\n",
       "           130,   52900,    3490,    4390,    9800,   13070,   15500,\n",
       "          6674,    3404,   18557,    8439,    8340,   27985,    6645,\n",
       "          8640,    6060,    1720,   15450,    1800,    8950,    8280,\n",
       "          1825,    5688,    4240,    2061,   12150,    1280,    8777,\n",
       "          9300,    8590,    6015,    1170,    4650,   39500,    6585,\n",
       "          5050,   14000,   32610,   16920,   65710,     725,    6438,\n",
       "         66350,    3320,   11490,    7500,    7550,   11565,    2752,\n",
       "         28060,    1707,    6780,    5390,    3260,   17940,   24990,\n",
       "          3980,    8529,    5440,    2510,   18893,   92550,   52480,\n",
       "          4140,    3520,    3180,    4120,     370,    6385,    9368,\n",
       "          3780,    1329,    3020,    6180,   25250,    4940,   10380,\n",
       "         15380,     112,   31550,    8600,    6490,  202740], dtype=int64)"
      ]
     },
     "metadata": {},
     "output_type": "display_data"
    },
    {
     "data": {
      "text/plain": [
       "990       17\n",
       "390       13\n",
       "890       13\n",
       "400       10\n",
       "1490      10\n",
       "          ..\n",
       "70         1\n",
       "3080       1\n",
       "19240      1\n",
       "3890       1\n",
       "202740     1\n",
       "Name: revenue, Length: 713, dtype: int64"
      ]
     },
     "metadata": {},
     "output_type": "display_data"
    },
    {
     "data": {
      "text/plain": [
       "1197"
      ]
     },
     "metadata": {},
     "output_type": "display_data"
    }
   ],
   "source": [
    "display(orders['revenue'].unique()) # посмотрим уникальные значения столбца revenue\n",
    "display(orders['revenue'].value_counts())\n",
    "display(orders['revenue'].count())"
   ]
  },
  {
   "cell_type": "code",
   "execution_count": 31,
   "metadata": {},
   "outputs": [
    {
     "data": {
      "text/plain": [
       "array(['B', 'A'], dtype=object)"
      ]
     },
     "metadata": {},
     "output_type": "display_data"
    },
    {
     "data": {
      "text/plain": [
       "B    640\n",
       "A    557\n",
       "Name: group, dtype: int64"
      ]
     },
     "metadata": {},
     "output_type": "display_data"
    },
    {
     "data": {
      "text/plain": [
       "1197"
      ]
     },
     "metadata": {},
     "output_type": "display_data"
    }
   ],
   "source": [
    "display(orders['group'].unique()) # посмотрим уникальные значения столбца group\n",
    "display(orders['group'].value_counts())\n",
    "display(orders['group'].count())"
   ]
  },
  {
   "cell_type": "markdown",
   "metadata": {},
   "source": [
    "**Изучим данные датасета visitors:**"
   ]
  },
  {
   "cell_type": "code",
   "execution_count": 32,
   "metadata": {},
   "outputs": [
    {
     "data": {
      "image/png": "[encoded data removed]",
      "text/plain": [
       "<Figure size 1440x576 with 2 Axes>"
      ]
     },
     "metadata": {
      "needs_background": "light"
     },
     "output_type": "display_data"
    }
   ],
   "source": [
    "visitors.hist(figsize = (20, 8));"
   ]
  },
  {
   "cell_type": "code",
   "execution_count": 33,
   "metadata": {},
   "outputs": [
    {
     "data": {
      "text/plain": [
       "array(['2019-08-01T00:00:00.000000000', '2019-08-02T00:00:00.000000000',\n",
       "       '2019-08-03T00:00:00.000000000', '2019-08-04T00:00:00.000000000',\n",
       "       '2019-08-05T00:00:00.000000000', '2019-08-06T00:00:00.000000000',\n",
       "       '2019-08-07T00:00:00.000000000', '2019-08-08T00:00:00.000000000',\n",
       "       '2019-08-09T00:00:00.000000000', '2019-08-10T00:00:00.000000000',\n",
       "       '2019-08-11T00:00:00.000000000', '2019-08-12T00:00:00.000000000',\n",
       "       '2019-08-13T00:00:00.000000000', '2019-08-14T00:00:00.000000000',\n",
       "       '2019-08-15T00:00:00.000000000', '2019-08-16T00:00:00.000000000',\n",
       "       '2019-08-17T00:00:00.000000000', '2019-08-18T00:00:00.000000000',\n",
       "       '2019-08-19T00:00:00.000000000', '2019-08-20T00:00:00.000000000',\n",
       "       '2019-08-21T00:00:00.000000000', '2019-08-22T00:00:00.000000000',\n",
       "       '2019-08-23T00:00:00.000000000', '2019-08-24T00:00:00.000000000',\n",
       "       '2019-08-25T00:00:00.000000000', '2019-08-26T00:00:00.000000000',\n",
       "       '2019-08-27T00:00:00.000000000', '2019-08-28T00:00:00.000000000',\n",
       "       '2019-08-29T00:00:00.000000000', '2019-08-30T00:00:00.000000000',\n",
       "       '2019-08-31T00:00:00.000000000'], dtype='datetime64[ns]')"
      ]
     },
     "metadata": {},
     "output_type": "display_data"
    },
    {
     "data": {
      "text/plain": [
       "2019-08-01    2\n",
       "2019-08-17    2\n",
       "2019-08-30    2\n",
       "2019-08-29    2\n",
       "2019-08-28    2\n",
       "2019-08-27    2\n",
       "2019-08-26    2\n",
       "2019-08-25    2\n",
       "2019-08-24    2\n",
       "2019-08-23    2\n",
       "2019-08-22    2\n",
       "2019-08-21    2\n",
       "2019-08-20    2\n",
       "2019-08-19    2\n",
       "2019-08-18    2\n",
       "2019-08-16    2\n",
       "2019-08-02    2\n",
       "2019-08-15    2\n",
       "2019-08-14    2\n",
       "2019-08-13    2\n",
       "2019-08-12    2\n",
       "2019-08-11    2\n",
       "2019-08-10    2\n",
       "2019-08-09    2\n",
       "2019-08-08    2\n",
       "2019-08-07    2\n",
       "2019-08-06    2\n",
       "2019-08-05    2\n",
       "2019-08-04    2\n",
       "2019-08-03    2\n",
       "2019-08-31    2\n",
       "Name: date, dtype: int64"
      ]
     },
     "metadata": {},
     "output_type": "display_data"
    },
    {
     "data": {
      "text/plain": [
       "62"
      ]
     },
     "metadata": {},
     "output_type": "display_data"
    }
   ],
   "source": [
    "display(visitors['date'].unique()) # посмотрим уникальные значения столбца date\n",
    "display(visitors['date'].value_counts())\n",
    "display(visitors['date'].count())"
   ]
  },
  {
   "cell_type": "code",
   "execution_count": 34,
   "metadata": {},
   "outputs": [
    {
     "data": {
      "text/plain": [
       "array(['A', 'B'], dtype=object)"
      ]
     },
     "metadata": {},
     "output_type": "display_data"
    },
    {
     "data": {
      "text/plain": [
       "A    31\n",
       "B    31\n",
       "Name: group, dtype: int64"
      ]
     },
     "metadata": {},
     "output_type": "display_data"
    },
    {
     "data": {
      "text/plain": [
       "62"
      ]
     },
     "metadata": {},
     "output_type": "display_data"
    }
   ],
   "source": [
    "display(visitors['group'].unique()) # посмотрим уникальные значения столбца group\n",
    "display(visitors['group'].value_counts())\n",
    "display(visitors['group'].count())"
   ]
  },
  {
   "cell_type": "code",
   "execution_count": 35,
   "metadata": {},
   "outputs": [
    {
     "data": {
      "text/plain": [
       "array([719, 619, 507, 717, 756, 667, 644, 610, 617, 406, 718, 595, 748,\n",
       "       735, 628, 361, 412, 668, 502, 575, 646, 609, 468, 395, 621, 722,\n",
       "       711, 594, 577, 490, 699, 713, 581, 509, 770, 707, 655, 709, 654,\n",
       "       369, 721, 543, 769, 746, 544, 413, 421, 737, 487, 560, 656, 650,\n",
       "       546, 378, 679, 676, 720, 531], dtype=int64)"
      ]
     },
     "metadata": {},
     "output_type": "display_data"
    },
    {
     "data": {
      "text/plain": [
       "490    2\n",
       "610    2\n",
       "654    2\n",
       "718    2\n",
       "544    1\n",
       "581    1\n",
       "509    1\n",
       "770    1\n",
       "707    1\n",
       "655    1\n",
       "709    1\n",
       "369    1\n",
       "721    1\n",
       "543    1\n",
       "769    1\n",
       "746    1\n",
       "413    1\n",
       "699    1\n",
       "421    1\n",
       "737    1\n",
       "487    1\n",
       "560    1\n",
       "656    1\n",
       "650    1\n",
       "546    1\n",
       "378    1\n",
       "679    1\n",
       "676    1\n",
       "720    1\n",
       "713    1\n",
       "719    1\n",
       "619    1\n",
       "361    1\n",
       "507    1\n",
       "717    1\n",
       "756    1\n",
       "667    1\n",
       "644    1\n",
       "617    1\n",
       "406    1\n",
       "595    1\n",
       "748    1\n",
       "735    1\n",
       "628    1\n",
       "412    1\n",
       "577    1\n",
       "668    1\n",
       "502    1\n",
       "575    1\n",
       "646    1\n",
       "609    1\n",
       "468    1\n",
       "395    1\n",
       "621    1\n",
       "722    1\n",
       "711    1\n",
       "594    1\n",
       "531    1\n",
       "Name: visitors, dtype: int64"
      ]
     },
     "metadata": {},
     "output_type": "display_data"
    },
    {
     "data": {
      "text/plain": [
       "62"
      ]
     },
     "metadata": {},
     "output_type": "display_data"
    }
   ],
   "source": [
    "display(visitors['visitors'].unique()) # посмотрим уникальные значения столбца visitors\n",
    "display(visitors['visitors'].value_counts())\n",
    "display(visitors['visitors'].count())"
   ]
  },
  {
   "cell_type": "markdown",
   "metadata": {},
   "source": [
    "**Вывод:** в ходе выполнения раздела \"Предобработка данных\" было приведение столбцов к нижнему регистру и замена пробелов на нижний знак подчеркивания. Перевод столбцов в необходимые типы данных. Было произведено исследование на наличие явных дубликатов и пропусков значений, явные дубликаты и пропуски значений не были обнаружены. Также были изучены данные датасетов: hypothesis, orders и visitors."
   ]
  },
  {
   "cell_type": "markdown",
   "metadata": {},
   "source": [
    "# Часть 1. Приоритизация гипотез:\n",
    "**Задачи:**\n",
    "\n",
    "1. Примените фреймворк ICE для приоритизации гипотез. Отсортируйте их по убыванию приоритета;\n",
    "2. Примените фреймворк RICE для приоритизации гипотез. Отсортируйте их по убыванию приоритета;\n",
    "3. Укажите, как изменилась приоритизация гипотез при применении RICE вместо ICE. Объясните, почему так произошло."
   ]
  },
  {
   "cell_type": "markdown",
   "metadata": {},
   "source": [
    "## Применение фреймворка ICE(сортировка по убыванию приоритета):"
   ]
  },
  {
   "cell_type": "code",
   "execution_count": 36,
   "metadata": {},
   "outputs": [
    {
     "data": {
      "text/html": [
       "<div>\n",
       "<style scoped>\n",
       "    .dataframe tbody tr th:only-of-type {\n",
       "        vertical-align: middle;\n",
       "    }\n",
       "\n",
       "    .dataframe tbody tr th {\n",
       "        vertical-align: top;\n",
       "    }\n",
       "\n",
       "    .dataframe thead th {\n",
       "        text-align: right;\n",
       "    }\n",
       "</style>\n",
       "<table border=\"1\" class=\"dataframe\">\n",
       "  <thead>\n",
       "    <tr style=\"text-align: right;\">\n",
       "      <th></th>\n",
       "      <th>ICE</th>\n",
       "      <th>hypothesis</th>\n",
       "    </tr>\n",
       "  </thead>\n",
       "  <tbody>\n",
       "    <tr>\n",
       "      <th>8</th>\n",
       "      <td>16.2</td>\n",
       "      <td>Запустить акцию, дающую скидку на товар в день рождения</td>\n",
       "    </tr>\n",
       "    <tr>\n",
       "      <th>0</th>\n",
       "      <td>13.3</td>\n",
       "      <td>Добавить два новых канала привлечения трафика, что позволит привлекать на 30% больше пользователей</td>\n",
       "    </tr>\n",
       "    <tr>\n",
       "      <th>7</th>\n",
       "      <td>11.2</td>\n",
       "      <td>Добавить форму подписки на все основные страницы, чтобы собрать базу клиентов для email-рассылок</td>\n",
       "    </tr>\n",
       "    <tr>\n",
       "      <th>6</th>\n",
       "      <td>8.0</td>\n",
       "      <td>Показать на главной странице баннеры с актуальными акциями и распродажами, чтобы увеличить конверсию</td>\n",
       "    </tr>\n",
       "    <tr>\n",
       "      <th>2</th>\n",
       "      <td>7.0</td>\n",
       "      <td>Добавить блоки рекомендаций товаров на сайт интернет магазина, чтобы повысить конверсию и средний чек заказа</td>\n",
       "    </tr>\n",
       "    <tr>\n",
       "      <th>1</th>\n",
       "      <td>2.0</td>\n",
       "      <td>Запустить собственную службу доставки, что сократит срок доставки заказов</td>\n",
       "    </tr>\n",
       "    <tr>\n",
       "      <th>5</th>\n",
       "      <td>1.3</td>\n",
       "      <td>Добавить страницу отзывов клиентов о магазине, что позволит увеличить количество заказов</td>\n",
       "    </tr>\n",
       "    <tr>\n",
       "      <th>3</th>\n",
       "      <td>1.1</td>\n",
       "      <td>Изменить структура категорий, что увеличит конверсию, т.к. пользователи быстрее найдут нужный товар</td>\n",
       "    </tr>\n",
       "    <tr>\n",
       "      <th>4</th>\n",
       "      <td>1.0</td>\n",
       "      <td>Изменить цвет фона главной страницы, чтобы увеличить вовлеченность пользователей</td>\n",
       "    </tr>\n",
       "  </tbody>\n",
       "</table>\n",
       "</div>"
      ],
      "text/plain": [
       "    ICE  \\\n",
       "8  16.2   \n",
       "0  13.3   \n",
       "7  11.2   \n",
       "6   8.0   \n",
       "2   7.0   \n",
       "1   2.0   \n",
       "5   1.3   \n",
       "3   1.1   \n",
       "4   1.0   \n",
       "\n",
       "                                                                                                     hypothesis  \n",
       "8                                                       Запустить акцию, дающую скидку на товар в день рождения  \n",
       "0            Добавить два новых канала привлечения трафика, что позволит привлекать на 30% больше пользователей  \n",
       "7              Добавить форму подписки на все основные страницы, чтобы собрать базу клиентов для email-рассылок  \n",
       "6          Показать на главной странице баннеры с актуальными акциями и распродажами, чтобы увеличить конверсию  \n",
       "2  Добавить блоки рекомендаций товаров на сайт интернет магазина, чтобы повысить конверсию и средний чек заказа  \n",
       "1                                     Запустить собственную службу доставки, что сократит срок доставки заказов  \n",
       "5                      Добавить страницу отзывов клиентов о магазине, что позволит увеличить количество заказов  \n",
       "3           Изменить структура категорий, что увеличит конверсию, т.к. пользователи быстрее найдут нужный товар  \n",
       "4                              Изменить цвет фона главной страницы, чтобы увеличить вовлеченность пользователей  "
      ]
     },
     "metadata": {},
     "output_type": "display_data"
    }
   ],
   "source": [
    "pd.options.display.max_colwidth = 120\n",
    "hypothesis['ICE'] = ((hypothesis['impact'] * hypothesis['confidence']) / hypothesis['efforts']).round(1)\n",
    "display(hypothesis[['ICE', 'hypothesis']].sort_values(by = 'ICE', ascending = False))"
   ]
  },
  {
   "cell_type": "markdown",
   "metadata": {},
   "source": [
    "## Применение фреймворка RICE(сортировка по убыванию приоритета):"
   ]
  },
  {
   "cell_type": "code",
   "execution_count": 37,
   "metadata": {},
   "outputs": [
    {
     "data": {
      "text/html": [
       "<div>\n",
       "<style scoped>\n",
       "    .dataframe tbody tr th:only-of-type {\n",
       "        vertical-align: middle;\n",
       "    }\n",
       "\n",
       "    .dataframe tbody tr th {\n",
       "        vertical-align: top;\n",
       "    }\n",
       "\n",
       "    .dataframe thead th {\n",
       "        text-align: right;\n",
       "    }\n",
       "</style>\n",
       "<table border=\"1\" class=\"dataframe\">\n",
       "  <thead>\n",
       "    <tr style=\"text-align: right;\">\n",
       "      <th></th>\n",
       "      <th>RICE</th>\n",
       "      <th>hypothesis</th>\n",
       "      <th>reach</th>\n",
       "    </tr>\n",
       "  </thead>\n",
       "  <tbody>\n",
       "    <tr>\n",
       "      <th>7</th>\n",
       "      <td>112</td>\n",
       "      <td>Добавить форму подписки на все основные страницы, чтобы собрать базу клиентов для email-рассылок</td>\n",
       "      <td>10</td>\n",
       "    </tr>\n",
       "    <tr>\n",
       "      <th>2</th>\n",
       "      <td>56</td>\n",
       "      <td>Добавить блоки рекомендаций товаров на сайт интернет магазина, чтобы повысить конверсию и средний чек заказа</td>\n",
       "      <td>8</td>\n",
       "    </tr>\n",
       "    <tr>\n",
       "      <th>0</th>\n",
       "      <td>40</td>\n",
       "      <td>Добавить два новых канала привлечения трафика, что позволит привлекать на 30% больше пользователей</td>\n",
       "      <td>3</td>\n",
       "    </tr>\n",
       "    <tr>\n",
       "      <th>6</th>\n",
       "      <td>40</td>\n",
       "      <td>Показать на главной странице баннеры с актуальными акциями и распродажами, чтобы увеличить конверсию</td>\n",
       "      <td>5</td>\n",
       "    </tr>\n",
       "    <tr>\n",
       "      <th>8</th>\n",
       "      <td>16</td>\n",
       "      <td>Запустить акцию, дающую скидку на товар в день рождения</td>\n",
       "      <td>1</td>\n",
       "    </tr>\n",
       "    <tr>\n",
       "      <th>3</th>\n",
       "      <td>9</td>\n",
       "      <td>Изменить структура категорий, что увеличит конверсию, т.к. пользователи быстрее найдут нужный товар</td>\n",
       "      <td>8</td>\n",
       "    </tr>\n",
       "    <tr>\n",
       "      <th>1</th>\n",
       "      <td>4</td>\n",
       "      <td>Запустить собственную службу доставки, что сократит срок доставки заказов</td>\n",
       "      <td>2</td>\n",
       "    </tr>\n",
       "    <tr>\n",
       "      <th>5</th>\n",
       "      <td>4</td>\n",
       "      <td>Добавить страницу отзывов клиентов о магазине, что позволит увеличить количество заказов</td>\n",
       "      <td>3</td>\n",
       "    </tr>\n",
       "    <tr>\n",
       "      <th>4</th>\n",
       "      <td>3</td>\n",
       "      <td>Изменить цвет фона главной страницы, чтобы увеличить вовлеченность пользователей</td>\n",
       "      <td>3</td>\n",
       "    </tr>\n",
       "  </tbody>\n",
       "</table>\n",
       "</div>"
      ],
      "text/plain": [
       "   RICE  \\\n",
       "7   112   \n",
       "2    56   \n",
       "0    40   \n",
       "6    40   \n",
       "8    16   \n",
       "3     9   \n",
       "1     4   \n",
       "5     4   \n",
       "4     3   \n",
       "\n",
       "                                                                                                     hypothesis  \\\n",
       "7              Добавить форму подписки на все основные страницы, чтобы собрать базу клиентов для email-рассылок   \n",
       "2  Добавить блоки рекомендаций товаров на сайт интернет магазина, чтобы повысить конверсию и средний чек заказа   \n",
       "0            Добавить два новых канала привлечения трафика, что позволит привлекать на 30% больше пользователей   \n",
       "6          Показать на главной странице баннеры с актуальными акциями и распродажами, чтобы увеличить конверсию   \n",
       "8                                                       Запустить акцию, дающую скидку на товар в день рождения   \n",
       "3           Изменить структура категорий, что увеличит конверсию, т.к. пользователи быстрее найдут нужный товар   \n",
       "1                                     Запустить собственную службу доставки, что сократит срок доставки заказов   \n",
       "5                      Добавить страницу отзывов клиентов о магазине, что позволит увеличить количество заказов   \n",
       "4                              Изменить цвет фона главной страницы, чтобы увеличить вовлеченность пользователей   \n",
       "\n",
       "   reach  \n",
       "7     10  \n",
       "2      8  \n",
       "0      3  \n",
       "6      5  \n",
       "8      1  \n",
       "3      8  \n",
       "1      2  \n",
       "5      3  \n",
       "4      3  "
      ]
     },
     "execution_count": 37,
     "metadata": {},
     "output_type": "execute_result"
    }
   ],
   "source": [
    "hypothesis['RICE'] = ((hypothesis['reach'] * hypothesis['impact'] * hypothesis['confidence']) / hypothesis['efforts']).astype(int)\n",
    "hypothesis[['RICE', 'hypothesis', 'reach']].sort_values(by = 'RICE', ascending = False)"
   ]
  },
  {
   "cell_type": "markdown",
   "metadata": {},
   "source": [
    "## Указание, как изменилась приоритизация гипотез при применении RICE вместо ICE. Объяснение, почему так произошло:"
   ]
  },
  {
   "cell_type": "markdown",
   "metadata": {},
   "source": [
    "В ходе выполнения раздела \"Часть 1. Приоритизация гипотез\" можно увидеть различия в обеих таблицах, меняется тройка лидеров, в ICE это гипотезы: \"запустить акцию, дающую скидку на товар в день рождения\" (первое место), \"добавить два новых канала привлечения трафика, что позволит привлекать на 30% больше пользователей\" (второе место) и \"добавить форму подписки на все основные страницы, чтобы собрать базу клиентов для email-рассылок\" (третье место). А вот в RICE это гипотезы: \"добавить форму подписки на все основные страницы, чтобы собрать базу клиентов для email-рассылок\" (была на 3 месте), \"добавить блоки рекомендаций товаров на сайт интернет магазина, чтобы повысить конверсию и средний чек заказа (была на 5 месте), \"добавить два новых канала привлечения трафика, что позволит привлекать на 30% больше пользователей\" (была на 2 месте). Лидер таблицы ICE - гипотеза \"запустить акцию, дающую скидку на товар в день рождения\t\" перешла даже 5 позицию. А гипотеза 2 перешла на второе место с пятого. Такие различия связаны с тем, что в RICE учитывается параметр Reach(охват пользователей по 10-балльной шкале), а в гипотеза \"добавить форму подписки на все основные страницы, чтобы собрать базу клиентов для email-рассылок\" и \"добавить блоки рекомендаций товаров на сайт интернет магазина, чтобы повысить конверсию и средний чек заказа\" он имеет очень высокое значение (в \"добавить форму подписки на все основные страницы, чтобы собрать базу клиентов для email-рассылок гипотезе\" он равен 10, т.е. имеет максимальное значение; во второй гипотезе: \"добавить блоки рекомендаций товаров на сайт интернет магазина, чтобы повысить конверсию и средний чек заказа\" он равен 8, что тоже высоко; а вот у лидера ICE - в восьмой гипотезе: \"запустить акцию, дающую скидку на товар в день рождения\" он минимальный и равен 1). Следовательно, лучше всего предложить использовать для тестирования гипотезу под номером 7 (\"добавить форму подписки на все основные страницы, чтобы собрать базу клиентов для email-рассылок\"), либо может быть гипотезу под номером 2 (\"добавить блоки рекомендаций товаров на сайт интернет магазина, чтобы повысить конверсию и средний чек заказа\")."
   ]
  },
  {
   "cell_type": "markdown",
   "metadata": {},
   "source": [
    "# Часть 2. Анализ A/B-теста:\n",
    "**Задачи:**\n",
    "\n",
    "Проанализируйте A/B-тест:\n",
    "1. Постройте график кумулятивной выручки по группам. Сделайте выводы и предположения;\n",
    "2. Постройте график кумулятивного среднего чека по группам. Сделайте выводы и предположения;\n",
    "3. Постройте график относительного изменения кумулятивного среднего чека группы B к группе A. Сделайте выводы и предположения;\n",
    "4. Постройте график кумулятивного среднего количества заказов на посетителя по группам. Сделайте выводы и предположения;\n",
    "5. Постройте график относительного изменения кумулятивного среднего количества заказов на посетителя группы B к группе A. Сделайте выводы и предположения;\n",
    "6. Постройте точечный график количества заказов по пользователям. Сделайте выводы и предположения;\n",
    "7. Посчитайте 95-й и 99-й перцентили количества заказов на пользователя. Выберите границу для определения аномальных пользователей;\n",
    "8. Постройте точечный график стоимостей заказов. Сделайте выводы и предположения;\n",
    "9. Посчитайте 95-й и 99-й перцентили стоимости заказов. Выберите границу для определения аномальных заказов;\n",
    "10. Посчитайте статистическую значимость различий в среднем количестве заказов на посетителя между группами по «сырым» данным. Сделайте выводы и предположения;\n",
    "11. Посчитайте статистическую значимость различий в среднем чеке заказа между группами по «сырым» данным. Сделайте выводы и предположения;\n",
    "12. Посчитайте статистическую значимость различий в среднем количестве заказов на посетителя между группами по «очищенным» данным. Сделайте выводы и предположения;\n",
    "13. Посчитайте статистическую значимость различий в среднем чеке заказа между группами по «очищенным» данным. Сделайте выводы и предположения;\n",
    "14. Примите решение по результатам теста и объясните его. Варианты решений:\n",
    "        1. Остановить тест, зафиксировать победу одной из групп.\n",
    "        2. Остановить тест, зафиксировать отсутствие различий между группами.\n",
    "        3. Продолжить тест."
   ]
  },
  {
   "cell_type": "markdown",
   "metadata": {},
   "source": [
    "Проверим на идентичность группы в таблицах посетителей и заказов:"
   ]
  },
  {
   "cell_type": "code",
   "execution_count": 38,
   "metadata": {},
   "outputs": [
    {
     "data": {
      "text/html": [
       "<div>\n",
       "<style scoped>\n",
       "    .dataframe tbody tr th:only-of-type {\n",
       "        vertical-align: middle;\n",
       "    }\n",
       "\n",
       "    .dataframe tbody tr th {\n",
       "        vertical-align: top;\n",
       "    }\n",
       "\n",
       "    .dataframe thead th {\n",
       "        text-align: right;\n",
       "    }\n",
       "</style>\n",
       "<table border=\"1\" class=\"dataframe\">\n",
       "  <thead>\n",
       "    <tr style=\"text-align: right;\">\n",
       "      <th></th>\n",
       "      <th>group</th>\n",
       "    </tr>\n",
       "  </thead>\n",
       "  <tbody>\n",
       "    <tr>\n",
       "      <th>0</th>\n",
       "      <td>True</td>\n",
       "    </tr>\n",
       "    <tr>\n",
       "      <th>1</th>\n",
       "      <td>True</td>\n",
       "    </tr>\n",
       "  </tbody>\n",
       "</table>\n",
       "</div>"
      ],
      "text/plain": [
       "   group\n",
       "0   True\n",
       "1   True"
      ]
     },
     "metadata": {},
     "output_type": "display_data"
    }
   ],
   "source": [
    "compare_group = orders[['group']].drop_duplicates().sort_values(by = ['group']).reset_index(drop = True) == \\\n",
    "                visitors[['group']].drop_duplicates().sort_values(by = ['group']).reset_index(drop = True)\n",
    "display(compare_group)"
   ]
  },
  {
   "cell_type": "markdown",
   "metadata": {},
   "source": [
    "**1. Построение графика кумулятивной выручки по группам:**"
   ]
  },
  {
   "cell_type": "code",
   "execution_count": 39,
   "metadata": {},
   "outputs": [
    {
     "data": {
      "image/png": "[encoded data removed]",
      "text/plain": [
       "<Figure size 1152x576 with 1 Axes>"
      ]
     },
     "metadata": {
      "needs_background": "light"
     },
     "output_type": "display_data"
    }
   ],
   "source": [
    "# создаем массив уникальных пар значений дат и групп теста\n",
    "datesGroups = orders[['date','group']].drop_duplicates()\n",
    "\n",
    "# получаем агрегированные кумулятивные по дням данные о заказах \n",
    "ordersAggregated = datesGroups.apply(lambda x: orders[np.logical_and(orders['date'] <= x['date'], orders['group'] == x['group'])]\\\n",
    ".agg({'date' : 'max', 'group' : 'max', 'transactionid' : pd.Series.nunique, 'visitorid' : pd.Series.nunique, 'revenue' : 'sum'}), axis = 1).sort_values(by = ['date','group'])\n",
    "\n",
    "# получаем агрегированные кумулятивные по дням данные о посетителях интернет-магазина\n",
    "visitorsAggregated = datesGroups.apply(lambda x: visitors[np.logical_and(visitors['date'] <= x['date'], visitors['group'] == x['group'])]\\\n",
    ".agg({'date' : 'max', 'group' : 'max', 'visitors' : 'sum'}), axis=1).sort_values(by = ['date','group'])\n",
    "\n",
    "# объединяем кумулятивные данные в одной таблице и присваиваем ее столбцам понятные названия\n",
    "cumulativeData = ordersAggregated.merge(visitorsAggregated, left_on = ['date', 'group'], right_on = ['date', 'group'])\n",
    "cumulativeData.columns = ['date', 'group', 'orders', 'buyers', 'revenue', 'visitors']\n",
    "\n",
    "# датафрейм с кумулятивным количеством заказов и кумулятивной выручкой по дням в группе А\n",
    "cumulativeRevenueA = cumulativeData[cumulativeData['group'] == 'A'][['date', 'revenue', 'orders']]\n",
    "\n",
    "# датафрейм с кумулятивным количеством заказов и кумулятивной выручкой по дням в группе B\n",
    "cumulativeRevenueB = cumulativeData[cumulativeData['group'] == 'B'][['date', 'revenue', 'orders']]\n",
    "\n",
    "plt.figure(figsize = (16, 8))\n",
    "plt.grid()\n",
    "plt.title('График кумулятивной выручки по группам')\n",
    "plt.xlabel('Дата')\n",
    "plt.ylabel('Кумулятивная выручка')\n",
    "\n",
    "# Строим график выручки группы А\n",
    "plt.plot(cumulativeRevenueA['date'], cumulativeRevenueA['revenue'], label = 'Выручка для группы A')\n",
    "\n",
    "# Строим график выручки группы B\n",
    "plt.plot(cumulativeRevenueB['date'], cumulativeRevenueB['revenue'], label = 'Выручка для группы B')\n",
    "\n",
    "plt.legend();"
   ]
  },
  {
   "cell_type": "markdown",
   "metadata": {},
   "source": [
    "**Вывод:** из графика можно увидеть, что 13 августа кумулятивные выручки группы A и B приблизительно равны, а далее начинается значительный рост выручки группы B, относительно группы A. Хотя до этого момента их выручки держались приблизительно на одном уровне. Можно увидеть большой рост выручки у группы B где-то 18-19 августа, это может быть связано с крупными заказами в эти дни, что и повлияло на сильный скачек кумулятивной выручки для группы B."
   ]
  },
  {
   "cell_type": "markdown",
   "metadata": {},
   "source": [
    "**2. Построение графика кумулятивного среднего чека по группам:**"
   ]
  },
  {
   "cell_type": "code",
   "execution_count": 40,
   "metadata": {},
   "outputs": [
    {
     "data": {
      "image/png": "[encoded data removed]",
      "text/plain": [
       "<Figure size 1152x576 with 1 Axes>"
      ]
     },
     "metadata": {
      "needs_background": "light"
     },
     "output_type": "display_data"
    }
   ],
   "source": [
    "plt.figure(figsize = (16, 8))\n",
    "plt.grid()\n",
    "plt.title('График кумулятивного среднего чека по группам')\n",
    "plt.xlabel('Дата')\n",
    "plt.ylabel('Кумулятивное среднее чека')\n",
    "\n",
    "plt.plot(cumulativeRevenueA['date'], cumulativeRevenueA['revenue'] / cumulativeRevenueA['orders'], label = 'Кумулятивное среднее чека для группы A')\n",
    "plt.plot(cumulativeRevenueB['date'], cumulativeRevenueB['revenue'] / cumulativeRevenueB['orders'], label = 'Кумулятивное среднее чека для группы B')\n",
    "plt.legend();"
   ]
  },
  {
   "cell_type": "markdown",
   "metadata": {},
   "source": [
    "Отобразим тот же график до явного выброса:"
   ]
  },
  {
   "cell_type": "code",
   "execution_count": 41,
   "metadata": {},
   "outputs": [
    {
     "data": {
      "image/png": "[encoded data removed]",
      "text/plain": [
       "<Figure size 1152x576 with 1 Axes>"
      ]
     },
     "metadata": {
      "needs_background": "light"
     },
     "output_type": "display_data"
    }
   ],
   "source": [
    "new_cumulativeRevenueA = cumulativeRevenueA.query('orders < 350')\n",
    "new_cumulativeRevenueB = cumulativeRevenueB.query('orders < 400')\n",
    "\n",
    "plt.figure(figsize = (16, 8))\n",
    "plt.grid()\n",
    "plt.title('График кумулятивного среднего чека по группам')\n",
    "plt.xlabel('Дата')\n",
    "plt.ylabel('Кумулятивное среднее чека')\n",
    "\n",
    "plt.plot(new_cumulativeRevenueA['date'], new_cumulativeRevenueA['revenue'] / new_cumulativeRevenueA['orders'], label = 'Кумулятивное среднее чека для группы A')\n",
    "plt.plot(new_cumulativeRevenueB['date'], new_cumulativeRevenueB['revenue'] / new_cumulativeRevenueB['orders'], label = 'Кумулятивное среднее чека для группы B')\n",
    "plt.legend();"
   ]
  },
  {
   "cell_type": "markdown",
   "metadata": {},
   "source": [
    "**Вывод:** из графика можно увидеть что, где-то до 11 августа у группы B средний чек был больше, а 11 августа значение кумулятотивного среднего чека по группам - было одинаково для группы A и B. Далее на короткий период группа A обогнала группу B. И уже после 18-19 августа произошел сильный скачек среднего чека для группы B, и до конца периода он был больше, нежели у группы A. Но также важно отметить, что со временем средний чек для группы B в итоге со временем снижался, а у группы A он незначительно плавно рос. В данном случае причиной такого роста оказался, тот же возможный пример, описанный одним пунктом ранее."
   ]
  },
  {
   "cell_type": "markdown",
   "metadata": {},
   "source": [
    "**3. Построение графика относительного изменения кумулятивного среднего чека группы B к группе A:**"
   ]
  },
  {
   "cell_type": "code",
   "execution_count": 42,
   "metadata": {},
   "outputs": [
    {
     "data": {
      "image/png": "[encoded data removed]",
      "text/plain": [
       "<Figure size 1152x576 with 1 Axes>"
      ]
     },
     "metadata": {
      "needs_background": "light"
     },
     "output_type": "display_data"
    }
   ],
   "source": [
    "plt.figure(figsize = (16, 8))\n",
    "plt.grid()\n",
    "plt.title('График относительного изменения кумулятивного среднего чека группы B к группе A')\n",
    "plt.xlabel('Дата')\n",
    "plt.ylabel('Относительного изменение кумулятивного среднего чека группы B к группе A')\n",
    "\n",
    "# собираем данные в одном датафрейме\n",
    "mergedCumulativeRevenue = cumulativeRevenueA.merge(cumulativeRevenueB, left_on = 'date', right_on = 'date', how = 'left', suffixes = ['A', 'B'])\n",
    "\n",
    "# cтроим отношение средних чеков\n",
    "plt.plot(mergedCumulativeRevenue['date'], (mergedCumulativeRevenue['revenueB'] / mergedCumulativeRevenue['ordersB']) / (mergedCumulativeRevenue['revenueA'] / mergedCumulativeRevenue['ordersA']) - 1)\n",
    "\n",
    "# добавляем ось X\n",
    "plt.axhline(y = 0, color = 'black', linestyle = '--');"
   ]
  },
  {
   "cell_type": "markdown",
   "metadata": {},
   "source": [
    "**Вывод:** из графика можно сделать вывод, средний чек группы B также рос 1 августа, а 2 августа уже даже превысил группу A и рос до 7 августа. А вот 7 и 8 августа пошло понижение до 13 августа, где принимает минимальное значение. Далее, начиная с 13 августа чек группы B начал расти и уже 15 августа, был важный момент, на следующий день чек группы B стал больше группы A, аж до конца месяца. Также видно сильный рост за счет большого заказа, с аномально большим объемом, но все же в следующие дни чек группы B постепенно снижался."
   ]
  },
  {
   "cell_type": "markdown",
   "metadata": {},
   "source": [
    "**4. Построение графика кумулятивного среднего количества заказов на посетителя по группам:**"
   ]
  },
  {
   "cell_type": "code",
   "execution_count": 43,
   "metadata": {},
   "outputs": [
    {
     "data": {
      "image/png": "[encoded data removed]",
      "text/plain": [
       "<Figure size 1152x576 with 1 Axes>"
      ]
     },
     "metadata": {
      "needs_background": "light"
     },
     "output_type": "display_data"
    }
   ],
   "source": [
    "plt.figure(figsize = (16, 8))\n",
    "plt.grid()\n",
    "plt.title('График кумулятивного среднего количества заказов на посетителя по группам')\n",
    "plt.xlabel('Дата')\n",
    "plt.ylabel('Кумулятивноое среднее количества заказов')\n",
    "\n",
    "# считаем кумулятивную конверсию\n",
    "cumulativeData['conversion'] = cumulativeData['orders'] / cumulativeData['visitors']\n",
    "\n",
    "# отделяем данные по группе A\n",
    "cumulativeDataA = cumulativeData[cumulativeData['group'] == 'A']\n",
    "\n",
    "# отделяем данные по группе B\n",
    "cumulativeDataB = cumulativeData[cumulativeData['group'] == 'B']\n",
    "\n",
    "# строим графики\n",
    "plt.plot(cumulativeDataA['date'], cumulativeDataA['conversion'], label = 'Кумулятивноое среднее количества заказов для группы A')\n",
    "plt.plot(cumulativeDataB['date'], cumulativeDataB['conversion'], label = 'Кумулятивноое среднее количества заказов для группы B')\n",
    "plt.legend();"
   ]
  },
  {
   "cell_type": "markdown",
   "metadata": {},
   "source": [
    "**Вывод:** из графика можно сделать вывод, что с начала месяца среднее число заказов 1-5 августа группы A была намного больше, по сравнению с группой B, что даже 3 августа она приняла максимальное значение за весь период. А вот после пика она начала сильно снижаться, а уже начиная с 9 августа стала принимать минимальные значения в районе 0,029 - 0,031. Среднее число заказов у группы B с 4 августа, наоборот, начала расти и даже 6 августа обогнала среднее число заказов группы A, и росло до 10 августа, и далее пошло постепенное снижение, с небольшим подъемом 15-17 августа. Отсюда напрашивается логичный вывод, что среднее число заказов группы B в целом намного лучше группы A, особенно начиная с 6 августа (оно постоянно выше по сравнению с другой группой)."
   ]
  },
  {
   "cell_type": "markdown",
   "metadata": {},
   "source": [
    "**5. Построение графика относительного изменения кумулятивного среднего количества заказов на посетителя группы B к группе A:**"
   ]
  },
  {
   "cell_type": "code",
   "execution_count": 44,
   "metadata": {},
   "outputs": [
    {
     "data": {
      "image/png": "[encoded data removed]",
      "text/plain": [
       "<Figure size 1152x576 with 1 Axes>"
      ]
     },
     "metadata": {
      "needs_background": "light"
     },
     "output_type": "display_data"
    }
   ],
   "source": [
    "plt.figure(figsize = (16, 8))\n",
    "plt.grid()\n",
    "plt.title('График относительного изменения кумулятивного среднего количества заказов на посетителя группы B к группе A')\n",
    "plt.xlabel('Дата')\n",
    "plt.ylabel('Относительное изменение кумулятивного среднего количества заказов на посетителя группы B к группе A')\n",
    "\n",
    "mergedCumulativeConversions = cumulativeDataA[['date','conversion']].merge(cumulativeDataB[['date','conversion']], left_on = 'date', right_on = 'date', how = 'left', suffixes = ['A', 'B'])\n",
    "\n",
    "plt.plot(mergedCumulativeConversions['date'], mergedCumulativeConversions['conversionB'] / mergedCumulativeConversions['conversionA'] - 1, label = \"Относительный прирост конверсии группы B относительно группы A\")\n",
    "\n",
    "plt.axhline(y = 0, color = 'black', linestyle = '--')\n",
    "plt.axhline(y = 0.1, color = 'grey', linestyle = '--')\n",
    "plt.legend();"
   ]
  },
  {
   "cell_type": "markdown",
   "metadata": {},
   "source": [
    "**Вывод:** из графика можно сделать вывод, что 1 по 5 августа несколько дней конверсия группы A была больше конверсии группы B на 5-10%. Но вот в данный период, а именно 2 августа был сильный подъем конверсии в группе B, и в итоге конверсия группы B была на 5% больше конверсии группы A. Также важно сказать, что 2 августа был сильный рост конверсий в этих двух группах, возможно, была какая-то реклама либо большие скидки. А вот начиная с 6 августа, группа B над группой A уже лидировала до конца рассматриваемого периода. Ей конверсия росла до 15 августа, и превышала конверсию группы A до 21%, затем уже опять пошло небольшое снижение, но все равно группа B лидировала."
   ]
  },
  {
   "cell_type": "markdown",
   "metadata": {},
   "source": [
    "**6. Построение точечного графика количества заказов по пользователям:**"
   ]
  },
  {
   "cell_type": "code",
   "execution_count": 45,
   "metadata": {},
   "outputs": [
    {
     "data": {
      "image/png": "[encoded data removed]",
      "text/plain": [
       "<Figure size 1152x576 with 1 Axes>"
      ]
     },
     "metadata": {
      "needs_background": "light"
     },
     "output_type": "display_data"
    }
   ],
   "source": [
    "# подсчитаем количество заказов по пользователям\n",
    "ordersByUsers = (\n",
    "    orders.groupby('visitorid', as_index = False)\n",
    "    .agg({'transactionid': 'nunique'})\n",
    ")\n",
    "\n",
    "ordersByUsers.columns = ['userId', 'orders']\n",
    "\n",
    "plt.figure(figsize = (16, 8))\n",
    "plt.grid()\n",
    "plt.title('Точечный график количества заказов по пользователям')\n",
    "plt.xlabel('Пользователи')\n",
    "plt.ylabel('Количество заказов')\n",
    "\n",
    "x_values = pd.Series(range(0, len(ordersByUsers)))\n",
    "plt.scatter(x_values, ordersByUsers['orders']);"
   ]
  },
  {
   "cell_type": "markdown",
   "metadata": {},
   "source": [
    "**Вывод:** из точечного графика можно сделать вывод, что больше всего пользователей, которые совершили один заказ. Пользователей, которые совершили два заказа уже намного меньше. А тех, кто совершил три заказа, уже очень мало. А все что более  3 заказов можно считать аномалией."
   ]
  },
  {
   "cell_type": "markdown",
   "metadata": {},
   "source": [
    "**7. Подсчет 95-й и 99-й перцентилей количества заказов на пользователя. Выбор границы для определения аномальных пользователей:**"
   ]
  },
  {
   "cell_type": "code",
   "execution_count": 46,
   "metadata": {},
   "outputs": [
    {
     "name": "stdout",
     "output_type": "stream",
     "text": [
      "95-й и 99-й перцентилей количества заказов на пользователя: [2. 4.]\n"
     ]
    }
   ],
   "source": [
    "# посчитаем выборочные перцентили количества заказов на одного пользователя\n",
    "print('95-й и 99-й перцентилей количества заказов на пользователя:', np.percentile(ordersByUsers['orders'], [95, 99])) "
   ]
  },
  {
   "cell_type": "markdown",
   "metadata": {},
   "source": [
    "Для определения более точной границы аномальных пользователей, рассчитаем все процентили с 95 по 99, а также 1 и 50:"
   ]
  },
  {
   "cell_type": "code",
   "execution_count": 47,
   "metadata": {},
   "outputs": [
    {
     "name": "stdout",
     "output_type": "stream",
     "text": [
      "[1. 1. 2. 2. 2. 3. 4.]\n"
     ]
    }
   ],
   "source": [
    "print(np.percentile(ordersByUsers['orders'], [1, 50, 95, 96, 97, 98, 99])) "
   ]
  },
  {
   "cell_type": "code",
   "execution_count": 48,
   "metadata": {},
   "outputs": [],
   "source": [
    "border_orders = 2"
   ]
  },
  {
   "cell_type": "markdown",
   "metadata": {},
   "source": [
    "**Вывод:** теперь можно увидеть, что подавляющее большинство пользователей, а именно 97 % делают от 1 до 2 заказов. Все что больше можно считать аномальными пользователями."
   ]
  },
  {
   "cell_type": "markdown",
   "metadata": {},
   "source": [
    "**8. Построение точечного графика стоимостей заказов:**"
   ]
  },
  {
   "cell_type": "code",
   "execution_count": 49,
   "metadata": {},
   "outputs": [
    {
     "data": {
      "image/png": "[encoded data removed]",
      "text/plain": [
       "<Figure size 1152x576 with 1 Axes>"
      ]
     },
     "metadata": {
      "needs_background": "light"
     },
     "output_type": "display_data"
    }
   ],
   "source": [
    "plt.figure(figsize = (16, 8))\n",
    "plt.grid()\n",
    "plt.title('Точечный график стоимостей заказов')\n",
    "plt.xlabel('Пользователи')\n",
    "plt.ylabel('Стоимость заказов')\n",
    "\n",
    "x_values = pd.Series(range(0, len(orders['revenue'])))\n",
    "plt.scatter(x_values, orders['revenue']);"
   ]
  },
  {
   "cell_type": "markdown",
   "metadata": {},
   "source": [
    "Построим более наглядный график, для это уберем явные выбросы с 'revenue' большим 150000:"
   ]
  },
  {
   "cell_type": "code",
   "execution_count": 50,
   "metadata": {},
   "outputs": [
    {
     "data": {
      "image/png": "[encoded data removed]",
      "text/plain": [
       "<Figure size 1152x576 with 1 Axes>"
      ]
     },
     "metadata": {
      "needs_background": "light"
     },
     "output_type": "display_data"
    }
   ],
   "source": [
    "new_orders = orders[orders['revenue'] <= 150000]['revenue']\n",
    "\n",
    "plt.figure(figsize = (16, 8))\n",
    "plt.grid()\n",
    "plt.title('Точечный график стоимостей заказов')\n",
    "plt.xlabel('Пользователи')\n",
    "plt.ylabel('Стоимость заказов')\n",
    "\n",
    "x_values = pd.Series(range(0, len(new_orders)))\n",
    "plt.scatter(x_values, new_orders);"
   ]
  },
  {
   "cell_type": "markdown",
   "metadata": {},
   "source": [
    "**Вывод:** из точечного графика можно сделать вывод, что заказ №425 на почти 1.3 млн и еще есть один на приблизительно 0.2 млн., остальные явно не больше 100 тысяч. "
   ]
  },
  {
   "cell_type": "markdown",
   "metadata": {},
   "source": [
    "**9. Подсчет 95-й и 99-й перцентилей стоимости заказов. Выбор границы для определения аномальных заказов:**"
   ]
  },
  {
   "cell_type": "code",
   "execution_count": 51,
   "metadata": {},
   "outputs": [
    {
     "name": "stdout",
     "output_type": "stream",
     "text": [
      "95-й и 99-й перцентилей стоимости заказов: [28000.  58233.2]\n"
     ]
    }
   ],
   "source": [
    "print('95-й и 99-й перцентилей стоимости заказов:', np.percentile(orders['revenue'], [95, 99])) "
   ]
  },
  {
   "cell_type": "markdown",
   "metadata": {},
   "source": [
    "Для определения более точной границы аномальных заказов, рассчитаем все процентили с 95 по 99, а также 1 и 50:"
   ]
  },
  {
   "cell_type": "code",
   "execution_count": 52,
   "metadata": {},
   "outputs": [
    {
     "name": "stdout",
     "output_type": "stream",
     "text": [
      "[  100.   2978.  28000.  31382.  35485.  44133.2 58233.2]\n"
     ]
    }
   ],
   "source": [
    "print(np.percentile(orders['revenue'], [1, 50, 95, 96, 97, 98, 99])) "
   ]
  },
  {
   "cell_type": "code",
   "execution_count": 53,
   "metadata": {},
   "outputs": [],
   "source": [
    "border_revenue = 44000"
   ]
  },
  {
   "cell_type": "markdown",
   "metadata": {},
   "source": [
    "**Вывод:** можно увидеть, более 98 % заказов до 44 тыс. Установим границу в определении аномальных заказов - все что выше 44 тыс. - аномальные заказы."
   ]
  },
  {
   "cell_type": "markdown",
   "metadata": {},
   "source": [
    "**10. Подсчет статистической значимости различий в среднем количестве заказов на посетителя между группами по «сырым» данным:**"
   ]
  },
  {
   "cell_type": "markdown",
   "metadata": {},
   "source": [
    "Подготовим данные:"
   ]
  },
  {
   "cell_type": "code",
   "execution_count": 54,
   "metadata": {},
   "outputs": [
    {
     "name": "stdout",
     "output_type": "stream",
     "text": [
      "        date  ordersPerDateA  revenuePerDateA  ordersPerDateB  \\\n",
      "0 2019-08-01              24           148579              21   \n",
      "1 2019-08-02              20            93822              24   \n",
      "2 2019-08-03              24           112473              16   \n",
      "3 2019-08-04              16            70825              17   \n",
      "4 2019-08-05              25           124218              23   \n",
      "\n",
      "   revenuePerDateB  ordersCummulativeA  revenueCummulativeA  \\\n",
      "0           101217                  24               148579   \n",
      "1           165531                  44               242401   \n",
      "2           114248                  68               354874   \n",
      "3           108571                  84               425699   \n",
      "4            92428                 109               549917   \n",
      "\n",
      "   ordersCummulativeB  revenueCummulativeB  visitorsPerDateA  \\\n",
      "0                  21               101217               719   \n",
      "1                  45               266748               619   \n",
      "2                  61               380996               507   \n",
      "3                  78               489567               717   \n",
      "4                 101               581995               756   \n",
      "\n",
      "   visitorsPerDateB  visitorsCummulativeA  visitorsCummulativeB  \n",
      "0               713                   719                   713  \n",
      "1               581                  1338                  1294  \n",
      "2               509                  1845                  1803  \n",
      "3               770                  2562                  2573  \n",
      "4               707                  3318                  3280  \n"
     ]
    }
   ],
   "source": [
    "visitorsADaily = visitors[visitors['group'] == 'A'][['date', 'visitors']]\n",
    "visitorsADaily.columns = ['date', 'visitorsPerDateA']\n",
    "\n",
    "visitorsACummulative = visitorsADaily.apply(\n",
    "    lambda x: visitorsADaily[visitorsADaily['date'] <= x['date']].agg(\n",
    "        {'date': 'max', 'visitorsPerDateA': 'sum'}\n",
    "    ),\n",
    "    axis = 1,\n",
    ")\n",
    "visitorsACummulative.columns = ['date', 'visitorsCummulativeA']\n",
    "\n",
    "visitorsBDaily = visitors[visitors['group'] == 'B'][['date', 'visitors']]\n",
    "visitorsBDaily.columns = ['date', 'visitorsPerDateB']\n",
    "\n",
    "visitorsBCummulative = visitorsBDaily.apply(\n",
    "    lambda x: visitorsBDaily[visitorsBDaily['date'] <= x['date']].agg(\n",
    "        {'date': 'max', 'visitorsPerDateB': 'sum'}\n",
    "    ),\n",
    "    axis = 1,\n",
    ")\n",
    "visitorsBCummulative.columns = ['date', 'visitorsCummulativeB']\n",
    "\n",
    "ordersADaily = (\n",
    "    orders[orders['group'] == 'A'][['date', 'transactionid', 'visitorid', 'revenue']]\n",
    "    .groupby('date', as_index = False)\n",
    "    .agg({'transactionid': pd.Series.nunique, 'revenue': 'sum'})\n",
    ")\n",
    "ordersADaily.columns = ['date', 'ordersPerDateA', 'revenuePerDateA']\n",
    "\n",
    "ordersACummulative = ordersADaily.apply(\n",
    "    lambda x: ordersADaily[ordersADaily['date'] <= x['date']].agg(\n",
    "        {'date': 'max', 'ordersPerDateA': 'sum', 'revenuePerDateA': 'sum'}\n",
    "    ),\n",
    "    axis = 1,\n",
    ").sort_values(by = ['date'])\n",
    "ordersACummulative.columns = [\n",
    "    'date',\n",
    "    'ordersCummulativeA',\n",
    "    'revenueCummulativeA',\n",
    "]\n",
    "\n",
    "ordersBDaily = (\n",
    "    orders[orders['group'] == 'B'][['date', 'transactionid', 'visitorid', 'revenue']]\n",
    "    .groupby('date', as_index = False)\n",
    "    .agg({'transactionid': pd.Series.nunique, 'revenue': 'sum'})\n",
    ")\n",
    "ordersBDaily.columns = ['date', 'ordersPerDateB', 'revenuePerDateB']\n",
    "\n",
    "ordersBCummulative = ordersBDaily.apply(\n",
    "    lambda x: ordersBDaily[ordersBDaily['date'] <= x['date']].agg(\n",
    "        {'date': 'max', 'ordersPerDateB': 'sum', 'revenuePerDateB': 'sum'}\n",
    "    ),\n",
    "    axis = 1,\n",
    ").sort_values(by = ['date'])\n",
    "ordersBCummulative.columns = [\n",
    "    'date',\n",
    "    'ordersCummulativeB',\n",
    "    'revenueCummulativeB',\n",
    "]\n",
    "\n",
    "data = (\n",
    "    ordersADaily.merge(\n",
    "        ordersBDaily, left_on = 'date', right_on = 'date', how = 'left'\n",
    "    )\n",
    "    .merge(ordersACummulative, left_on = 'date', right_on = 'date', how = 'left')\n",
    "    .merge(ordersBCummulative, left_on = 'date', right_on = 'date', how = 'left')\n",
    "    .merge(visitorsADaily, left_on = 'date', right_on = 'date', how = 'left')\n",
    "    .merge(visitorsBDaily, left_on = 'date', right_on = 'date', how = 'left')\n",
    "    .merge(visitorsACummulative, left_on = 'date', right_on = 'date', how = 'left')\n",
    "    .merge(visitorsBCummulative, left_on = 'date', right_on = 'date', how = 'left')\n",
    ")\n",
    "\n",
    "print(data.head(5)) "
   ]
  },
  {
   "cell_type": "markdown",
   "metadata": {},
   "source": [
    "Названия столбцов данных:\n",
    "* date — дата;\n",
    "* ordersPerDateA — количество заказов в выбранную дату в группе A;\n",
    "* revenuePerDateA — суммарная выручка в выбранную дату в группе A;\n",
    "* ordersPerDateB — количество заказов в выбранную дату в группе B;\n",
    "* revenuePerDateB — суммарная выручка в выбранную дату в группе B;\n",
    "* ordersCummulativeA — суммарное число заказов до выбранной даты включительно в группе A;\n",
    "* revenueCummulativeA — суммарная выручка до выбранной даты включительно в группе A;\n",
    "* ordersCummulativeB — суммарное количество заказов до выбранной даты включительно в группе B;\n",
    "* revenueCummulativeB — суммарная выручка до выбранной даты включительно в группе B;\n",
    "* visitorsPerDateA — количество пользователей в выбранную дату в группе A;\n",
    "* visitorsPerDateB — количество пользователей в выбранную дату в группе B;\n",
    "* visitorsCummulativeA — количество пользователей до выбранной даты включительно в группе A;\n",
    "* visitorsCummulativeB — количество пользователей до выбранной даты включительно в группе B."
   ]
  },
  {
   "cell_type": "markdown",
   "metadata": {},
   "source": [
    "Посчитаем статистическую значимость различия в среднем количестве заказов между группами.\n",
    "\n",
    "Создадим переменные ordersByUsersA и ordersByUsersB со столбцами ['userId', 'orders']. В них для пользователей, которые заказывали хотя бы 1 раз, укажем число совершённых заказов. "
   ]
  },
  {
   "cell_type": "code",
   "execution_count": 55,
   "metadata": {},
   "outputs": [],
   "source": [
    "ordersByUsersA = (\n",
    "    orders[orders['group'] == 'A']\n",
    "    .groupby('visitorid', as_index=False)\n",
    "    .agg({'transactionid': pd.Series.nunique})\n",
    ")\n",
    "ordersByUsersA.columns = ['userId', 'orders']\n",
    "\n",
    "ordersByUsersB = (\n",
    "    orders[orders['group'] == 'B']\n",
    "    .groupby('visitorid', as_index=False)\n",
    "    .agg({'transactionid': pd.Series.nunique})\n",
    ")\n",
    "ordersByUsersB.columns = ['userId', 'orders']"
   ]
  },
  {
   "cell_type": "markdown",
   "metadata": {},
   "source": [
    "Объявим переменные sampleA и sampleB, в которых пользователям из разных групп будет соответствовать количество заказов. Тем, кто ничего не заказал, будут соответствовать нули. Это нужно, чтобы подготовить выборки к проверке критерием Манна-Уитни:"
   ]
  },
  {
   "cell_type": "markdown",
   "metadata": {},
   "source": [
    "Дальше передадим аргумент, сообщающий, что объекты Series нужно объединить по строкам (то есть записать подряд). То же делаем для sampleB и получаем:"
   ]
  },
  {
   "cell_type": "code",
   "execution_count": 56,
   "metadata": {},
   "outputs": [],
   "source": [
    "sampleA = pd.concat([ordersByUsersA['orders'],pd.Series(0, index=np.arange(data['visitorsPerDateA'].sum() - len(ordersByUsersA['orders'])), name='orders')],axis=0)\n",
    "sampleB = pd.concat([ordersByUsersB['orders'],pd.Series(0, index=np.arange(data['visitorsPerDateB'].sum() - len(ordersByUsersB['orders'])), name='orders')],axis=0)"
   ]
  },
  {
   "cell_type": "markdown",
   "metadata": {},
   "source": [
    "Выведем относительный прирост среднего числа заказов группы B: среднее число заказов группы B / среднее число заказов группы A - 1.  Округлим до трёх знаков после запятой."
   ]
  },
  {
   "cell_type": "code",
   "execution_count": 57,
   "metadata": {},
   "outputs": [
    {
     "name": "stdout",
     "output_type": "stream",
     "text": [
      "p-value: 0.017\n",
      "Относительный показатель: 0.138\n"
     ]
    }
   ],
   "source": [
    "print('p-value:', \"{0:.3f}\".format(stats.mannwhitneyu(sampleA, sampleB)[1]))\n",
    "print('Относительный показатель:', \"{0:.3f}\".format(sampleB.mean() / sampleA.mean() - 1))"
   ]
  },
  {
   "cell_type": "markdown",
   "metadata": {},
   "source": [
    "**Вывод:** так как p-value получился равный 0.017, что меньше alpha, который равен 0.05, следовательно нулевую гипотезу о том, что статистически значимых различий в конверсии между группами нет - мы отвергаем. А относительный выигрыш группы B равен 13.8% — второе число в выводе."
   ]
  },
  {
   "cell_type": "markdown",
   "metadata": {},
   "source": [
    "**11. Подсчет статистической значимости различий в среднем чеке заказа между группами по «сырым» данным:**"
   ]
  },
  {
   "cell_type": "markdown",
   "metadata": {},
   "source": [
    "Теперь проверим статистическую значимость различий в среднем чеке между сегментами. Нулевая гипотеза: различий в среднем чеке между группами нет. Альтернативная гипотеза: различия в среднем чеке между группами есть.\n",
    "\n",
    "Чтобы рассчитать статистическую значимость различий в среднем чеке, передадим критерию mannwhitneyu() данные о выручке с заказов. \n",
    "\n",
    "А ещё найдём относительные различия в среднем чеке между группами:"
   ]
  },
  {
   "cell_type": "code",
   "execution_count": 58,
   "metadata": {},
   "outputs": [
    {
     "name": "stdout",
     "output_type": "stream",
     "text": [
      "p-value: 0.729\n",
      "Относительный показатель: 0.259\n"
     ]
    }
   ],
   "source": [
    "print(\"p-value:\", '{0:.3f}'.format(stats.mannwhitneyu(orders[orders['group'] == 'A']['revenue'], orders[orders['group'] == 'B']['revenue'])[1]))\n",
    "print(\"Относительный показатель:\", '{0:.3f}'.format(orders[orders['group'] == 'B']['revenue'].mean() / orders[orders['group'] == 'A']['revenue'].mean() - 1))"
   ]
  },
  {
   "cell_type": "markdown",
   "metadata": {},
   "source": [
    "**Вывод:** p-value значительно больше 0.05. Так как есть значительная разница в p-value и alpha, то такое наблюдаемое различие связано с единичными выбросами. Значит, причин отвергать нулевую гипотезу и считать, что в среднем чеке есть различия, нет. Если p-value > alpha, то значит средний чек группы B равен среднему чеку группы A (или сильно не отличается) и он не может быть сильно выше среднего чека группы А."
   ]
  },
  {
   "cell_type": "markdown",
   "metadata": {},
   "source": [
    "**12. Подсчет статистической значимости различий в среднем количестве заказов на посетителя между группами по «очищенным» данным:**"
   ]
  },
  {
   "cell_type": "markdown",
   "metadata": {},
   "source": [
    "Примем за аномальных пользователей тех, кто совершил от 5 заказов или совершил заказ дороже 20 000 рублей. Так мы уберём 5% пользователей с наибольшим числом заказов и от 1% до 5% пользователей с дорогими заказами. Сделаем срезы пользователей с числом заказов больше 4 — usersWithManyOrders и пользователей, совершивших заказы дороже 20 000 — usersWithExpensiveOrders. Объединим их в таблице abnormalUsers. \n",
    "Узнаем, сколько всего аномальных пользователей атрибутом shape."
   ]
  },
  {
   "cell_type": "code",
   "execution_count": 59,
   "metadata": {},
   "outputs": [
    {
     "name": "stdout",
     "output_type": "stream",
     "text": [
      "1099    148427295\n",
      "18      199603092\n",
      "23      237748145\n",
      "37      249864742\n",
      "68      457167155\n",
      "dtype: int64\n",
      "40\n"
     ]
    }
   ],
   "source": [
    "usersWithManyOrders = pd.concat(\n",
    "    [\n",
    "        ordersByUsersA[ordersByUsersA['orders'] > border_orders]['userId'],\n",
    "        ordersByUsersB[ordersByUsersB['orders'] > border_orders]['userId'],\n",
    "    ],\n",
    "    axis = 0,\n",
    ")\n",
    "usersWithExpensiveOrders = orders[orders['revenue'] > border_revenue]['visitorid']\n",
    "abnormalUsers = (\n",
    "    pd.concat([usersWithManyOrders, usersWithExpensiveOrders], axis = 0)\n",
    "    .drop_duplicates()\n",
    "    .sort_values()\n",
    ")\n",
    "print(abnormalUsers.head(5))\n",
    "print(abnormalUsers.shape[0])"
   ]
  },
  {
   "cell_type": "markdown",
   "metadata": {},
   "source": [
    "Всего 40 аномальных пользователей. \n",
    "Узнаем, как их действия повлияли на результаты теста. Посчитаем статистическую значимость различий в среднем количестве заказов между группами теста по очищенным данным. Сначала подготовим выборки количества заказов по пользователям по группам теста:"
   ]
  },
  {
   "cell_type": "code",
   "execution_count": 60,
   "metadata": {},
   "outputs": [],
   "source": [
    "sampleAFiltered = pd.concat(\n",
    "    [\n",
    "        ordersByUsersA[\n",
    "            np.logical_not(ordersByUsersA['userId'].isin(abnormalUsers))\n",
    "        ]['orders'],\n",
    "        pd.Series(\n",
    "            0,\n",
    "            index = np.arange(\n",
    "                data['visitorsPerDateA'].sum() - len(ordersByUsersA['orders'])\n",
    "            ),\n",
    "            name = 'orders',\n",
    "        ),\n",
    "    ],\n",
    "    axis = 0,\n",
    ")\n",
    "\n",
    "sampleBFiltered = pd.concat(\n",
    "    [\n",
    "        ordersByUsersB[\n",
    "            np.logical_not(ordersByUsersB['userId'].isin(abnormalUsers))\n",
    "        ]['orders'],\n",
    "        pd.Series(\n",
    "            0,\n",
    "            index = np.arange(\n",
    "                data['visitorsPerDateB'].sum() - len(ordersByUsersB['orders'])\n",
    "            ),\n",
    "            name = 'orders',\n",
    "        ),\n",
    "    ],\n",
    "    axis = 0,\n",
    ")"
   ]
  },
  {
   "cell_type": "markdown",
   "metadata": {},
   "source": [
    "Применим статистический критерий Манна-Уитни к полученным выборкам:"
   ]
  },
  {
   "cell_type": "code",
   "execution_count": 61,
   "metadata": {},
   "outputs": [
    {
     "name": "stdout",
     "output_type": "stream",
     "text": [
      "p-value: 0.007\n",
      "Относительный показатель: 0.185\n"
     ]
    }
   ],
   "source": [
    "print(\"p-value:\", '{0:.3f}'.format(stats.mannwhitneyu(sampleAFiltered, sampleBFiltered)[1]))\n",
    "print(\"Относительный показатель:\", '{0:.3f}'.format(sampleBFiltered.mean() / sampleAFiltered.mean()-1))"
   ]
  },
  {
   "cell_type": "markdown",
   "metadata": {},
   "source": [
    "**Вывод:** p-value равно 0.007, что меньше alpha равное 0.05. Следовательно, можно отвергнуть нулевую гипотезу, которая говорит о том, что статистически значимых различий в конверсии между группами нет. Это характеризует, то что по «очищенным» данным различия в конверсии групп A и B есть. А относительный показатель группы B над группой A равен 18,5% это выше, чем с «сырыми» данными, там он равен 13.8%."
   ]
  },
  {
   "cell_type": "markdown",
   "metadata": {},
   "source": [
    "**13. Подсчет статистической значимости различий в среднем чеке заказа между группами по «очищенным» данным:**"
   ]
  },
  {
   "cell_type": "code",
   "execution_count": 62,
   "metadata": {},
   "outputs": [
    {
     "name": "stdout",
     "output_type": "stream",
     "text": [
      "p-value: 0.994\n",
      "Относительный показатель: 0.037\n"
     ]
    }
   ],
   "source": [
    "print(\"p-value:\", \n",
    "    '{0:.3f}'.format(\n",
    "        stats.mannwhitneyu(\n",
    "            orders[\n",
    "                np.logical_and(\n",
    "                    orders['group'] == 'A',\n",
    "                    np.logical_not(orders['visitorid'].isin(abnormalUsers)),\n",
    "                )\n",
    "            ]['revenue'],\n",
    "            orders[\n",
    "                np.logical_and(\n",
    "                    orders['group'] == 'B',\n",
    "                    np.logical_not(orders['visitorid'].isin(abnormalUsers)),\n",
    "                )\n",
    "            ]['revenue'],\n",
    "        )[1]\n",
    "    )\n",
    ")\n",
    "\n",
    "print(\"Относительный показатель:\", \n",
    "    \"{0:.3f}\".format(\n",
    "        orders[\n",
    "            np.logical_and(\n",
    "                orders['group'] == 'B',\n",
    "                np.logical_not(orders['visitorid'].isin(abnormalUsers)),\n",
    "            )\n",
    "        ]['revenue'].mean()\n",
    "        / orders[\n",
    "            np.logical_and(\n",
    "                orders['group'] == 'A',\n",
    "                np.logical_not(orders['visitorid'].isin(abnormalUsers)),\n",
    "            )\n",
    "        ]['revenue'].mean()\n",
    "        - 1\n",
    "    )\n",
    ")"
   ]
  },
  {
   "cell_type": "markdown",
   "metadata": {},
   "source": [
    "**Вывод:** p-value значительно увеличился с 0.729 до 0.994, но и разница между сегментами сократилась с 26% до 4%. Хотя общие выводы по результатам теста не изменились, такой пример хорошо показывает, как сильно аномалии могут влиять на результаты A/B-теста!\n",
    "p-value значительно больше 0.05, оно равно 994. Значит, причин отвергать нулевую гипотезу и считать, что в среднем чеке есть различия, тоже нет (как и с \"сырыми\" данными)."
   ]
  },
  {
   "cell_type": "markdown",
   "metadata": {},
   "source": [
    "**14. Принятие решения по результатам теста и объяснение его:**\n",
    "\n",
    "В результате проведенного исследования было выявлено, что:\n",
    "* по \"сырым\" и по \"очищенным\" данным есть различия в конверсии группы A и группы B (относительный показатель по \"очищенным\" данным группы B над A равен для 18,5%, а по \"сырым\" данным равен 13.8%; разница между ними равна 4.7%);\n",
    "* по \"сырым\" и по \"очищенным\" данным различия в средних чеках групп A и B есть небольшие, это связано с аномально большим заказом на 1.3 млн, проведенные тесты показывают, что мы не можем утверждать, что эти различия неслучайны.\n",
    "\n",
    "Можно увидеть, что данные по среднему чеку еще не постоянны, если в первую очередь важен этот показатель, то тест необходимо продолжить. Если больше важна конверсия, то тест можно будет прекращать. Так как гипотеза об увлечении конверсии подтвердилась. Если важны оба показателя, то все же я бы посоветовал продолжить тест.\n",
    "\n",
    "По результатам тестирования можно сделать выводы, что можно остановить тестирование и констатировать превосходство группы B над группой A по конверсии, хотя по среднему чеку группы приблизительно равны."
   ]
  },
  {
   "cell_type": "markdown",
   "metadata": {},
   "source": [
    "# Общий вывод:\n",
    "В ходе проделанной работы, можно сказать, что наиболее подходящая гипотеза для увеличении выручки: \"добавить форму подписки на все основные страницы, чтобы собрать базу клиентов для email-рассылок\". Так как данная гипотеза будет иметь наибольший охват людей, и сильно повлияет на пользователей, а требует не очень больших ресурсов.\n",
    "\n",
    "Также можно сделать следующие общие выводы:\n",
    "* есть статистически значимые различия по конверсии между группами по «сырым» и \"очищенным\" данным;\n",
    "* нет статистически значимого различия по среднему чеку между группами по «сырым» и \"очищенным\" данным;\n",
    "* результаты группы B по конверсии, превосходит группу A, и данные показывают, что нет причин для ухудшению результатов;\n",
    "* если брать данные без аномальных значений, то средний чек у групп не отличается."
   ]
  }
 ],
 "metadata": {
  "ExecuteTimeLog": [
   {
    "duration": 1741,
    "start_time": "2023-03-19T15:44:57.058Z"
   },
   {
    "duration": 91,
    "start_time": "2023-03-19T15:45:53.872Z"
   },
   {
    "duration": 3,
    "start_time": "2023-03-19T15:45:57.404Z"
   },
   {
    "duration": 76,
    "start_time": "2023-03-19T15:45:58.053Z"
   },
   {
    "duration": 13,
    "start_time": "2023-03-19T15:46:18.175Z"
   },
   {
    "duration": 81,
    "start_time": "2023-03-19T15:46:27.779Z"
   },
   {
    "duration": 8,
    "start_time": "2023-03-19T15:46:28.721Z"
   },
   {
    "duration": 13,
    "start_time": "2023-03-19T15:46:35.815Z"
   },
   {
    "duration": 8,
    "start_time": "2023-03-19T15:46:44.550Z"
   },
   {
    "duration": 17,
    "start_time": "2023-03-19T15:47:37.154Z"
   },
   {
    "duration": 11,
    "start_time": "2023-03-19T15:47:43.671Z"
   },
   {
    "duration": 15,
    "start_time": "2023-03-19T15:47:50.614Z"
   },
   {
    "duration": 5,
    "start_time": "2023-03-19T15:50:00.681Z"
   },
   {
    "duration": 4,
    "start_time": "2023-03-19T15:50:15.100Z"
   },
   {
    "duration": 4,
    "start_time": "2023-03-19T15:50:24.082Z"
   },
   {
    "duration": 6,
    "start_time": "2023-03-19T15:50:30.325Z"
   },
   {
    "duration": 5,
    "start_time": "2023-03-19T15:54:18.676Z"
   },
   {
    "duration": 15,
    "start_time": "2023-03-19T15:54:28.504Z"
   },
   {
    "duration": 5,
    "start_time": "2023-03-19T15:54:45.911Z"
   },
   {
    "duration": 12,
    "start_time": "2023-03-19T15:55:07.651Z"
   },
   {
    "duration": 8,
    "start_time": "2023-03-19T15:55:15.911Z"
   },
   {
    "duration": 178,
    "start_time": "2023-03-19T15:56:59.197Z"
   },
   {
    "duration": 13,
    "start_time": "2023-03-19T15:57:05.600Z"
   },
   {
    "duration": 5,
    "start_time": "2023-03-19T15:57:12.399Z"
   },
   {
    "duration": 19,
    "start_time": "2023-03-19T15:57:20.718Z"
   },
   {
    "duration": 16,
    "start_time": "2023-03-19T15:57:26.597Z"
   },
   {
    "duration": 4,
    "start_time": "2023-03-19T15:57:42.896Z"
   },
   {
    "duration": 13,
    "start_time": "2023-03-19T15:57:49.313Z"
   },
   {
    "duration": 9,
    "start_time": "2023-03-19T15:57:56.074Z"
   },
   {
    "duration": 6,
    "start_time": "2023-03-19T15:58:12.675Z"
   },
   {
    "duration": 8,
    "start_time": "2023-03-19T15:58:27.974Z"
   },
   {
    "duration": 8,
    "start_time": "2023-03-19T15:58:41.881Z"
   },
   {
    "duration": 5,
    "start_time": "2023-03-19T15:59:19.471Z"
   },
   {
    "duration": 7,
    "start_time": "2023-03-19T15:59:27.574Z"
   },
   {
    "duration": 6,
    "start_time": "2023-03-19T15:59:35.926Z"
   },
   {
    "duration": 559,
    "start_time": "2023-03-19T16:00:16.051Z"
   },
   {
    "duration": 18,
    "start_time": "2023-03-19T16:00:42.099Z"
   },
   {
    "duration": 11,
    "start_time": "2023-03-19T16:01:02.972Z"
   },
   {
    "duration": 11,
    "start_time": "2023-03-19T16:01:49.356Z"
   },
   {
    "duration": 8,
    "start_time": "2023-03-19T16:02:23.513Z"
   },
   {
    "duration": 12,
    "start_time": "2023-03-19T16:02:39.455Z"
   },
   {
    "duration": 8,
    "start_time": "2023-03-19T16:02:54.802Z"
   },
   {
    "duration": 12,
    "start_time": "2023-03-19T16:03:09.951Z"
   },
   {
    "duration": 700,
    "start_time": "2023-03-19T16:03:57.957Z"
   },
   {
    "duration": 11,
    "start_time": "2023-03-19T16:04:28.689Z"
   },
   {
    "duration": 13,
    "start_time": "2023-03-19T16:04:50.699Z"
   },
   {
    "duration": 11,
    "start_time": "2023-03-19T16:05:08.619Z"
   },
   {
    "duration": 14,
    "start_time": "2023-03-19T16:05:27.120Z"
   },
   {
    "duration": 9,
    "start_time": "2023-03-19T16:05:45.802Z"
   },
   {
    "duration": 70,
    "start_time": "2023-03-20T08:07:23.158Z"
   },
   {
    "duration": 1418,
    "start_time": "2023-03-20T08:07:30.510Z"
   },
   {
    "duration": 239,
    "start_time": "2023-03-20T08:07:31.930Z"
   },
   {
    "duration": 14,
    "start_time": "2023-03-20T08:07:32.172Z"
   },
   {
    "duration": 47,
    "start_time": "2023-03-20T08:07:32.190Z"
   },
   {
    "duration": 23,
    "start_time": "2023-03-20T08:07:32.238Z"
   },
   {
    "duration": 34,
    "start_time": "2023-03-20T08:07:32.263Z"
   },
   {
    "duration": 29,
    "start_time": "2023-03-20T08:07:32.299Z"
   },
   {
    "duration": 28,
    "start_time": "2023-03-20T08:07:32.330Z"
   },
   {
    "duration": 17,
    "start_time": "2023-03-20T08:07:32.361Z"
   },
   {
    "duration": 34,
    "start_time": "2023-03-20T08:07:32.381Z"
   },
   {
    "duration": 9,
    "start_time": "2023-03-20T08:07:32.416Z"
   },
   {
    "duration": 7,
    "start_time": "2023-03-20T08:07:32.426Z"
   },
   {
    "duration": 25,
    "start_time": "2023-03-20T08:07:32.435Z"
   },
   {
    "duration": 8,
    "start_time": "2023-03-20T08:07:32.464Z"
   },
   {
    "duration": 14,
    "start_time": "2023-03-20T08:07:32.474Z"
   },
   {
    "duration": 15,
    "start_time": "2023-03-20T08:07:32.491Z"
   },
   {
    "duration": 13,
    "start_time": "2023-03-20T08:07:32.508Z"
   },
   {
    "duration": 8,
    "start_time": "2023-03-20T08:07:32.522Z"
   },
   {
    "duration": 7,
    "start_time": "2023-03-20T08:07:32.531Z"
   },
   {
    "duration": 8,
    "start_time": "2023-03-20T08:07:32.540Z"
   },
   {
    "duration": 28,
    "start_time": "2023-03-20T08:07:32.550Z"
   },
   {
    "duration": 508,
    "start_time": "2023-03-20T08:07:32.586Z"
   },
   {
    "duration": 14,
    "start_time": "2023-03-20T08:07:33.096Z"
   },
   {
    "duration": 9,
    "start_time": "2023-03-20T08:07:33.112Z"
   },
   {
    "duration": 42,
    "start_time": "2023-03-20T08:07:33.123Z"
   },
   {
    "duration": 10,
    "start_time": "2023-03-20T08:07:33.167Z"
   },
   {
    "duration": 9,
    "start_time": "2023-03-20T08:07:33.180Z"
   },
   {
    "duration": 679,
    "start_time": "2023-03-20T08:07:33.196Z"
   },
   {
    "duration": 9,
    "start_time": "2023-03-20T08:07:33.876Z"
   },
   {
    "duration": 9,
    "start_time": "2023-03-20T08:07:33.887Z"
   },
   {
    "duration": 9,
    "start_time": "2023-03-20T08:07:33.897Z"
   },
   {
    "duration": 9,
    "start_time": "2023-03-20T08:07:33.908Z"
   },
   {
    "duration": 48,
    "start_time": "2023-03-20T08:07:33.919Z"
   },
   {
    "duration": 447,
    "start_time": "2023-03-20T08:07:33.969Z"
   },
   {
    "duration": 313,
    "start_time": "2023-03-20T08:10:26.170Z"
   },
   {
    "duration": 385,
    "start_time": "2023-03-20T08:10:31.734Z"
   },
   {
    "duration": 324,
    "start_time": "2023-03-20T08:10:40.464Z"
   },
   {
    "duration": 356,
    "start_time": "2023-03-20T08:10:45.033Z"
   },
   {
    "duration": 361,
    "start_time": "2023-03-20T08:10:49.663Z"
   },
   {
    "duration": 331,
    "start_time": "2023-03-20T08:10:54.299Z"
   },
   {
    "duration": 348,
    "start_time": "2023-03-20T08:11:00.431Z"
   },
   {
    "duration": 443,
    "start_time": "2023-03-20T08:11:06.000Z"
   },
   {
    "duration": 323,
    "start_time": "2023-03-20T08:11:11.489Z"
   },
   {
    "duration": 325,
    "start_time": "2023-03-20T08:11:17.233Z"
   },
   {
    "duration": 350,
    "start_time": "2023-03-20T08:11:22.297Z"
   },
   {
    "duration": 584,
    "start_time": "2023-03-20T08:11:31.854Z"
   },
   {
    "duration": 677,
    "start_time": "2023-03-20T08:11:39.307Z"
   },
   {
    "duration": 573,
    "start_time": "2023-03-20T08:11:46.065Z"
   },
   {
    "duration": 456,
    "start_time": "2023-03-20T08:12:00.248Z"
   },
   {
    "duration": 14,
    "start_time": "2023-03-20T08:12:47.686Z"
   },
   {
    "duration": 12,
    "start_time": "2023-03-20T08:13:12.057Z"
   },
   {
    "duration": 8,
    "start_time": "2023-03-20T08:13:21.019Z"
   },
   {
    "duration": 1690,
    "start_time": "2023-03-20T08:30:06.016Z"
   },
   {
    "duration": 12,
    "start_time": "2023-03-20T08:30:32.031Z"
   },
   {
    "duration": 11,
    "start_time": "2023-03-20T08:30:44.615Z"
   },
   {
    "duration": 11,
    "start_time": "2023-03-20T08:30:55.469Z"
   },
   {
    "duration": 4,
    "start_time": "2023-03-20T08:32:19.105Z"
   },
   {
    "duration": 13,
    "start_time": "2023-03-20T08:32:37.898Z"
   },
   {
    "duration": 12,
    "start_time": "2023-03-20T08:32:47.962Z"
   },
   {
    "duration": 13,
    "start_time": "2023-03-20T08:33:08.678Z"
   },
   {
    "duration": 12,
    "start_time": "2023-03-20T08:33:40.440Z"
   },
   {
    "duration": 11,
    "start_time": "2023-03-20T08:34:52.456Z"
   },
   {
    "duration": 10,
    "start_time": "2023-03-20T08:37:41.839Z"
   },
   {
    "duration": 13,
    "start_time": "2023-03-20T08:39:41.210Z"
   },
   {
    "duration": 9,
    "start_time": "2023-03-20T09:45:29.210Z"
   },
   {
    "duration": 11,
    "start_time": "2023-03-20T09:45:31.868Z"
   },
   {
    "duration": 1419,
    "start_time": "2023-03-21T13:31:00.415Z"
   },
   {
    "duration": 231,
    "start_time": "2023-03-21T13:31:01.837Z"
   },
   {
    "duration": 16,
    "start_time": "2023-03-21T13:31:02.070Z"
   },
   {
    "duration": 10,
    "start_time": "2023-03-21T13:31:02.088Z"
   },
   {
    "duration": 17,
    "start_time": "2023-03-21T13:31:02.099Z"
   },
   {
    "duration": 20,
    "start_time": "2023-03-21T13:31:02.118Z"
   },
   {
    "duration": 41,
    "start_time": "2023-03-21T13:31:02.140Z"
   },
   {
    "duration": 32,
    "start_time": "2023-03-21T13:31:02.183Z"
   },
   {
    "duration": 10,
    "start_time": "2023-03-21T13:31:02.217Z"
   },
   {
    "duration": 63,
    "start_time": "2023-03-21T13:31:02.229Z"
   },
   {
    "duration": 8,
    "start_time": "2023-03-21T13:31:02.294Z"
   },
   {
    "duration": 10,
    "start_time": "2023-03-21T13:31:02.303Z"
   },
   {
    "duration": 11,
    "start_time": "2023-03-21T13:31:02.316Z"
   },
   {
    "duration": 14,
    "start_time": "2023-03-21T13:31:02.332Z"
   },
   {
    "duration": 18,
    "start_time": "2023-03-21T13:31:02.348Z"
   },
   {
    "duration": 22,
    "start_time": "2023-03-21T13:31:02.368Z"
   },
   {
    "duration": 17,
    "start_time": "2023-03-21T13:31:02.392Z"
   },
   {
    "duration": 14,
    "start_time": "2023-03-21T13:31:02.411Z"
   },
   {
    "duration": 26,
    "start_time": "2023-03-21T13:31:02.427Z"
   },
   {
    "duration": 13,
    "start_time": "2023-03-21T13:31:02.455Z"
   },
   {
    "duration": 13,
    "start_time": "2023-03-21T13:31:02.471Z"
   },
   {
    "duration": 580,
    "start_time": "2023-03-21T13:31:02.489Z"
   },
   {
    "duration": 20,
    "start_time": "2023-03-21T13:31:03.071Z"
   },
   {
    "duration": 7,
    "start_time": "2023-03-21T13:31:03.093Z"
   },
   {
    "duration": 8,
    "start_time": "2023-03-21T13:31:03.102Z"
   },
   {
    "duration": 9,
    "start_time": "2023-03-21T13:31:03.111Z"
   },
   {
    "duration": 9,
    "start_time": "2023-03-21T13:31:03.121Z"
   },
   {
    "duration": 695,
    "start_time": "2023-03-21T13:31:03.133Z"
   },
   {
    "duration": 9,
    "start_time": "2023-03-21T13:31:03.830Z"
   },
   {
    "duration": 31,
    "start_time": "2023-03-21T13:31:03.841Z"
   },
   {
    "duration": 19,
    "start_time": "2023-03-21T13:31:03.874Z"
   },
   {
    "duration": 11,
    "start_time": "2023-03-21T13:31:03.895Z"
   },
   {
    "duration": 11,
    "start_time": "2023-03-21T13:31:03.908Z"
   },
   {
    "duration": 414,
    "start_time": "2023-03-21T13:31:03.921Z"
   },
   {
    "duration": 10,
    "start_time": "2023-03-21T13:31:04.337Z"
   },
   {
    "duration": 9,
    "start_time": "2023-03-21T13:31:04.349Z"
   },
   {
    "duration": 34,
    "start_time": "2023-03-21T13:31:04.360Z"
   },
   {
    "duration": 12,
    "start_time": "2023-03-21T13:31:04.395Z"
   },
   {
    "duration": 10,
    "start_time": "2023-03-21T13:31:04.409Z"
   },
   {
    "duration": 320,
    "start_time": "2023-03-21T13:31:04.421Z"
   },
   {
    "duration": 0,
    "start_time": "2023-03-21T13:31:04.743Z"
   },
   {
    "duration": 0,
    "start_time": "2023-03-21T13:31:04.744Z"
   },
   {
    "duration": 0,
    "start_time": "2023-03-21T13:31:04.745Z"
   },
   {
    "duration": 1217,
    "start_time": "2023-03-21T13:31:56.911Z"
   },
   {
    "duration": 81,
    "start_time": "2023-03-21T13:31:58.130Z"
   },
   {
    "duration": 15,
    "start_time": "2023-03-21T13:31:58.213Z"
   },
   {
    "duration": 16,
    "start_time": "2023-03-21T13:31:58.230Z"
   },
   {
    "duration": 21,
    "start_time": "2023-03-21T13:31:58.249Z"
   },
   {
    "duration": 26,
    "start_time": "2023-03-21T13:31:58.272Z"
   },
   {
    "duration": 58,
    "start_time": "2023-03-21T13:31:58.300Z"
   },
   {
    "duration": 27,
    "start_time": "2023-03-21T13:31:58.361Z"
   },
   {
    "duration": 26,
    "start_time": "2023-03-21T13:31:58.391Z"
   },
   {
    "duration": 40,
    "start_time": "2023-03-21T13:31:58.420Z"
   },
   {
    "duration": 85,
    "start_time": "2023-03-21T13:31:58.463Z"
   },
   {
    "duration": 84,
    "start_time": "2023-03-21T13:31:58.550Z"
   },
   {
    "duration": 65,
    "start_time": "2023-03-21T13:31:58.636Z"
   },
   {
    "duration": 54,
    "start_time": "2023-03-21T13:31:58.703Z"
   },
   {
    "duration": 45,
    "start_time": "2023-03-21T13:31:58.759Z"
   },
   {
    "duration": 50,
    "start_time": "2023-03-21T13:31:58.806Z"
   },
   {
    "duration": 48,
    "start_time": "2023-03-21T13:31:58.857Z"
   },
   {
    "duration": 55,
    "start_time": "2023-03-21T13:31:58.907Z"
   },
   {
    "duration": 58,
    "start_time": "2023-03-21T13:31:58.964Z"
   },
   {
    "duration": 61,
    "start_time": "2023-03-21T13:31:59.024Z"
   },
   {
    "duration": 45,
    "start_time": "2023-03-21T13:31:59.087Z"
   },
   {
    "duration": 549,
    "start_time": "2023-03-21T13:31:59.134Z"
   },
   {
    "duration": 11,
    "start_time": "2023-03-21T13:31:59.685Z"
   },
   {
    "duration": 66,
    "start_time": "2023-03-21T13:31:59.698Z"
   },
   {
    "duration": 77,
    "start_time": "2023-03-21T13:31:59.766Z"
   },
   {
    "duration": 43,
    "start_time": "2023-03-21T13:31:59.845Z"
   },
   {
    "duration": 37,
    "start_time": "2023-03-21T13:31:59.890Z"
   },
   {
    "duration": 738,
    "start_time": "2023-03-21T13:31:59.930Z"
   },
   {
    "duration": 21,
    "start_time": "2023-03-21T13:32:00.671Z"
   },
   {
    "duration": 88,
    "start_time": "2023-03-21T13:32:00.694Z"
   },
   {
    "duration": 170,
    "start_time": "2023-03-21T13:32:00.784Z"
   },
   {
    "duration": 178,
    "start_time": "2023-03-21T13:32:00.955Z"
   },
   {
    "duration": 111,
    "start_time": "2023-03-21T13:32:01.135Z"
   },
   {
    "duration": 398,
    "start_time": "2023-03-21T13:32:01.247Z"
   },
   {
    "duration": 11,
    "start_time": "2023-03-21T13:32:01.647Z"
   },
   {
    "duration": 136,
    "start_time": "2023-03-21T13:32:01.660Z"
   },
   {
    "duration": 75,
    "start_time": "2023-03-21T13:32:01.797Z"
   },
   {
    "duration": 52,
    "start_time": "2023-03-21T13:32:01.874Z"
   },
   {
    "duration": 33,
    "start_time": "2023-03-21T13:32:01.928Z"
   },
   {
    "duration": 337,
    "start_time": "2023-03-21T13:32:01.963Z"
   },
   {
    "duration": 0,
    "start_time": "2023-03-21T13:32:02.302Z"
   },
   {
    "duration": 0,
    "start_time": "2023-03-21T13:32:02.304Z"
   },
   {
    "duration": 0,
    "start_time": "2023-03-21T13:32:02.305Z"
   },
   {
    "duration": 1218,
    "start_time": "2023-03-21T13:32:44.952Z"
   },
   {
    "duration": 77,
    "start_time": "2023-03-21T13:32:46.172Z"
   },
   {
    "duration": 11,
    "start_time": "2023-03-21T13:32:46.251Z"
   },
   {
    "duration": 9,
    "start_time": "2023-03-21T13:32:46.264Z"
   },
   {
    "duration": 10,
    "start_time": "2023-03-21T13:32:46.274Z"
   },
   {
    "duration": 13,
    "start_time": "2023-03-21T13:32:46.285Z"
   },
   {
    "duration": 17,
    "start_time": "2023-03-21T13:32:46.299Z"
   },
   {
    "duration": 15,
    "start_time": "2023-03-21T13:32:46.318Z"
   },
   {
    "duration": 9,
    "start_time": "2023-03-21T13:32:46.334Z"
   },
   {
    "duration": 23,
    "start_time": "2023-03-21T13:32:46.345Z"
   },
   {
    "duration": 12,
    "start_time": "2023-03-21T13:32:46.370Z"
   },
   {
    "duration": 7,
    "start_time": "2023-03-21T13:32:46.384Z"
   },
   {
    "duration": 5,
    "start_time": "2023-03-21T13:32:46.393Z"
   },
   {
    "duration": 6,
    "start_time": "2023-03-21T13:32:46.400Z"
   },
   {
    "duration": 13,
    "start_time": "2023-03-21T13:32:46.407Z"
   },
   {
    "duration": 12,
    "start_time": "2023-03-21T13:32:46.422Z"
   },
   {
    "duration": 9,
    "start_time": "2023-03-21T13:32:46.436Z"
   },
   {
    "duration": 7,
    "start_time": "2023-03-21T13:32:46.446Z"
   },
   {
    "duration": 5,
    "start_time": "2023-03-21T13:32:46.454Z"
   },
   {
    "duration": 7,
    "start_time": "2023-03-21T13:32:46.460Z"
   },
   {
    "duration": 22,
    "start_time": "2023-03-21T13:32:46.468Z"
   },
   {
    "duration": 504,
    "start_time": "2023-03-21T13:32:46.492Z"
   },
   {
    "duration": 9,
    "start_time": "2023-03-21T13:32:46.998Z"
   },
   {
    "duration": 7,
    "start_time": "2023-03-21T13:32:47.009Z"
   },
   {
    "duration": 7,
    "start_time": "2023-03-21T13:32:47.017Z"
   },
   {
    "duration": 7,
    "start_time": "2023-03-21T13:32:47.025Z"
   },
   {
    "duration": 8,
    "start_time": "2023-03-21T13:32:47.034Z"
   },
   {
    "duration": 732,
    "start_time": "2023-03-21T13:32:47.090Z"
   },
   {
    "duration": 13,
    "start_time": "2023-03-21T13:32:47.824Z"
   },
   {
    "duration": 14,
    "start_time": "2023-03-21T13:32:47.839Z"
   },
   {
    "duration": 42,
    "start_time": "2023-03-21T13:32:47.854Z"
   },
   {
    "duration": 14,
    "start_time": "2023-03-21T13:32:47.899Z"
   },
   {
    "duration": 11,
    "start_time": "2023-03-21T13:32:47.915Z"
   },
   {
    "duration": 242,
    "start_time": "2023-03-21T13:32:47.928Z"
   },
   {
    "duration": 19,
    "start_time": "2023-03-21T13:32:48.172Z"
   },
   {
    "duration": 8,
    "start_time": "2023-03-21T13:32:48.193Z"
   },
   {
    "duration": 20,
    "start_time": "2023-03-21T13:32:48.202Z"
   },
   {
    "duration": 22,
    "start_time": "2023-03-21T13:32:48.224Z"
   },
   {
    "duration": 14,
    "start_time": "2023-03-21T13:32:48.248Z"
   },
   {
    "duration": 325,
    "start_time": "2023-03-21T13:32:48.264Z"
   },
   {
    "duration": 0,
    "start_time": "2023-03-21T13:32:48.591Z"
   },
   {
    "duration": 1,
    "start_time": "2023-03-21T13:32:48.592Z"
   },
   {
    "duration": 0,
    "start_time": "2023-03-21T13:32:48.593Z"
   },
   {
    "duration": 1127,
    "start_time": "2023-03-21T13:34:23.439Z"
   },
   {
    "duration": 79,
    "start_time": "2023-03-21T13:34:24.568Z"
   },
   {
    "duration": 13,
    "start_time": "2023-03-21T13:34:24.649Z"
   },
   {
    "duration": 17,
    "start_time": "2023-03-21T13:34:24.664Z"
   },
   {
    "duration": 13,
    "start_time": "2023-03-21T13:34:24.683Z"
   },
   {
    "duration": 126,
    "start_time": "2023-03-21T13:34:24.697Z"
   },
   {
    "duration": 32,
    "start_time": "2023-03-21T13:34:24.825Z"
   },
   {
    "duration": 26,
    "start_time": "2023-03-21T13:34:24.859Z"
   },
   {
    "duration": 18,
    "start_time": "2023-03-21T13:34:24.887Z"
   },
   {
    "duration": 13,
    "start_time": "2023-03-21T13:34:24.907Z"
   },
   {
    "duration": 5,
    "start_time": "2023-03-21T13:34:24.922Z"
   },
   {
    "duration": 13,
    "start_time": "2023-03-21T13:34:24.928Z"
   },
   {
    "duration": 34,
    "start_time": "2023-03-21T13:34:24.943Z"
   },
   {
    "duration": 18,
    "start_time": "2023-03-21T13:34:24.979Z"
   },
   {
    "duration": 15,
    "start_time": "2023-03-21T13:34:24.999Z"
   },
   {
    "duration": 25,
    "start_time": "2023-03-21T13:34:25.016Z"
   },
   {
    "duration": 38,
    "start_time": "2023-03-21T13:34:25.043Z"
   },
   {
    "duration": 17,
    "start_time": "2023-03-21T13:34:25.083Z"
   },
   {
    "duration": 30,
    "start_time": "2023-03-21T13:34:25.102Z"
   },
   {
    "duration": 28,
    "start_time": "2023-03-21T13:34:25.134Z"
   },
   {
    "duration": 18,
    "start_time": "2023-03-21T13:34:25.164Z"
   },
   {
    "duration": 542,
    "start_time": "2023-03-21T13:34:25.184Z"
   },
   {
    "duration": 9,
    "start_time": "2023-03-21T13:34:25.727Z"
   },
   {
    "duration": 29,
    "start_time": "2023-03-21T13:34:25.738Z"
   },
   {
    "duration": 40,
    "start_time": "2023-03-21T13:34:25.769Z"
   },
   {
    "duration": 147,
    "start_time": "2023-03-21T13:34:25.810Z"
   },
   {
    "duration": 32,
    "start_time": "2023-03-21T13:34:25.959Z"
   },
   {
    "duration": 711,
    "start_time": "2023-03-21T13:34:25.996Z"
   },
   {
    "duration": 10,
    "start_time": "2023-03-21T13:34:26.709Z"
   },
   {
    "duration": 46,
    "start_time": "2023-03-21T13:34:26.720Z"
   },
   {
    "duration": 16,
    "start_time": "2023-03-21T13:34:26.768Z"
   },
   {
    "duration": 34,
    "start_time": "2023-03-21T13:34:26.785Z"
   },
   {
    "duration": 27,
    "start_time": "2023-03-21T13:34:26.821Z"
   },
   {
    "duration": 351,
    "start_time": "2023-03-21T13:34:26.850Z"
   },
   {
    "duration": 10,
    "start_time": "2023-03-21T13:34:27.202Z"
   },
   {
    "duration": 43,
    "start_time": "2023-03-21T13:34:27.214Z"
   },
   {
    "duration": 31,
    "start_time": "2023-03-21T13:34:27.259Z"
   },
   {
    "duration": 36,
    "start_time": "2023-03-21T13:34:27.292Z"
   },
   {
    "duration": 30,
    "start_time": "2023-03-21T13:34:27.330Z"
   },
   {
    "duration": 172,
    "start_time": "2023-03-21T13:34:27.362Z"
   },
   {
    "duration": 0,
    "start_time": "2023-03-21T13:34:27.535Z"
   },
   {
    "duration": 0,
    "start_time": "2023-03-21T13:34:27.537Z"
   },
   {
    "duration": 0,
    "start_time": "2023-03-21T13:34:27.538Z"
   },
   {
    "duration": 166,
    "start_time": "2023-03-21T13:35:44.541Z"
   },
   {
    "duration": 33,
    "start_time": "2023-03-21T13:37:20.131Z"
   },
   {
    "duration": 554,
    "start_time": "2023-03-21T13:38:06.191Z"
   },
   {
    "duration": 474,
    "start_time": "2023-03-21T13:40:12.181Z"
   },
   {
    "duration": 510,
    "start_time": "2023-03-21T13:40:19.844Z"
   },
   {
    "duration": 444,
    "start_time": "2023-03-21T13:40:24.897Z"
   },
   {
    "duration": 510,
    "start_time": "2023-03-21T18:46:18.139Z"
   },
   {
    "duration": 457,
    "start_time": "2023-03-21T18:46:24.054Z"
   },
   {
    "duration": 484,
    "start_time": "2023-03-21T18:46:48.271Z"
   },
   {
    "duration": 489,
    "start_time": "2023-03-21T18:47:41.743Z"
   },
   {
    "duration": 533,
    "start_time": "2023-03-21T18:47:47.691Z"
   },
   {
    "duration": 494,
    "start_time": "2023-03-21T18:47:54.602Z"
   },
   {
    "duration": 506,
    "start_time": "2023-03-21T18:48:20.096Z"
   },
   {
    "duration": 266,
    "start_time": "2023-03-21T18:48:56.100Z"
   },
   {
    "duration": 228,
    "start_time": "2023-03-21T18:49:06.538Z"
   },
   {
    "duration": 269,
    "start_time": "2023-03-21T18:50:34.413Z"
   },
   {
    "duration": 300,
    "start_time": "2023-03-21T18:51:01.338Z"
   },
   {
    "duration": 343,
    "start_time": "2023-03-21T18:51:07.285Z"
   },
   {
    "duration": 304,
    "start_time": "2023-03-21T18:51:16.016Z"
   },
   {
    "duration": 397,
    "start_time": "2023-03-21T18:51:57.392Z"
   },
   {
    "duration": 323,
    "start_time": "2023-03-21T18:52:07.233Z"
   },
   {
    "duration": 364,
    "start_time": "2023-03-21T18:52:13.287Z"
   },
   {
    "duration": 261,
    "start_time": "2023-03-21T18:52:35.393Z"
   },
   {
    "duration": 536,
    "start_time": "2023-03-21T18:52:54.114Z"
   },
   {
    "duration": 52,
    "start_time": "2023-03-21T18:53:06.625Z"
   },
   {
    "duration": 1235,
    "start_time": "2023-03-21T18:53:51.762Z"
   },
   {
    "duration": 77,
    "start_time": "2023-03-21T18:53:52.999Z"
   },
   {
    "duration": 13,
    "start_time": "2023-03-21T18:53:53.078Z"
   },
   {
    "duration": 9,
    "start_time": "2023-03-21T18:53:53.094Z"
   },
   {
    "duration": 12,
    "start_time": "2023-03-21T18:53:53.105Z"
   },
   {
    "duration": 14,
    "start_time": "2023-03-21T18:53:53.119Z"
   },
   {
    "duration": 11,
    "start_time": "2023-03-21T18:53:53.134Z"
   },
   {
    "duration": 9,
    "start_time": "2023-03-21T18:53:53.147Z"
   },
   {
    "duration": 49,
    "start_time": "2023-03-21T18:53:53.158Z"
   },
   {
    "duration": 15,
    "start_time": "2023-03-21T18:53:53.209Z"
   },
   {
    "duration": 6,
    "start_time": "2023-03-21T18:53:53.225Z"
   },
   {
    "duration": 5,
    "start_time": "2023-03-21T18:53:53.232Z"
   },
   {
    "duration": 6,
    "start_time": "2023-03-21T18:53:53.238Z"
   },
   {
    "duration": 4,
    "start_time": "2023-03-21T18:53:53.246Z"
   },
   {
    "duration": 6,
    "start_time": "2023-03-21T18:53:53.252Z"
   },
   {
    "duration": 8,
    "start_time": "2023-03-21T18:53:53.259Z"
   },
   {
    "duration": 20,
    "start_time": "2023-03-21T18:53:53.269Z"
   },
   {
    "duration": 9,
    "start_time": "2023-03-21T18:53:53.291Z"
   },
   {
    "duration": 9,
    "start_time": "2023-03-21T18:53:53.302Z"
   },
   {
    "duration": 10,
    "start_time": "2023-03-21T18:53:53.312Z"
   },
   {
    "duration": 8,
    "start_time": "2023-03-21T18:53:53.323Z"
   },
   {
    "duration": 531,
    "start_time": "2023-03-21T18:53:53.333Z"
   },
   {
    "duration": 11,
    "start_time": "2023-03-21T18:53:53.866Z"
   },
   {
    "duration": 10,
    "start_time": "2023-03-21T18:53:53.889Z"
   },
   {
    "duration": 11,
    "start_time": "2023-03-21T18:53:53.901Z"
   },
   {
    "duration": 10,
    "start_time": "2023-03-21T18:53:53.914Z"
   },
   {
    "duration": 9,
    "start_time": "2023-03-21T18:53:53.926Z"
   },
   {
    "duration": 727,
    "start_time": "2023-03-21T18:53:53.939Z"
   },
   {
    "duration": 22,
    "start_time": "2023-03-21T18:53:54.668Z"
   },
   {
    "duration": 9,
    "start_time": "2023-03-21T18:53:54.692Z"
   },
   {
    "duration": 9,
    "start_time": "2023-03-21T18:53:54.703Z"
   },
   {
    "duration": 13,
    "start_time": "2023-03-21T18:53:54.714Z"
   },
   {
    "duration": 11,
    "start_time": "2023-03-21T18:53:54.729Z"
   },
   {
    "duration": 367,
    "start_time": "2023-03-21T18:53:54.790Z"
   },
   {
    "duration": 11,
    "start_time": "2023-03-21T18:53:55.159Z"
   },
   {
    "duration": 24,
    "start_time": "2023-03-21T18:53:55.172Z"
   },
   {
    "duration": 23,
    "start_time": "2023-03-21T18:53:55.198Z"
   },
   {
    "duration": 15,
    "start_time": "2023-03-21T18:53:55.223Z"
   },
   {
    "duration": 12,
    "start_time": "2023-03-21T18:53:55.240Z"
   },
   {
    "duration": 583,
    "start_time": "2023-03-21T18:53:55.254Z"
   },
   {
    "duration": 361,
    "start_time": "2023-03-21T18:53:55.840Z"
   },
   {
    "duration": 350,
    "start_time": "2023-03-21T18:53:56.203Z"
   },
   {
    "duration": 105,
    "start_time": "2023-03-21T18:57:40.113Z"
   },
   {
    "duration": 11,
    "start_time": "2023-03-21T18:58:38.085Z"
   },
   {
    "duration": 12,
    "start_time": "2023-03-21T18:59:43.166Z"
   },
   {
    "duration": 157,
    "start_time": "2023-03-21T18:59:47.623Z"
   },
   {
    "duration": 131,
    "start_time": "2023-03-21T18:59:52.212Z"
   },
   {
    "duration": 178,
    "start_time": "2023-03-21T19:00:19.735Z"
   },
   {
    "duration": 181,
    "start_time": "2023-03-21T19:00:31.352Z"
   },
   {
    "duration": 194,
    "start_time": "2023-03-21T19:10:41.750Z"
   },
   {
    "duration": 197,
    "start_time": "2023-03-21T19:11:09.598Z"
   },
   {
    "duration": 566,
    "start_time": "2023-03-21T19:11:20.244Z"
   },
   {
    "duration": 294,
    "start_time": "2023-03-21T19:11:48.316Z"
   },
   {
    "duration": 345,
    "start_time": "2023-03-21T19:12:33.613Z"
   },
   {
    "duration": 456,
    "start_time": "2023-03-21T19:12:47.906Z"
   },
   {
    "duration": 426,
    "start_time": "2023-03-21T19:13:16.325Z"
   },
   {
    "duration": 383,
    "start_time": "2023-03-21T19:13:25.645Z"
   },
   {
    "duration": 378,
    "start_time": "2023-03-21T19:15:02.250Z"
   },
   {
    "duration": 427,
    "start_time": "2023-03-21T19:15:16.781Z"
   },
   {
    "duration": 10,
    "start_time": "2023-03-21T19:17:52.715Z"
   },
   {
    "duration": 18,
    "start_time": "2023-03-21T19:18:05.191Z"
   },
   {
    "duration": 13,
    "start_time": "2023-03-21T19:18:14.265Z"
   },
   {
    "duration": 170,
    "start_time": "2023-03-21T19:18:56.949Z"
   },
   {
    "duration": 167,
    "start_time": "2023-03-21T19:19:57.256Z"
   },
   {
    "duration": 52,
    "start_time": "2023-03-21T19:20:00.577Z"
   },
   {
    "duration": 170,
    "start_time": "2023-03-21T19:20:03.713Z"
   },
   {
    "duration": 160,
    "start_time": "2023-03-21T19:20:10.362Z"
   },
   {
    "duration": 618,
    "start_time": "2023-03-21T19:28:53.918Z"
   },
   {
    "duration": 626,
    "start_time": "2023-03-21T19:29:03.630Z"
   },
   {
    "duration": 604,
    "start_time": "2023-03-21T19:29:45.650Z"
   },
   {
    "duration": 4,
    "start_time": "2023-03-21T20:43:27.878Z"
   },
   {
    "duration": 4,
    "start_time": "2023-03-21T20:44:03.606Z"
   },
   {
    "duration": 4,
    "start_time": "2023-03-21T20:44:11.478Z"
   },
   {
    "duration": 5,
    "start_time": "2023-03-21T20:45:19.516Z"
   },
   {
    "duration": 5,
    "start_time": "2023-03-21T20:45:25.479Z"
   },
   {
    "duration": 5,
    "start_time": "2023-03-21T20:47:33.319Z"
   },
   {
    "duration": 6,
    "start_time": "2023-03-21T20:47:41.323Z"
   },
   {
    "duration": 5,
    "start_time": "2023-03-21T20:48:32.332Z"
   },
   {
    "duration": 5,
    "start_time": "2023-03-21T20:48:46.178Z"
   },
   {
    "duration": 4,
    "start_time": "2023-03-21T20:49:20.818Z"
   },
   {
    "duration": 5,
    "start_time": "2023-03-21T20:49:24.806Z"
   },
   {
    "duration": 257,
    "start_time": "2023-03-21T20:50:52.135Z"
   },
   {
    "duration": 176,
    "start_time": "2023-03-21T20:51:13.817Z"
   },
   {
    "duration": 164,
    "start_time": "2023-03-21T20:51:20.743Z"
   },
   {
    "duration": 166,
    "start_time": "2023-03-21T20:51:44.370Z"
   },
   {
    "duration": 5,
    "start_time": "2023-03-21T20:52:56.117Z"
   },
   {
    "duration": 778,
    "start_time": "2023-03-21T20:53:50.809Z"
   },
   {
    "duration": 4,
    "start_time": "2023-03-21T20:53:56.075Z"
   },
   {
    "duration": 13,
    "start_time": "2023-03-21T20:56:22.687Z"
   },
   {
    "duration": 102,
    "start_time": "2023-03-21T21:17:55.152Z"
   },
   {
    "duration": 114,
    "start_time": "2023-03-21T21:18:29.391Z"
   },
   {
    "duration": 186,
    "start_time": "2023-03-21T21:18:52.358Z"
   },
   {
    "duration": 30,
    "start_time": "2023-03-21T21:19:00.873Z"
   },
   {
    "duration": 16,
    "start_time": "2023-03-21T21:19:12.574Z"
   },
   {
    "duration": 154,
    "start_time": "2023-03-21T21:19:24.662Z"
   },
   {
    "duration": 3,
    "start_time": "2023-03-21T21:19:48.638Z"
   },
   {
    "duration": 1099,
    "start_time": "2023-03-21T21:19:54.341Z"
   },
   {
    "duration": 77,
    "start_time": "2023-03-21T21:19:55.442Z"
   },
   {
    "duration": 12,
    "start_time": "2023-03-21T21:19:55.521Z"
   },
   {
    "duration": 26,
    "start_time": "2023-03-21T21:19:55.535Z"
   },
   {
    "duration": 27,
    "start_time": "2023-03-21T21:19:55.563Z"
   },
   {
    "duration": 24,
    "start_time": "2023-03-21T21:19:55.592Z"
   },
   {
    "duration": 18,
    "start_time": "2023-03-21T21:19:55.618Z"
   },
   {
    "duration": 10,
    "start_time": "2023-03-21T21:19:55.637Z"
   },
   {
    "duration": 8,
    "start_time": "2023-03-21T21:19:55.649Z"
   },
   {
    "duration": 3,
    "start_time": "2023-03-21T21:19:55.661Z"
   },
   {
    "duration": 11,
    "start_time": "2023-03-21T21:19:55.665Z"
   },
   {
    "duration": 27,
    "start_time": "2023-03-21T21:19:55.677Z"
   },
   {
    "duration": 9,
    "start_time": "2023-03-21T21:19:55.706Z"
   },
   {
    "duration": 7,
    "start_time": "2023-03-21T21:19:55.716Z"
   },
   {
    "duration": 12,
    "start_time": "2023-03-21T21:19:55.724Z"
   },
   {
    "duration": 7,
    "start_time": "2023-03-21T21:19:55.737Z"
   },
   {
    "duration": 11,
    "start_time": "2023-03-21T21:19:55.745Z"
   },
   {
    "duration": 8,
    "start_time": "2023-03-21T21:19:55.758Z"
   },
   {
    "duration": 7,
    "start_time": "2023-03-21T21:19:55.768Z"
   },
   {
    "duration": 9,
    "start_time": "2023-03-21T21:19:55.776Z"
   },
   {
    "duration": 4,
    "start_time": "2023-03-21T21:19:55.786Z"
   },
   {
    "duration": 499,
    "start_time": "2023-03-21T21:19:55.792Z"
   },
   {
    "duration": 9,
    "start_time": "2023-03-21T21:19:56.292Z"
   },
   {
    "duration": 8,
    "start_time": "2023-03-21T21:19:56.302Z"
   },
   {
    "duration": 7,
    "start_time": "2023-03-21T21:19:56.312Z"
   },
   {
    "duration": 7,
    "start_time": "2023-03-21T21:19:56.321Z"
   },
   {
    "duration": 7,
    "start_time": "2023-03-21T21:19:56.330Z"
   },
   {
    "duration": 676,
    "start_time": "2023-03-21T21:19:56.340Z"
   },
   {
    "duration": 9,
    "start_time": "2023-03-21T21:19:57.017Z"
   },
   {
    "duration": 7,
    "start_time": "2023-03-21T21:19:57.027Z"
   },
   {
    "duration": 14,
    "start_time": "2023-03-21T21:19:57.035Z"
   },
   {
    "duration": 9,
    "start_time": "2023-03-21T21:19:57.050Z"
   },
   {
    "duration": 8,
    "start_time": "2023-03-21T21:19:57.090Z"
   },
   {
    "duration": 339,
    "start_time": "2023-03-21T21:19:57.099Z"
   },
   {
    "duration": 12,
    "start_time": "2023-03-21T21:19:57.440Z"
   },
   {
    "duration": 9,
    "start_time": "2023-03-21T21:19:57.454Z"
   },
   {
    "duration": 34,
    "start_time": "2023-03-21T21:19:57.465Z"
   },
   {
    "duration": 15,
    "start_time": "2023-03-21T21:19:57.501Z"
   },
   {
    "duration": 13,
    "start_time": "2023-03-21T21:19:57.518Z"
   },
   {
    "duration": 616,
    "start_time": "2023-03-21T21:19:57.533Z"
   },
   {
    "duration": 327,
    "start_time": "2023-03-21T21:19:58.151Z"
   },
   {
    "duration": 354,
    "start_time": "2023-03-21T21:19:58.480Z"
   },
   {
    "duration": 274,
    "start_time": "2023-03-21T21:19:58.836Z"
   },
   {
    "duration": 334,
    "start_time": "2023-03-21T21:19:59.112Z"
   },
   {
    "duration": 177,
    "start_time": "2023-03-21T21:19:59.447Z"
   },
   {
    "duration": 5,
    "start_time": "2023-03-21T21:19:59.625Z"
   },
   {
    "duration": 5,
    "start_time": "2023-03-21T21:19:59.632Z"
   },
   {
    "duration": 193,
    "start_time": "2023-03-21T21:19:59.639Z"
   },
   {
    "duration": 5,
    "start_time": "2023-03-21T21:19:59.834Z"
   },
   {
    "duration": 24,
    "start_time": "2023-03-21T21:19:59.841Z"
   },
   {
    "duration": 207,
    "start_time": "2023-03-21T21:19:59.866Z"
   },
   {
    "duration": 42,
    "start_time": "2023-03-21T21:20:00.075Z"
   },
   {
    "duration": 164,
    "start_time": "2023-03-21T21:20:00.119Z"
   },
   {
    "duration": 60,
    "start_time": "2023-03-21T21:20:30.598Z"
   },
   {
    "duration": 13,
    "start_time": "2023-03-21T21:21:06.923Z"
   },
   {
    "duration": 863,
    "start_time": "2023-03-21T21:21:19.217Z"
   },
   {
    "duration": 707,
    "start_time": "2023-03-21T21:21:33.509Z"
   },
   {
    "duration": 779,
    "start_time": "2023-03-21T21:21:53.843Z"
   },
   {
    "duration": 10,
    "start_time": "2023-03-21T21:22:04.693Z"
   },
   {
    "duration": 8,
    "start_time": "2023-03-21T21:22:15.526Z"
   },
   {
    "duration": 24,
    "start_time": "2023-03-21T21:22:24.375Z"
   },
   {
    "duration": 25,
    "start_time": "2023-03-21T21:22:30.575Z"
   },
   {
    "duration": 745,
    "start_time": "2023-03-21T21:22:39.707Z"
   },
   {
    "duration": 787,
    "start_time": "2023-03-21T21:22:49.822Z"
   },
   {
    "duration": 716,
    "start_time": "2023-03-21T21:22:58.518Z"
   },
   {
    "duration": 14,
    "start_time": "2023-03-21T21:23:06.197Z"
   },
   {
    "duration": 1567,
    "start_time": "2023-03-22T07:18:29.722Z"
   },
   {
    "duration": 208,
    "start_time": "2023-03-22T07:18:31.292Z"
   },
   {
    "duration": 11,
    "start_time": "2023-03-22T07:18:31.502Z"
   },
   {
    "duration": 35,
    "start_time": "2023-03-22T07:18:31.515Z"
   },
   {
    "duration": 41,
    "start_time": "2023-03-22T07:18:31.551Z"
   },
   {
    "duration": 23,
    "start_time": "2023-03-22T07:18:31.594Z"
   },
   {
    "duration": 35,
    "start_time": "2023-03-22T07:18:31.618Z"
   },
   {
    "duration": 61,
    "start_time": "2023-03-22T07:18:31.655Z"
   },
   {
    "duration": 35,
    "start_time": "2023-03-22T07:18:31.718Z"
   },
   {
    "duration": 30,
    "start_time": "2023-03-22T07:18:31.756Z"
   },
   {
    "duration": 25,
    "start_time": "2023-03-22T07:18:31.787Z"
   },
   {
    "duration": 18,
    "start_time": "2023-03-22T07:18:31.814Z"
   },
   {
    "duration": 41,
    "start_time": "2023-03-22T07:18:31.834Z"
   },
   {
    "duration": 25,
    "start_time": "2023-03-22T07:18:31.877Z"
   },
   {
    "duration": 24,
    "start_time": "2023-03-22T07:18:31.903Z"
   },
   {
    "duration": 34,
    "start_time": "2023-03-22T07:18:31.929Z"
   },
   {
    "duration": 32,
    "start_time": "2023-03-22T07:18:31.965Z"
   },
   {
    "duration": 24,
    "start_time": "2023-03-22T07:18:31.999Z"
   },
   {
    "duration": 21,
    "start_time": "2023-03-22T07:18:32.025Z"
   },
   {
    "duration": 16,
    "start_time": "2023-03-22T07:18:32.048Z"
   },
   {
    "duration": 14,
    "start_time": "2023-03-22T07:18:32.066Z"
   },
   {
    "duration": 481,
    "start_time": "2023-03-22T07:18:32.082Z"
   },
   {
    "duration": 12,
    "start_time": "2023-03-22T07:18:32.564Z"
   },
   {
    "duration": 8,
    "start_time": "2023-03-22T07:18:32.577Z"
   },
   {
    "duration": 16,
    "start_time": "2023-03-22T07:18:32.587Z"
   },
   {
    "duration": 15,
    "start_time": "2023-03-22T07:18:32.604Z"
   },
   {
    "duration": 21,
    "start_time": "2023-03-22T07:18:32.621Z"
   },
   {
    "duration": 655,
    "start_time": "2023-03-22T07:18:32.645Z"
   },
   {
    "duration": 10,
    "start_time": "2023-03-22T07:18:33.301Z"
   },
   {
    "duration": 18,
    "start_time": "2023-03-22T07:18:33.312Z"
   },
   {
    "duration": 9,
    "start_time": "2023-03-22T07:18:33.332Z"
   },
   {
    "duration": 37,
    "start_time": "2023-03-22T07:18:33.343Z"
   },
   {
    "duration": 10,
    "start_time": "2023-03-22T07:18:33.381Z"
   },
   {
    "duration": 364,
    "start_time": "2023-03-22T07:18:33.393Z"
   },
   {
    "duration": 18,
    "start_time": "2023-03-22T07:18:33.758Z"
   },
   {
    "duration": 8,
    "start_time": "2023-03-22T07:18:33.777Z"
   },
   {
    "duration": 8,
    "start_time": "2023-03-22T07:18:33.786Z"
   },
   {
    "duration": 13,
    "start_time": "2023-03-22T07:18:33.795Z"
   },
   {
    "duration": 10,
    "start_time": "2023-03-22T07:18:33.810Z"
   },
   {
    "duration": 558,
    "start_time": "2023-03-22T07:18:33.822Z"
   },
   {
    "duration": 307,
    "start_time": "2023-03-22T07:18:34.382Z"
   },
   {
    "duration": 358,
    "start_time": "2023-03-22T07:18:34.690Z"
   },
   {
    "duration": 349,
    "start_time": "2023-03-22T07:18:35.050Z"
   },
   {
    "duration": 344,
    "start_time": "2023-03-22T07:18:35.402Z"
   },
   {
    "duration": 163,
    "start_time": "2023-03-22T07:18:35.747Z"
   },
   {
    "duration": 5,
    "start_time": "2023-03-22T07:18:35.912Z"
   },
   {
    "duration": 44,
    "start_time": "2023-03-22T07:18:35.918Z"
   },
   {
    "duration": 174,
    "start_time": "2023-03-22T07:18:35.964Z"
   },
   {
    "duration": 5,
    "start_time": "2023-03-22T07:18:36.139Z"
   },
   {
    "duration": 15,
    "start_time": "2023-03-22T07:18:36.145Z"
   },
   {
    "duration": 203,
    "start_time": "2023-03-22T07:18:36.161Z"
   },
   {
    "duration": 32,
    "start_time": "2023-03-22T07:18:36.366Z"
   },
   {
    "duration": 229,
    "start_time": "2023-03-22T07:18:36.400Z"
   },
   {
    "duration": 11,
    "start_time": "2023-03-22T07:18:36.631Z"
   },
   {
    "duration": 11,
    "start_time": "2023-03-22T07:18:36.644Z"
   },
   {
    "duration": 7,
    "start_time": "2023-03-22T07:18:36.674Z"
   },
   {
    "duration": 25,
    "start_time": "2023-03-22T07:18:36.682Z"
   },
   {
    "duration": 14,
    "start_time": "2023-03-22T07:18:36.708Z"
   },
   {
    "duration": 195,
    "start_time": "2023-03-22T07:19:05.765Z"
   },
   {
    "duration": 28,
    "start_time": "2023-03-22T07:19:10.442Z"
   },
   {
    "duration": 215,
    "start_time": "2023-03-22T07:21:29.660Z"
   },
   {
    "duration": 103,
    "start_time": "2023-03-22T07:22:15.936Z"
   },
   {
    "duration": 30,
    "start_time": "2023-03-22T07:23:09.910Z"
   },
   {
    "duration": 122,
    "start_time": "2023-03-22T07:23:15.312Z"
   },
   {
    "duration": 102,
    "start_time": "2023-03-22T07:23:23.148Z"
   },
   {
    "duration": 99,
    "start_time": "2023-03-22T07:24:15.784Z"
   },
   {
    "duration": 102,
    "start_time": "2023-03-22T07:26:33.754Z"
   },
   {
    "duration": 102,
    "start_time": "2023-03-22T07:28:09.112Z"
   },
   {
    "duration": 153,
    "start_time": "2023-03-22T07:28:30.947Z"
   },
   {
    "duration": 293,
    "start_time": "2023-03-22T07:28:56.422Z"
   },
   {
    "duration": 210,
    "start_time": "2023-03-22T07:31:08.709Z"
   },
   {
    "duration": 10,
    "start_time": "2023-03-22T07:31:35.886Z"
   },
   {
    "duration": 31,
    "start_time": "2023-03-22T07:32:01.760Z"
   },
   {
    "duration": 16,
    "start_time": "2023-03-22T07:33:33.227Z"
   },
   {
    "duration": 148,
    "start_time": "2023-03-22T07:33:59.074Z"
   },
   {
    "duration": 6,
    "start_time": "2023-03-22T07:34:47.754Z"
   },
   {
    "duration": 15,
    "start_time": "2023-03-22T07:35:28.447Z"
   },
   {
    "duration": 25,
    "start_time": "2023-03-22T07:36:56.422Z"
   },
   {
    "duration": 26,
    "start_time": "2023-03-22T07:38:24.421Z"
   },
   {
    "duration": 26,
    "start_time": "2023-03-22T07:39:51.514Z"
   },
   {
    "duration": 26,
    "start_time": "2023-03-22T07:40:02.572Z"
   },
   {
    "duration": 26,
    "start_time": "2023-03-22T07:40:15.647Z"
   },
   {
    "duration": 11,
    "start_time": "2023-03-22T07:45:12.117Z"
   },
   {
    "duration": 32,
    "start_time": "2023-03-22T07:49:02.076Z"
   },
   {
    "duration": 7,
    "start_time": "2023-03-22T07:49:07.110Z"
   },
   {
    "duration": 23,
    "start_time": "2023-03-22T07:49:08.049Z"
   },
   {
    "duration": 12,
    "start_time": "2023-03-22T07:49:56.682Z"
   },
   {
    "duration": 10,
    "start_time": "2023-03-22T07:50:19.518Z"
   },
   {
    "duration": 11,
    "start_time": "2023-03-22T07:50:32.577Z"
   },
   {
    "duration": 1299,
    "start_time": "2023-03-22T07:54:00.526Z"
   },
   {
    "duration": 10,
    "start_time": "2023-03-22T07:55:22.321Z"
   },
   {
    "duration": 8,
    "start_time": "2023-03-22T07:55:37.221Z"
   },
   {
    "duration": 8,
    "start_time": "2023-03-22T07:56:19.118Z"
   },
   {
    "duration": 25,
    "start_time": "2023-03-22T07:56:36.942Z"
   },
   {
    "duration": 25,
    "start_time": "2023-03-22T07:57:44.225Z"
   },
   {
    "duration": 10,
    "start_time": "2023-03-22T07:58:15.285Z"
   },
   {
    "duration": 32,
    "start_time": "2023-03-22T07:58:16.448Z"
   },
   {
    "duration": 9,
    "start_time": "2023-03-22T07:59:14.283Z"
   },
   {
    "duration": 8,
    "start_time": "2023-03-22T07:59:18.030Z"
   },
   {
    "duration": 24,
    "start_time": "2023-03-22T07:59:19.190Z"
   },
   {
    "duration": 8,
    "start_time": "2023-03-22T07:59:26.047Z"
   },
   {
    "duration": 10,
    "start_time": "2023-03-22T07:59:27.217Z"
   },
   {
    "duration": 22,
    "start_time": "2023-03-22T07:59:28.257Z"
   },
   {
    "duration": 13,
    "start_time": "2023-03-22T07:59:49.579Z"
   },
   {
    "duration": 2203,
    "start_time": "2023-03-22T08:00:05.687Z"
   },
   {
    "duration": 3299,
    "start_time": "2023-03-22T08:00:33.144Z"
   },
   {
    "duration": 13,
    "start_time": "2023-03-22T08:00:43.892Z"
   },
   {
    "duration": 15,
    "start_time": "2023-03-22T08:01:02.930Z"
   },
   {
    "duration": 9,
    "start_time": "2023-03-22T08:38:49.686Z"
   },
   {
    "duration": 11,
    "start_time": "2023-03-22T08:39:04.507Z"
   },
   {
    "duration": 12,
    "start_time": "2023-03-22T08:39:34.997Z"
   },
   {
    "duration": 10,
    "start_time": "2023-03-22T08:39:44.484Z"
   },
   {
    "duration": 1221,
    "start_time": "2023-03-22T08:46:57.708Z"
   },
   {
    "duration": 76,
    "start_time": "2023-03-22T08:46:58.931Z"
   },
   {
    "duration": 18,
    "start_time": "2023-03-22T08:46:59.008Z"
   },
   {
    "duration": 11,
    "start_time": "2023-03-22T08:46:59.028Z"
   },
   {
    "duration": 13,
    "start_time": "2023-03-22T08:46:59.041Z"
   },
   {
    "duration": 19,
    "start_time": "2023-03-22T08:46:59.057Z"
   },
   {
    "duration": 23,
    "start_time": "2023-03-22T08:46:59.078Z"
   },
   {
    "duration": 19,
    "start_time": "2023-03-22T08:46:59.103Z"
   },
   {
    "duration": 14,
    "start_time": "2023-03-22T08:46:59.123Z"
   },
   {
    "duration": 12,
    "start_time": "2023-03-22T08:46:59.139Z"
   },
   {
    "duration": 9,
    "start_time": "2023-03-22T08:46:59.152Z"
   },
   {
    "duration": 15,
    "start_time": "2023-03-22T08:46:59.162Z"
   },
   {
    "duration": 16,
    "start_time": "2023-03-22T08:46:59.178Z"
   },
   {
    "duration": 7,
    "start_time": "2023-03-22T08:46:59.197Z"
   },
   {
    "duration": 13,
    "start_time": "2023-03-22T08:46:59.205Z"
   },
   {
    "duration": 15,
    "start_time": "2023-03-22T08:46:59.220Z"
   },
   {
    "duration": 11,
    "start_time": "2023-03-22T08:46:59.236Z"
   },
   {
    "duration": 12,
    "start_time": "2023-03-22T08:46:59.248Z"
   },
   {
    "duration": 10,
    "start_time": "2023-03-22T08:46:59.262Z"
   },
   {
    "duration": 8,
    "start_time": "2023-03-22T08:46:59.274Z"
   },
   {
    "duration": 502,
    "start_time": "2023-03-22T08:46:59.283Z"
   },
   {
    "duration": 9,
    "start_time": "2023-03-22T08:46:59.787Z"
   },
   {
    "duration": 10,
    "start_time": "2023-03-22T08:46:59.798Z"
   },
   {
    "duration": 9,
    "start_time": "2023-03-22T08:46:59.810Z"
   },
   {
    "duration": 11,
    "start_time": "2023-03-22T08:46:59.820Z"
   },
   {
    "duration": 10,
    "start_time": "2023-03-22T08:46:59.875Z"
   },
   {
    "duration": 692,
    "start_time": "2023-03-22T08:46:59.887Z"
   },
   {
    "duration": 10,
    "start_time": "2023-03-22T08:47:00.583Z"
   },
   {
    "duration": 35,
    "start_time": "2023-03-22T08:47:00.594Z"
   },
   {
    "duration": 22,
    "start_time": "2023-03-22T08:47:00.631Z"
   },
   {
    "duration": 35,
    "start_time": "2023-03-22T08:47:00.654Z"
   },
   {
    "duration": 27,
    "start_time": "2023-03-22T08:47:00.691Z"
   },
   {
    "duration": 358,
    "start_time": "2023-03-22T08:47:00.719Z"
   },
   {
    "duration": 10,
    "start_time": "2023-03-22T08:47:01.079Z"
   },
   {
    "duration": 19,
    "start_time": "2023-03-22T08:47:01.090Z"
   },
   {
    "duration": 35,
    "start_time": "2023-03-22T08:47:01.111Z"
   },
   {
    "duration": 34,
    "start_time": "2023-03-22T08:47:01.147Z"
   },
   {
    "duration": 19,
    "start_time": "2023-03-22T08:47:01.183Z"
   },
   {
    "duration": 535,
    "start_time": "2023-03-22T08:47:01.204Z"
   },
   {
    "duration": 321,
    "start_time": "2023-03-22T08:47:01.741Z"
   },
   {
    "duration": 349,
    "start_time": "2023-03-22T08:47:02.064Z"
   },
   {
    "duration": 303,
    "start_time": "2023-03-22T08:47:02.414Z"
   },
   {
    "duration": 326,
    "start_time": "2023-03-22T08:47:02.718Z"
   },
   {
    "duration": 171,
    "start_time": "2023-03-22T08:47:03.046Z"
   },
   {
    "duration": 4,
    "start_time": "2023-03-22T08:47:03.218Z"
   },
   {
    "duration": 23,
    "start_time": "2023-03-22T08:47:03.224Z"
   },
   {
    "duration": 176,
    "start_time": "2023-03-22T08:47:03.249Z"
   },
   {
    "duration": 4,
    "start_time": "2023-03-22T08:47:03.427Z"
   },
   {
    "duration": 20,
    "start_time": "2023-03-22T08:47:03.433Z"
   },
   {
    "duration": 252,
    "start_time": "2023-03-22T08:47:03.455Z"
   },
   {
    "duration": 147,
    "start_time": "2023-03-22T08:47:03.708Z"
   },
   {
    "duration": 6,
    "start_time": "2023-03-22T08:47:03.857Z"
   },
   {
    "duration": 24,
    "start_time": "2023-03-22T08:47:03.874Z"
   },
   {
    "duration": 11,
    "start_time": "2023-03-22T08:47:03.900Z"
   },
   {
    "duration": 9,
    "start_time": "2023-03-22T08:47:03.912Z"
   },
   {
    "duration": 16,
    "start_time": "2023-03-22T08:47:03.922Z"
   },
   {
    "duration": 49,
    "start_time": "2023-03-22T08:47:03.940Z"
   },
   {
    "duration": 14,
    "start_time": "2023-03-22T08:47:03.991Z"
   },
   {
    "duration": 6,
    "start_time": "2023-03-22T08:47:31.689Z"
   },
   {
    "duration": 7,
    "start_time": "2023-03-22T08:48:11.964Z"
   },
   {
    "duration": 562,
    "start_time": "2023-03-22T09:07:01.756Z"
   },
   {
    "duration": 1207,
    "start_time": "2023-03-22T10:32:39.751Z"
   },
   {
    "duration": 79,
    "start_time": "2023-03-22T10:32:40.960Z"
   },
   {
    "duration": 13,
    "start_time": "2023-03-22T10:32:41.041Z"
   },
   {
    "duration": 10,
    "start_time": "2023-03-22T10:32:41.057Z"
   },
   {
    "duration": 7,
    "start_time": "2023-03-22T10:32:41.068Z"
   },
   {
    "duration": 10,
    "start_time": "2023-03-22T10:32:41.076Z"
   },
   {
    "duration": 9,
    "start_time": "2023-03-22T10:32:41.088Z"
   },
   {
    "duration": 42,
    "start_time": "2023-03-22T10:32:41.099Z"
   },
   {
    "duration": 7,
    "start_time": "2023-03-22T10:32:41.142Z"
   },
   {
    "duration": 7,
    "start_time": "2023-03-22T10:32:41.152Z"
   },
   {
    "duration": 4,
    "start_time": "2023-03-22T10:32:41.160Z"
   },
   {
    "duration": 5,
    "start_time": "2023-03-22T10:32:41.166Z"
   },
   {
    "duration": 11,
    "start_time": "2023-03-22T10:32:41.173Z"
   },
   {
    "duration": 9,
    "start_time": "2023-03-22T10:32:41.185Z"
   },
   {
    "duration": 5,
    "start_time": "2023-03-22T10:32:41.196Z"
   },
   {
    "duration": 6,
    "start_time": "2023-03-22T10:32:41.203Z"
   },
   {
    "duration": 43,
    "start_time": "2023-03-22T10:32:41.210Z"
   },
   {
    "duration": 5,
    "start_time": "2023-03-22T10:32:41.255Z"
   },
   {
    "duration": 4,
    "start_time": "2023-03-22T10:32:41.262Z"
   },
   {
    "duration": 454,
    "start_time": "2023-03-22T10:32:41.267Z"
   },
   {
    "duration": 8,
    "start_time": "2023-03-22T10:32:41.722Z"
   },
   {
    "duration": 8,
    "start_time": "2023-03-22T10:32:41.741Z"
   },
   {
    "duration": 8,
    "start_time": "2023-03-22T10:32:41.751Z"
   },
   {
    "duration": 9,
    "start_time": "2023-03-22T10:32:41.761Z"
   },
   {
    "duration": 9,
    "start_time": "2023-03-22T10:32:41.772Z"
   },
   {
    "duration": 665,
    "start_time": "2023-03-22T10:32:41.782Z"
   },
   {
    "duration": 9,
    "start_time": "2023-03-22T10:32:42.450Z"
   },
   {
    "duration": 8,
    "start_time": "2023-03-22T10:32:42.463Z"
   },
   {
    "duration": 9,
    "start_time": "2023-03-22T10:32:42.472Z"
   },
   {
    "duration": 9,
    "start_time": "2023-03-22T10:32:42.482Z"
   },
   {
    "duration": 8,
    "start_time": "2023-03-22T10:32:42.492Z"
   },
   {
    "duration": 359,
    "start_time": "2023-03-22T10:32:42.501Z"
   },
   {
    "duration": 9,
    "start_time": "2023-03-22T10:32:42.861Z"
   },
   {
    "duration": 9,
    "start_time": "2023-03-22T10:32:42.872Z"
   },
   {
    "duration": 9,
    "start_time": "2023-03-22T10:32:42.883Z"
   },
   {
    "duration": 51,
    "start_time": "2023-03-22T10:32:42.894Z"
   },
   {
    "duration": 13,
    "start_time": "2023-03-22T10:32:42.947Z"
   },
   {
    "duration": 514,
    "start_time": "2023-03-22T10:32:42.961Z"
   },
   {
    "duration": 292,
    "start_time": "2023-03-22T10:32:43.476Z"
   },
   {
    "duration": 320,
    "start_time": "2023-03-22T10:32:43.769Z"
   },
   {
    "duration": 239,
    "start_time": "2023-03-22T10:32:44.091Z"
   },
   {
    "duration": 381,
    "start_time": "2023-03-22T10:32:44.331Z"
   },
   {
    "duration": 171,
    "start_time": "2023-03-22T10:32:44.713Z"
   },
   {
    "duration": 4,
    "start_time": "2023-03-22T10:32:44.886Z"
   },
   {
    "duration": 4,
    "start_time": "2023-03-22T10:32:44.892Z"
   },
   {
    "duration": 186,
    "start_time": "2023-03-22T10:32:44.897Z"
   },
   {
    "duration": 4,
    "start_time": "2023-03-22T10:32:45.085Z"
   },
   {
    "duration": 9,
    "start_time": "2023-03-22T10:32:45.090Z"
   },
   {
    "duration": 223,
    "start_time": "2023-03-22T10:32:45.100Z"
   },
   {
    "duration": 147,
    "start_time": "2023-03-22T10:32:45.324Z"
   },
   {
    "duration": 7,
    "start_time": "2023-03-22T10:32:45.473Z"
   },
   {
    "duration": 34,
    "start_time": "2023-03-22T10:32:45.482Z"
   },
   {
    "duration": 26,
    "start_time": "2023-03-22T10:32:45.517Z"
   },
   {
    "duration": 10,
    "start_time": "2023-03-22T10:32:45.545Z"
   },
   {
    "duration": 12,
    "start_time": "2023-03-22T10:32:45.556Z"
   },
   {
    "duration": 23,
    "start_time": "2023-03-22T10:32:45.569Z"
   },
   {
    "duration": 14,
    "start_time": "2023-03-22T10:32:45.593Z"
   },
   {
    "duration": 50,
    "start_time": "2023-03-22T11:32:33.908Z"
   },
   {
    "duration": 1369,
    "start_time": "2023-03-22T11:32:39.259Z"
   },
   {
    "duration": 218,
    "start_time": "2023-03-22T11:32:40.630Z"
   },
   {
    "duration": 12,
    "start_time": "2023-03-22T11:32:40.850Z"
   },
   {
    "duration": 8,
    "start_time": "2023-03-22T11:32:40.864Z"
   },
   {
    "duration": 9,
    "start_time": "2023-03-22T11:32:40.874Z"
   },
   {
    "duration": 16,
    "start_time": "2023-03-22T11:32:40.884Z"
   },
   {
    "duration": 10,
    "start_time": "2023-03-22T11:32:40.902Z"
   },
   {
    "duration": 11,
    "start_time": "2023-03-22T11:32:40.914Z"
   },
   {
    "duration": 6,
    "start_time": "2023-03-22T11:32:40.926Z"
   },
   {
    "duration": 6,
    "start_time": "2023-03-22T11:32:40.934Z"
   },
   {
    "duration": 6,
    "start_time": "2023-03-22T11:32:40.942Z"
   },
   {
    "duration": 5,
    "start_time": "2023-03-22T11:32:40.949Z"
   },
   {
    "duration": 8,
    "start_time": "2023-03-22T11:32:40.955Z"
   },
   {
    "duration": 8,
    "start_time": "2023-03-22T11:32:40.965Z"
   },
   {
    "duration": 9,
    "start_time": "2023-03-22T11:32:40.975Z"
   },
   {
    "duration": 28,
    "start_time": "2023-03-22T11:32:40.986Z"
   },
   {
    "duration": 6,
    "start_time": "2023-03-22T11:32:41.016Z"
   },
   {
    "duration": 7,
    "start_time": "2023-03-22T11:32:41.024Z"
   },
   {
    "duration": 5,
    "start_time": "2023-03-22T11:32:41.032Z"
   },
   {
    "duration": 507,
    "start_time": "2023-03-22T11:32:41.039Z"
   },
   {
    "duration": 9,
    "start_time": "2023-03-22T11:32:41.548Z"
   },
   {
    "duration": 8,
    "start_time": "2023-03-22T11:32:41.558Z"
   },
   {
    "duration": 9,
    "start_time": "2023-03-22T11:32:41.567Z"
   },
   {
    "duration": 36,
    "start_time": "2023-03-22T11:32:41.578Z"
   },
   {
    "duration": 8,
    "start_time": "2023-03-22T11:32:41.616Z"
   },
   {
    "duration": 678,
    "start_time": "2023-03-22T11:32:41.626Z"
   },
   {
    "duration": 11,
    "start_time": "2023-03-22T11:32:42.305Z"
   },
   {
    "duration": 8,
    "start_time": "2023-03-22T11:32:42.320Z"
   },
   {
    "duration": 9,
    "start_time": "2023-03-22T11:32:42.330Z"
   },
   {
    "duration": 10,
    "start_time": "2023-03-22T11:32:42.340Z"
   },
   {
    "duration": 8,
    "start_time": "2023-03-22T11:32:42.351Z"
   },
   {
    "duration": 376,
    "start_time": "2023-03-22T11:32:42.361Z"
   },
   {
    "duration": 9,
    "start_time": "2023-03-22T11:32:42.739Z"
   },
   {
    "duration": 12,
    "start_time": "2023-03-22T11:32:42.750Z"
   },
   {
    "duration": 10,
    "start_time": "2023-03-22T11:32:42.763Z"
   },
   {
    "duration": 37,
    "start_time": "2023-03-22T11:32:42.774Z"
   },
   {
    "duration": 11,
    "start_time": "2023-03-22T11:32:42.812Z"
   },
   {
    "duration": 535,
    "start_time": "2023-03-22T11:32:42.825Z"
   },
   {
    "duration": 314,
    "start_time": "2023-03-22T11:32:43.362Z"
   },
   {
    "duration": 410,
    "start_time": "2023-03-22T11:32:43.678Z"
   },
   {
    "duration": 276,
    "start_time": "2023-03-22T11:32:44.090Z"
   },
   {
    "duration": 347,
    "start_time": "2023-03-22T11:32:44.367Z"
   },
   {
    "duration": 166,
    "start_time": "2023-03-22T11:32:44.716Z"
   },
   {
    "duration": 5,
    "start_time": "2023-03-22T11:32:44.884Z"
   },
   {
    "duration": 21,
    "start_time": "2023-03-22T11:32:44.891Z"
   },
   {
    "duration": 175,
    "start_time": "2023-03-22T11:32:44.915Z"
   },
   {
    "duration": 18,
    "start_time": "2023-03-22T11:32:45.092Z"
   },
   {
    "duration": 12,
    "start_time": "2023-03-22T11:32:45.112Z"
   },
   {
    "duration": 226,
    "start_time": "2023-03-22T11:32:45.126Z"
   },
   {
    "duration": 141,
    "start_time": "2023-03-22T11:32:45.353Z"
   },
   {
    "duration": 15,
    "start_time": "2023-03-22T11:32:45.496Z"
   },
   {
    "duration": 24,
    "start_time": "2023-03-22T11:32:45.513Z"
   },
   {
    "duration": 10,
    "start_time": "2023-03-22T11:32:45.539Z"
   },
   {
    "duration": 8,
    "start_time": "2023-03-22T11:32:45.551Z"
   },
   {
    "duration": 32,
    "start_time": "2023-03-22T11:32:45.561Z"
   },
   {
    "duration": 27,
    "start_time": "2023-03-22T11:32:45.595Z"
   },
   {
    "duration": 18,
    "start_time": "2023-03-22T11:32:45.624Z"
   },
   {
    "duration": 51,
    "start_time": "2023-03-23T08:04:19.435Z"
   },
   {
    "duration": 1532,
    "start_time": "2023-03-23T08:12:41.359Z"
   },
   {
    "duration": 240,
    "start_time": "2023-03-23T08:12:42.894Z"
   },
   {
    "duration": 13,
    "start_time": "2023-03-23T08:12:43.136Z"
   },
   {
    "duration": 26,
    "start_time": "2023-03-23T08:12:43.153Z"
   },
   {
    "duration": 19,
    "start_time": "2023-03-23T08:12:43.181Z"
   },
   {
    "duration": 32,
    "start_time": "2023-03-23T08:12:43.202Z"
   },
   {
    "duration": 22,
    "start_time": "2023-03-23T08:12:43.236Z"
   },
   {
    "duration": 20,
    "start_time": "2023-03-23T08:12:43.260Z"
   },
   {
    "duration": 15,
    "start_time": "2023-03-23T08:12:43.282Z"
   },
   {
    "duration": 13,
    "start_time": "2023-03-23T08:12:43.300Z"
   },
   {
    "duration": 5,
    "start_time": "2023-03-23T08:12:43.315Z"
   },
   {
    "duration": 18,
    "start_time": "2023-03-23T08:12:43.323Z"
   },
   {
    "duration": 43,
    "start_time": "2023-03-23T08:12:43.343Z"
   },
   {
    "duration": 20,
    "start_time": "2023-03-23T08:12:43.388Z"
   },
   {
    "duration": 15,
    "start_time": "2023-03-23T08:12:43.410Z"
   },
   {
    "duration": 24,
    "start_time": "2023-03-23T08:12:43.428Z"
   },
   {
    "duration": 19,
    "start_time": "2023-03-23T08:12:43.454Z"
   },
   {
    "duration": 24,
    "start_time": "2023-03-23T08:12:43.475Z"
   },
   {
    "duration": 10,
    "start_time": "2023-03-23T08:12:43.501Z"
   },
   {
    "duration": 545,
    "start_time": "2023-03-23T08:12:43.513Z"
   },
   {
    "duration": 9,
    "start_time": "2023-03-23T08:12:44.061Z"
   },
   {
    "duration": 32,
    "start_time": "2023-03-23T08:12:44.072Z"
   },
   {
    "duration": 9,
    "start_time": "2023-03-23T08:12:44.106Z"
   },
   {
    "duration": 12,
    "start_time": "2023-03-23T08:12:44.117Z"
   },
   {
    "duration": 31,
    "start_time": "2023-03-23T08:12:44.130Z"
   },
   {
    "duration": 730,
    "start_time": "2023-03-23T08:12:44.162Z"
   },
   {
    "duration": 15,
    "start_time": "2023-03-23T08:12:44.894Z"
   },
   {
    "duration": 13,
    "start_time": "2023-03-23T08:12:44.913Z"
   },
   {
    "duration": 13,
    "start_time": "2023-03-23T08:12:44.928Z"
   },
   {
    "duration": 21,
    "start_time": "2023-03-23T08:12:44.943Z"
   },
   {
    "duration": 42,
    "start_time": "2023-03-23T08:12:44.967Z"
   },
   {
    "duration": 392,
    "start_time": "2023-03-23T08:12:45.011Z"
   },
   {
    "duration": 11,
    "start_time": "2023-03-23T08:12:45.406Z"
   },
   {
    "duration": 9,
    "start_time": "2023-03-23T08:12:45.419Z"
   },
   {
    "duration": 23,
    "start_time": "2023-03-23T08:12:45.429Z"
   },
   {
    "duration": 19,
    "start_time": "2023-03-23T08:12:45.454Z"
   },
   {
    "duration": 38,
    "start_time": "2023-03-23T08:12:45.475Z"
   },
   {
    "duration": 598,
    "start_time": "2023-03-23T08:12:45.515Z"
   },
   {
    "duration": 348,
    "start_time": "2023-03-23T08:12:46.116Z"
   },
   {
    "duration": 409,
    "start_time": "2023-03-23T08:12:46.466Z"
   },
   {
    "duration": 306,
    "start_time": "2023-03-23T08:12:46.877Z"
   },
   {
    "duration": 398,
    "start_time": "2023-03-23T08:12:47.185Z"
   },
   {
    "duration": 182,
    "start_time": "2023-03-23T08:12:47.585Z"
   },
   {
    "duration": 6,
    "start_time": "2023-03-23T08:12:47.769Z"
   },
   {
    "duration": 6,
    "start_time": "2023-03-23T08:12:47.777Z"
   },
   {
    "duration": 225,
    "start_time": "2023-03-23T08:12:47.785Z"
   },
   {
    "duration": 4,
    "start_time": "2023-03-23T08:12:48.012Z"
   },
   {
    "duration": 10,
    "start_time": "2023-03-23T08:12:48.019Z"
   },
   {
    "duration": 296,
    "start_time": "2023-03-23T08:12:48.031Z"
   },
   {
    "duration": 194,
    "start_time": "2023-03-23T08:12:48.329Z"
   },
   {
    "duration": 7,
    "start_time": "2023-03-23T08:12:48.525Z"
   },
   {
    "duration": 27,
    "start_time": "2023-03-23T08:12:48.533Z"
   },
   {
    "duration": 14,
    "start_time": "2023-03-23T08:12:48.562Z"
   },
   {
    "duration": 32,
    "start_time": "2023-03-23T08:12:48.578Z"
   },
   {
    "duration": 13,
    "start_time": "2023-03-23T08:12:48.613Z"
   },
   {
    "duration": 32,
    "start_time": "2023-03-23T08:12:48.628Z"
   },
   {
    "duration": 41,
    "start_time": "2023-03-23T08:12:48.662Z"
   },
   {
    "duration": 16,
    "start_time": "2023-03-23T08:14:10.185Z"
   },
   {
    "duration": 16,
    "start_time": "2023-03-23T08:14:17.726Z"
   },
   {
    "duration": 15,
    "start_time": "2023-03-23T08:14:32.463Z"
   },
   {
    "duration": 11,
    "start_time": "2023-03-23T08:14:41.558Z"
   },
   {
    "duration": 7,
    "start_time": "2023-03-23T08:14:48.186Z"
   },
   {
    "duration": 16,
    "start_time": "2023-03-23T08:14:52.067Z"
   },
   {
    "duration": 16,
    "start_time": "2023-03-23T08:14:59.125Z"
   },
   {
    "duration": 16,
    "start_time": "2023-03-23T08:15:01.842Z"
   },
   {
    "duration": 614,
    "start_time": "2023-03-23T08:17:34.241Z"
   },
   {
    "duration": 222,
    "start_time": "2023-03-23T08:18:37.148Z"
   },
   {
    "duration": 219,
    "start_time": "2023-03-23T08:18:55.042Z"
   },
   {
    "duration": 258,
    "start_time": "2023-03-23T08:19:10.667Z"
   },
   {
    "duration": 617,
    "start_time": "2023-03-23T08:19:37.781Z"
   },
   {
    "duration": 776,
    "start_time": "2023-03-23T08:20:11.389Z"
   },
   {
    "duration": 263,
    "start_time": "2023-03-23T08:21:06.065Z"
   },
   {
    "duration": 567,
    "start_time": "2023-03-23T08:21:25.129Z"
   },
   {
    "duration": 639,
    "start_time": "2023-03-23T08:21:31.091Z"
   },
   {
    "duration": 289,
    "start_time": "2023-03-23T08:22:53.768Z"
   },
   {
    "duration": 375,
    "start_time": "2023-03-23T08:25:04.648Z"
   },
   {
    "duration": 338,
    "start_time": "2023-03-23T08:27:42.481Z"
   },
   {
    "duration": 368,
    "start_time": "2023-03-23T08:27:51.926Z"
   },
   {
    "duration": 316,
    "start_time": "2023-03-23T08:31:09.323Z"
   },
   {
    "duration": 529,
    "start_time": "2023-03-23T08:33:51.962Z"
   },
   {
    "duration": 500,
    "start_time": "2023-03-23T08:34:13.834Z"
   },
   {
    "duration": 359,
    "start_time": "2023-03-23T08:34:40.665Z"
   },
   {
    "duration": 204,
    "start_time": "2023-03-23T08:35:12.569Z"
   },
   {
    "duration": 23,
    "start_time": "2023-03-23T08:39:13.528Z"
   },
   {
    "duration": 24,
    "start_time": "2023-03-23T08:39:32.389Z"
   },
   {
    "duration": 23,
    "start_time": "2023-03-23T08:39:40.888Z"
   },
   {
    "duration": 33,
    "start_time": "2023-03-23T08:40:02.280Z"
   },
   {
    "duration": 29,
    "start_time": "2023-03-23T08:40:20.982Z"
   },
   {
    "duration": 6,
    "start_time": "2023-03-23T08:42:33.722Z"
   },
   {
    "duration": 182,
    "start_time": "2023-03-23T08:45:41.053Z"
   },
   {
    "duration": 25,
    "start_time": "2023-03-23T08:47:27.184Z"
   },
   {
    "duration": 383,
    "start_time": "2023-03-23T08:48:10.591Z"
   },
   {
    "duration": 1684,
    "start_time": "2023-03-23T11:45:16.273Z"
   },
   {
    "duration": 232,
    "start_time": "2023-03-23T11:45:17.959Z"
   },
   {
    "duration": 20,
    "start_time": "2023-03-23T11:45:18.193Z"
   },
   {
    "duration": 16,
    "start_time": "2023-03-23T11:45:18.215Z"
   },
   {
    "duration": 16,
    "start_time": "2023-03-23T11:45:18.234Z"
   },
   {
    "duration": 28,
    "start_time": "2023-03-23T11:45:18.253Z"
   },
   {
    "duration": 27,
    "start_time": "2023-03-23T11:45:18.283Z"
   },
   {
    "duration": 24,
    "start_time": "2023-03-23T11:45:18.312Z"
   },
   {
    "duration": 25,
    "start_time": "2023-03-23T11:45:18.338Z"
   },
   {
    "duration": 19,
    "start_time": "2023-03-23T11:45:18.365Z"
   },
   {
    "duration": 21,
    "start_time": "2023-03-23T11:45:18.386Z"
   },
   {
    "duration": 11,
    "start_time": "2023-03-23T11:45:18.410Z"
   },
   {
    "duration": 27,
    "start_time": "2023-03-23T11:45:18.423Z"
   },
   {
    "duration": 13,
    "start_time": "2023-03-23T11:45:18.453Z"
   },
   {
    "duration": 15,
    "start_time": "2023-03-23T11:45:18.468Z"
   },
   {
    "duration": 23,
    "start_time": "2023-03-23T11:45:18.485Z"
   },
   {
    "duration": 17,
    "start_time": "2023-03-23T11:45:18.510Z"
   },
   {
    "duration": 24,
    "start_time": "2023-03-23T11:45:18.529Z"
   },
   {
    "duration": 21,
    "start_time": "2023-03-23T11:45:18.555Z"
   },
   {
    "duration": 565,
    "start_time": "2023-03-23T11:45:18.578Z"
   },
   {
    "duration": 9,
    "start_time": "2023-03-23T11:45:19.146Z"
   },
   {
    "duration": 39,
    "start_time": "2023-03-23T11:45:19.157Z"
   },
   {
    "duration": 63,
    "start_time": "2023-03-23T11:45:19.197Z"
   },
   {
    "duration": 39,
    "start_time": "2023-03-23T11:45:19.262Z"
   },
   {
    "duration": 58,
    "start_time": "2023-03-23T11:45:19.303Z"
   },
   {
    "duration": 726,
    "start_time": "2023-03-23T11:45:19.363Z"
   },
   {
    "duration": 10,
    "start_time": "2023-03-23T11:45:20.091Z"
   },
   {
    "duration": 47,
    "start_time": "2023-03-23T11:45:20.103Z"
   },
   {
    "duration": 33,
    "start_time": "2023-03-23T11:45:20.152Z"
   },
   {
    "duration": 31,
    "start_time": "2023-03-23T11:45:20.187Z"
   },
   {
    "duration": 33,
    "start_time": "2023-03-23T11:45:20.220Z"
   },
   {
    "duration": 372,
    "start_time": "2023-03-23T11:45:20.255Z"
   },
   {
    "duration": 13,
    "start_time": "2023-03-23T11:45:20.629Z"
   },
   {
    "duration": 26,
    "start_time": "2023-03-23T11:45:20.643Z"
   },
   {
    "duration": 41,
    "start_time": "2023-03-23T11:45:20.671Z"
   },
   {
    "duration": 21,
    "start_time": "2023-03-23T11:45:20.713Z"
   },
   {
    "duration": 20,
    "start_time": "2023-03-23T11:45:20.736Z"
   },
   {
    "duration": 37,
    "start_time": "2023-03-23T11:45:20.758Z"
   },
   {
    "duration": 34,
    "start_time": "2023-03-23T11:45:20.797Z"
   },
   {
    "duration": 675,
    "start_time": "2023-03-23T11:45:20.834Z"
   },
   {
    "duration": 252,
    "start_time": "2023-03-23T11:45:21.513Z"
   },
   {
    "duration": 125,
    "start_time": "2023-03-23T11:45:21.767Z"
   },
   {
    "duration": 0,
    "start_time": "2023-03-23T11:45:21.894Z"
   },
   {
    "duration": 0,
    "start_time": "2023-03-23T11:45:21.895Z"
   },
   {
    "duration": 0,
    "start_time": "2023-03-23T11:45:21.896Z"
   },
   {
    "duration": 0,
    "start_time": "2023-03-23T11:45:21.897Z"
   },
   {
    "duration": 0,
    "start_time": "2023-03-23T11:45:21.898Z"
   },
   {
    "duration": 0,
    "start_time": "2023-03-23T11:45:21.899Z"
   },
   {
    "duration": 0,
    "start_time": "2023-03-23T11:45:21.900Z"
   },
   {
    "duration": 0,
    "start_time": "2023-03-23T11:45:21.902Z"
   },
   {
    "duration": 0,
    "start_time": "2023-03-23T11:45:21.903Z"
   },
   {
    "duration": 0,
    "start_time": "2023-03-23T11:45:21.903Z"
   },
   {
    "duration": 0,
    "start_time": "2023-03-23T11:45:21.905Z"
   },
   {
    "duration": 0,
    "start_time": "2023-03-23T11:45:21.906Z"
   },
   {
    "duration": 0,
    "start_time": "2023-03-23T11:45:21.907Z"
   },
   {
    "duration": 0,
    "start_time": "2023-03-23T11:45:21.908Z"
   },
   {
    "duration": 0,
    "start_time": "2023-03-23T11:45:21.909Z"
   },
   {
    "duration": 0,
    "start_time": "2023-03-23T11:45:21.910Z"
   },
   {
    "duration": 0,
    "start_time": "2023-03-23T11:45:21.912Z"
   },
   {
    "duration": 0,
    "start_time": "2023-03-23T11:45:21.913Z"
   },
   {
    "duration": 1251,
    "start_time": "2023-03-23T11:45:36.090Z"
   },
   {
    "duration": 80,
    "start_time": "2023-03-23T11:45:37.343Z"
   },
   {
    "duration": 15,
    "start_time": "2023-03-23T11:45:37.425Z"
   },
   {
    "duration": 13,
    "start_time": "2023-03-23T11:45:37.442Z"
   },
   {
    "duration": 18,
    "start_time": "2023-03-23T11:45:37.459Z"
   },
   {
    "duration": 23,
    "start_time": "2023-03-23T11:45:37.479Z"
   },
   {
    "duration": 21,
    "start_time": "2023-03-23T11:45:37.504Z"
   },
   {
    "duration": 21,
    "start_time": "2023-03-23T11:45:37.528Z"
   },
   {
    "duration": 16,
    "start_time": "2023-03-23T11:45:37.551Z"
   },
   {
    "duration": 11,
    "start_time": "2023-03-23T11:45:37.569Z"
   },
   {
    "duration": 9,
    "start_time": "2023-03-23T11:45:37.582Z"
   },
   {
    "duration": 10,
    "start_time": "2023-03-23T11:45:37.592Z"
   },
   {
    "duration": 9,
    "start_time": "2023-03-23T11:45:37.605Z"
   },
   {
    "duration": 11,
    "start_time": "2023-03-23T11:45:37.618Z"
   },
   {
    "duration": 34,
    "start_time": "2023-03-23T11:45:37.630Z"
   },
   {
    "duration": 28,
    "start_time": "2023-03-23T11:45:37.666Z"
   },
   {
    "duration": 11,
    "start_time": "2023-03-23T11:45:37.697Z"
   },
   {
    "duration": 16,
    "start_time": "2023-03-23T11:45:37.710Z"
   },
   {
    "duration": 6,
    "start_time": "2023-03-23T11:45:37.728Z"
   },
   {
    "duration": 607,
    "start_time": "2023-03-23T11:45:37.736Z"
   },
   {
    "duration": 9,
    "start_time": "2023-03-23T11:45:38.345Z"
   },
   {
    "duration": 8,
    "start_time": "2023-03-23T11:45:38.355Z"
   },
   {
    "duration": 31,
    "start_time": "2023-03-23T11:45:38.365Z"
   },
   {
    "duration": 9,
    "start_time": "2023-03-23T11:45:38.398Z"
   },
   {
    "duration": 9,
    "start_time": "2023-03-23T11:45:38.409Z"
   },
   {
    "duration": 780,
    "start_time": "2023-03-23T11:45:38.420Z"
   },
   {
    "duration": 11,
    "start_time": "2023-03-23T11:45:39.202Z"
   },
   {
    "duration": 11,
    "start_time": "2023-03-23T11:45:39.214Z"
   },
   {
    "duration": 10,
    "start_time": "2023-03-23T11:45:39.227Z"
   },
   {
    "duration": 57,
    "start_time": "2023-03-23T11:45:39.239Z"
   },
   {
    "duration": 9,
    "start_time": "2023-03-23T11:45:39.298Z"
   },
   {
    "duration": 402,
    "start_time": "2023-03-23T11:45:39.309Z"
   },
   {
    "duration": 9,
    "start_time": "2023-03-23T11:45:39.713Z"
   },
   {
    "duration": 11,
    "start_time": "2023-03-23T11:45:39.724Z"
   },
   {
    "duration": 11,
    "start_time": "2023-03-23T11:45:39.736Z"
   },
   {
    "duration": 50,
    "start_time": "2023-03-23T11:45:39.749Z"
   },
   {
    "duration": 15,
    "start_time": "2023-03-23T11:45:39.801Z"
   },
   {
    "duration": 22,
    "start_time": "2023-03-23T11:45:39.818Z"
   },
   {
    "duration": 24,
    "start_time": "2023-03-23T11:45:39.842Z"
   },
   {
    "duration": 711,
    "start_time": "2023-03-23T11:45:39.868Z"
   },
   {
    "duration": 270,
    "start_time": "2023-03-23T11:45:40.592Z"
   },
   {
    "duration": 134,
    "start_time": "2023-03-23T11:45:40.864Z"
   },
   {
    "duration": 0,
    "start_time": "2023-03-23T11:45:41.000Z"
   },
   {
    "duration": 0,
    "start_time": "2023-03-23T11:45:41.002Z"
   },
   {
    "duration": 0,
    "start_time": "2023-03-23T11:45:41.004Z"
   },
   {
    "duration": 0,
    "start_time": "2023-03-23T11:45:41.005Z"
   },
   {
    "duration": 0,
    "start_time": "2023-03-23T11:45:41.007Z"
   },
   {
    "duration": 0,
    "start_time": "2023-03-23T11:45:41.009Z"
   },
   {
    "duration": 0,
    "start_time": "2023-03-23T11:45:41.010Z"
   },
   {
    "duration": 0,
    "start_time": "2023-03-23T11:45:41.011Z"
   },
   {
    "duration": 0,
    "start_time": "2023-03-23T11:45:41.013Z"
   },
   {
    "duration": 0,
    "start_time": "2023-03-23T11:45:41.014Z"
   },
   {
    "duration": 0,
    "start_time": "2023-03-23T11:45:41.016Z"
   },
   {
    "duration": 0,
    "start_time": "2023-03-23T11:45:41.017Z"
   },
   {
    "duration": 0,
    "start_time": "2023-03-23T11:45:41.019Z"
   },
   {
    "duration": 0,
    "start_time": "2023-03-23T11:45:41.021Z"
   },
   {
    "duration": 0,
    "start_time": "2023-03-23T11:45:41.022Z"
   },
   {
    "duration": 0,
    "start_time": "2023-03-23T11:45:41.024Z"
   },
   {
    "duration": 0,
    "start_time": "2023-03-23T11:45:41.025Z"
   },
   {
    "duration": 0,
    "start_time": "2023-03-23T11:45:41.027Z"
   },
   {
    "duration": 164,
    "start_time": "2023-03-23T11:49:17.236Z"
   },
   {
    "duration": 5,
    "start_time": "2023-03-23T11:50:26.848Z"
   },
   {
    "duration": 10,
    "start_time": "2023-03-23T11:50:41.776Z"
   },
   {
    "duration": 10,
    "start_time": "2023-03-23T11:51:50.470Z"
   },
   {
    "duration": 187,
    "start_time": "2023-03-23T11:52:11.868Z"
   },
   {
    "duration": 1264,
    "start_time": "2023-03-23T11:52:37.326Z"
   },
   {
    "duration": 80,
    "start_time": "2023-03-23T11:52:38.592Z"
   },
   {
    "duration": 13,
    "start_time": "2023-03-23T11:52:38.674Z"
   },
   {
    "duration": 9,
    "start_time": "2023-03-23T11:52:38.689Z"
   },
   {
    "duration": 7,
    "start_time": "2023-03-23T11:52:38.701Z"
   },
   {
    "duration": 16,
    "start_time": "2023-03-23T11:52:38.710Z"
   },
   {
    "duration": 12,
    "start_time": "2023-03-23T11:52:38.728Z"
   },
   {
    "duration": 12,
    "start_time": "2023-03-23T11:52:38.742Z"
   },
   {
    "duration": 38,
    "start_time": "2023-03-23T11:52:38.756Z"
   },
   {
    "duration": 6,
    "start_time": "2023-03-23T11:52:38.795Z"
   },
   {
    "duration": 6,
    "start_time": "2023-03-23T11:52:38.803Z"
   },
   {
    "duration": 5,
    "start_time": "2023-03-23T11:52:38.811Z"
   },
   {
    "duration": 9,
    "start_time": "2023-03-23T11:52:38.817Z"
   },
   {
    "duration": 9,
    "start_time": "2023-03-23T11:52:38.829Z"
   },
   {
    "duration": 7,
    "start_time": "2023-03-23T11:52:38.839Z"
   },
   {
    "duration": 43,
    "start_time": "2023-03-23T11:52:38.848Z"
   },
   {
    "duration": 7,
    "start_time": "2023-03-23T11:52:38.893Z"
   },
   {
    "duration": 7,
    "start_time": "2023-03-23T11:52:38.902Z"
   },
   {
    "duration": 5,
    "start_time": "2023-03-23T11:52:38.911Z"
   },
   {
    "duration": 549,
    "start_time": "2023-03-23T11:52:38.918Z"
   },
   {
    "duration": 21,
    "start_time": "2023-03-23T11:52:39.470Z"
   },
   {
    "duration": 9,
    "start_time": "2023-03-23T11:52:39.492Z"
   },
   {
    "duration": 9,
    "start_time": "2023-03-23T11:52:39.503Z"
   },
   {
    "duration": 8,
    "start_time": "2023-03-23T11:52:39.513Z"
   },
   {
    "duration": 8,
    "start_time": "2023-03-23T11:52:39.523Z"
   },
   {
    "duration": 734,
    "start_time": "2023-03-23T11:52:39.533Z"
   },
   {
    "duration": 21,
    "start_time": "2023-03-23T11:52:40.269Z"
   },
   {
    "duration": 10,
    "start_time": "2023-03-23T11:52:40.292Z"
   },
   {
    "duration": 9,
    "start_time": "2023-03-23T11:52:40.304Z"
   },
   {
    "duration": 12,
    "start_time": "2023-03-23T11:52:40.315Z"
   },
   {
    "duration": 10,
    "start_time": "2023-03-23T11:52:40.329Z"
   },
   {
    "duration": 399,
    "start_time": "2023-03-23T11:52:40.341Z"
   },
   {
    "duration": 10,
    "start_time": "2023-03-23T11:52:40.741Z"
   },
   {
    "duration": 8,
    "start_time": "2023-03-23T11:52:40.752Z"
   },
   {
    "duration": 8,
    "start_time": "2023-03-23T11:52:40.790Z"
   },
   {
    "duration": 13,
    "start_time": "2023-03-23T11:52:40.800Z"
   },
   {
    "duration": 11,
    "start_time": "2023-03-23T11:52:40.814Z"
   },
   {
    "duration": 29,
    "start_time": "2023-03-23T11:52:40.827Z"
   },
   {
    "duration": 44,
    "start_time": "2023-03-23T11:52:40.858Z"
   },
   {
    "duration": 632,
    "start_time": "2023-03-23T11:52:40.904Z"
   },
   {
    "duration": 267,
    "start_time": "2023-03-23T11:52:41.540Z"
   },
   {
    "duration": 346,
    "start_time": "2023-03-23T11:52:41.809Z"
   },
   {
    "duration": 345,
    "start_time": "2023-03-23T11:52:42.157Z"
   },
   {
    "duration": 397,
    "start_time": "2023-03-23T11:52:42.504Z"
   },
   {
    "duration": 189,
    "start_time": "2023-03-23T11:52:42.903Z"
   },
   {
    "duration": 6,
    "start_time": "2023-03-23T11:52:43.094Z"
   },
   {
    "duration": 5,
    "start_time": "2023-03-23T11:52:43.101Z"
   },
   {
    "duration": 214,
    "start_time": "2023-03-23T11:52:43.108Z"
   },
   {
    "duration": 5,
    "start_time": "2023-03-23T11:52:43.324Z"
   },
   {
    "duration": 4,
    "start_time": "2023-03-23T11:52:43.330Z"
   },
   {
    "duration": 247,
    "start_time": "2023-03-23T11:52:43.336Z"
   },
   {
    "duration": 150,
    "start_time": "2023-03-23T11:52:43.589Z"
   },
   {
    "duration": 7,
    "start_time": "2023-03-23T11:52:43.740Z"
   },
   {
    "duration": 42,
    "start_time": "2023-03-23T11:52:43.749Z"
   },
   {
    "duration": 12,
    "start_time": "2023-03-23T11:52:43.792Z"
   },
   {
    "duration": 10,
    "start_time": "2023-03-23T11:52:43.805Z"
   },
   {
    "duration": 9,
    "start_time": "2023-03-23T11:52:43.817Z"
   },
   {
    "duration": 24,
    "start_time": "2023-03-23T11:52:43.827Z"
   },
   {
    "duration": 46,
    "start_time": "2023-03-23T11:52:43.853Z"
   },
   {
    "duration": 20,
    "start_time": "2023-03-23T11:53:39.522Z"
   },
   {
    "duration": 12,
    "start_time": "2023-03-23T11:56:52.605Z"
   },
   {
    "duration": 12,
    "start_time": "2023-03-23T11:58:26.273Z"
   },
   {
    "duration": 55,
    "start_time": "2023-03-23T13:54:50.070Z"
   },
   {
    "duration": 1507,
    "start_time": "2023-03-23T13:54:58.037Z"
   },
   {
    "duration": 215,
    "start_time": "2023-03-23T13:54:59.547Z"
   },
   {
    "duration": 18,
    "start_time": "2023-03-23T13:54:59.765Z"
   },
   {
    "duration": 9,
    "start_time": "2023-03-23T13:54:59.786Z"
   },
   {
    "duration": 7,
    "start_time": "2023-03-23T13:54:59.797Z"
   },
   {
    "duration": 12,
    "start_time": "2023-03-23T13:54:59.805Z"
   },
   {
    "duration": 44,
    "start_time": "2023-03-23T13:54:59.818Z"
   },
   {
    "duration": 17,
    "start_time": "2023-03-23T13:54:59.864Z"
   },
   {
    "duration": 4,
    "start_time": "2023-03-23T13:54:59.885Z"
   },
   {
    "duration": 6,
    "start_time": "2023-03-23T13:54:59.892Z"
   },
   {
    "duration": 6,
    "start_time": "2023-03-23T13:54:59.899Z"
   },
   {
    "duration": 5,
    "start_time": "2023-03-23T13:54:59.906Z"
   },
   {
    "duration": 6,
    "start_time": "2023-03-23T13:54:59.912Z"
   },
   {
    "duration": 49,
    "start_time": "2023-03-23T13:54:59.920Z"
   },
   {
    "duration": 14,
    "start_time": "2023-03-23T13:54:59.971Z"
   },
   {
    "duration": 6,
    "start_time": "2023-03-23T13:54:59.987Z"
   },
   {
    "duration": 6,
    "start_time": "2023-03-23T13:54:59.994Z"
   },
   {
    "duration": 16,
    "start_time": "2023-03-23T13:55:00.002Z"
   },
   {
    "duration": 11,
    "start_time": "2023-03-23T13:55:00.020Z"
   },
   {
    "duration": 604,
    "start_time": "2023-03-23T13:55:00.033Z"
   },
   {
    "duration": 9,
    "start_time": "2023-03-23T13:55:00.638Z"
   },
   {
    "duration": 28,
    "start_time": "2023-03-23T13:55:00.648Z"
   },
   {
    "duration": 28,
    "start_time": "2023-03-23T13:55:00.678Z"
   },
   {
    "duration": 36,
    "start_time": "2023-03-23T13:55:00.708Z"
   },
   {
    "duration": 36,
    "start_time": "2023-03-23T13:55:00.745Z"
   },
   {
    "duration": 765,
    "start_time": "2023-03-23T13:55:00.783Z"
   },
   {
    "duration": 16,
    "start_time": "2023-03-23T13:55:01.550Z"
   },
   {
    "duration": 16,
    "start_time": "2023-03-23T13:55:01.571Z"
   },
   {
    "duration": 31,
    "start_time": "2023-03-23T13:55:01.589Z"
   },
   {
    "duration": 33,
    "start_time": "2023-03-23T13:55:01.622Z"
   },
   {
    "duration": 51,
    "start_time": "2023-03-23T13:55:01.657Z"
   },
   {
    "duration": 427,
    "start_time": "2023-03-23T13:55:01.709Z"
   },
   {
    "duration": 23,
    "start_time": "2023-03-23T13:55:02.138Z"
   },
   {
    "duration": 21,
    "start_time": "2023-03-23T13:55:02.163Z"
   },
   {
    "duration": 16,
    "start_time": "2023-03-23T13:55:02.186Z"
   },
   {
    "duration": 21,
    "start_time": "2023-03-23T13:55:02.204Z"
   },
   {
    "duration": 12,
    "start_time": "2023-03-23T13:55:02.227Z"
   },
   {
    "duration": 27,
    "start_time": "2023-03-23T13:55:02.240Z"
   },
   {
    "duration": 666,
    "start_time": "2023-03-23T13:55:02.269Z"
   },
   {
    "duration": 258,
    "start_time": "2023-03-23T13:55:02.937Z"
   },
   {
    "duration": 416,
    "start_time": "2023-03-23T13:55:03.196Z"
   },
   {
    "duration": 315,
    "start_time": "2023-03-23T13:55:03.614Z"
   },
   {
    "duration": 433,
    "start_time": "2023-03-23T13:55:03.931Z"
   },
   {
    "duration": 183,
    "start_time": "2023-03-23T13:55:04.367Z"
   },
   {
    "duration": 11,
    "start_time": "2023-03-23T13:55:04.552Z"
   },
   {
    "duration": 7,
    "start_time": "2023-03-23T13:55:04.565Z"
   },
   {
    "duration": 216,
    "start_time": "2023-03-23T13:55:04.574Z"
   },
   {
    "duration": 210,
    "start_time": "2023-03-23T13:55:04.792Z"
   },
   {
    "duration": 5,
    "start_time": "2023-03-23T13:55:05.003Z"
   },
   {
    "duration": 7,
    "start_time": "2023-03-23T13:55:05.009Z"
   },
   {
    "duration": 318,
    "start_time": "2023-03-23T13:55:05.018Z"
   },
   {
    "duration": 216,
    "start_time": "2023-03-23T13:55:05.338Z"
   },
   {
    "duration": 14,
    "start_time": "2023-03-23T13:55:05.556Z"
   },
   {
    "duration": 32,
    "start_time": "2023-03-23T13:55:05.572Z"
   },
   {
    "duration": 14,
    "start_time": "2023-03-23T13:55:05.606Z"
   },
   {
    "duration": 42,
    "start_time": "2023-03-23T13:55:05.622Z"
   },
   {
    "duration": 11,
    "start_time": "2023-03-23T13:55:05.680Z"
   },
   {
    "duration": 31,
    "start_time": "2023-03-23T13:55:05.693Z"
   },
   {
    "duration": 14,
    "start_time": "2023-03-23T13:55:05.726Z"
   },
   {
    "duration": 212,
    "start_time": "2023-03-23T13:55:20.318Z"
   },
   {
    "duration": 223,
    "start_time": "2023-03-23T13:55:44.960Z"
   },
   {
    "duration": 53,
    "start_time": "2023-03-23T17:55:04.205Z"
   },
   {
    "duration": 1531,
    "start_time": "2023-03-23T17:55:10.854Z"
   },
   {
    "duration": 242,
    "start_time": "2023-03-23T17:55:12.387Z"
   },
   {
    "duration": 13,
    "start_time": "2023-03-23T17:55:12.631Z"
   },
   {
    "duration": 8,
    "start_time": "2023-03-23T17:55:12.647Z"
   },
   {
    "duration": 12,
    "start_time": "2023-03-23T17:55:12.657Z"
   },
   {
    "duration": 15,
    "start_time": "2023-03-23T17:55:12.671Z"
   },
   {
    "duration": 28,
    "start_time": "2023-03-23T17:55:12.690Z"
   },
   {
    "duration": 20,
    "start_time": "2023-03-23T17:55:12.720Z"
   },
   {
    "duration": 9,
    "start_time": "2023-03-23T17:55:12.742Z"
   },
   {
    "duration": 6,
    "start_time": "2023-03-23T17:55:12.754Z"
   },
   {
    "duration": 14,
    "start_time": "2023-03-23T17:55:12.762Z"
   },
   {
    "duration": 27,
    "start_time": "2023-03-23T17:55:12.778Z"
   },
   {
    "duration": 23,
    "start_time": "2023-03-23T17:55:12.807Z"
   },
   {
    "duration": 11,
    "start_time": "2023-03-23T17:55:12.832Z"
   },
   {
    "duration": 9,
    "start_time": "2023-03-23T17:55:12.844Z"
   },
   {
    "duration": 13,
    "start_time": "2023-03-23T17:55:12.855Z"
   },
   {
    "duration": 10,
    "start_time": "2023-03-23T17:55:12.870Z"
   },
   {
    "duration": 21,
    "start_time": "2023-03-23T17:55:12.882Z"
   },
   {
    "duration": 8,
    "start_time": "2023-03-23T17:55:12.906Z"
   },
   {
    "duration": 567,
    "start_time": "2023-03-23T17:55:12.916Z"
   },
   {
    "duration": 21,
    "start_time": "2023-03-23T17:55:13.485Z"
   },
   {
    "duration": 17,
    "start_time": "2023-03-23T17:55:13.508Z"
   },
   {
    "duration": 17,
    "start_time": "2023-03-23T17:55:13.527Z"
   },
   {
    "duration": 10,
    "start_time": "2023-03-23T17:55:13.546Z"
   },
   {
    "duration": 32,
    "start_time": "2023-03-23T17:55:13.559Z"
   },
   {
    "duration": 777,
    "start_time": "2023-03-23T17:55:13.592Z"
   },
   {
    "duration": 26,
    "start_time": "2023-03-23T17:55:14.371Z"
   },
   {
    "duration": 12,
    "start_time": "2023-03-23T17:55:14.406Z"
   },
   {
    "duration": 15,
    "start_time": "2023-03-23T17:55:14.420Z"
   },
   {
    "duration": 13,
    "start_time": "2023-03-23T17:55:14.437Z"
   },
   {
    "duration": 50,
    "start_time": "2023-03-23T17:55:14.452Z"
   },
   {
    "duration": 446,
    "start_time": "2023-03-23T17:55:14.504Z"
   },
   {
    "duration": 10,
    "start_time": "2023-03-23T17:55:14.952Z"
   },
   {
    "duration": 42,
    "start_time": "2023-03-23T17:55:14.965Z"
   },
   {
    "duration": 45,
    "start_time": "2023-03-23T17:55:15.009Z"
   },
   {
    "duration": 21,
    "start_time": "2023-03-23T17:55:15.056Z"
   },
   {
    "duration": 21,
    "start_time": "2023-03-23T17:55:15.079Z"
   },
   {
    "duration": 20,
    "start_time": "2023-03-23T17:55:15.107Z"
   },
   {
    "duration": 721,
    "start_time": "2023-03-23T17:55:15.129Z"
   },
   {
    "duration": 294,
    "start_time": "2023-03-23T17:55:15.853Z"
   },
   {
    "duration": 463,
    "start_time": "2023-03-23T17:55:16.150Z"
   },
   {
    "duration": 387,
    "start_time": "2023-03-23T17:55:16.615Z"
   },
   {
    "duration": 455,
    "start_time": "2023-03-23T17:55:17.004Z"
   },
   {
    "duration": 205,
    "start_time": "2023-03-23T17:55:17.461Z"
   },
   {
    "duration": 5,
    "start_time": "2023-03-23T17:55:17.669Z"
   },
   {
    "duration": 17,
    "start_time": "2023-03-23T17:55:17.676Z"
   },
   {
    "duration": 236,
    "start_time": "2023-03-23T17:55:17.698Z"
   },
   {
    "duration": 212,
    "start_time": "2023-03-23T17:55:17.936Z"
   },
   {
    "duration": 5,
    "start_time": "2023-03-23T17:55:18.150Z"
   },
   {
    "duration": 17,
    "start_time": "2023-03-23T17:55:18.157Z"
   },
   {
    "duration": 263,
    "start_time": "2023-03-23T17:55:18.176Z"
   },
   {
    "duration": 159,
    "start_time": "2023-03-23T17:55:18.441Z"
   },
   {
    "duration": 6,
    "start_time": "2023-03-23T17:55:18.606Z"
   },
   {
    "duration": 36,
    "start_time": "2023-03-23T17:55:18.614Z"
   },
   {
    "duration": 11,
    "start_time": "2023-03-23T17:55:18.651Z"
   },
   {
    "duration": 9,
    "start_time": "2023-03-23T17:55:18.664Z"
   },
   {
    "duration": 17,
    "start_time": "2023-03-23T17:55:18.688Z"
   },
   {
    "duration": 34,
    "start_time": "2023-03-23T17:55:18.707Z"
   },
   {
    "duration": 17,
    "start_time": "2023-03-23T17:55:18.743Z"
   },
   {
    "duration": 303,
    "start_time": "2023-03-23T18:02:00.756Z"
   },
   {
    "duration": 318,
    "start_time": "2023-03-23T18:02:35.238Z"
   },
   {
    "duration": 325,
    "start_time": "2023-03-23T18:02:50.655Z"
   },
   {
    "duration": 8,
    "start_time": "2023-03-23T18:03:02.521Z"
   },
   {
    "duration": 8,
    "start_time": "2023-03-23T18:03:18.178Z"
   },
   {
    "duration": 5,
    "start_time": "2023-03-23T18:03:32.117Z"
   },
   {
    "duration": 6,
    "start_time": "2023-03-23T18:03:53.827Z"
   },
   {
    "duration": 257,
    "start_time": "2023-03-23T18:04:03.729Z"
   },
   {
    "duration": 335,
    "start_time": "2023-03-23T18:05:14.998Z"
   },
   {
    "duration": 311,
    "start_time": "2023-03-23T18:05:25.684Z"
   },
   {
    "duration": 227,
    "start_time": "2023-03-23T18:06:05.026Z"
   },
   {
    "duration": 74,
    "start_time": "2023-03-23T18:06:36.511Z"
   },
   {
    "duration": 31,
    "start_time": "2023-03-23T18:07:12.055Z"
   },
   {
    "duration": 13,
    "start_time": "2023-03-23T18:07:46.310Z"
   },
   {
    "duration": 12,
    "start_time": "2023-03-23T18:08:37.531Z"
   },
   {
    "duration": 19,
    "start_time": "2023-03-23T18:08:48.081Z"
   },
   {
    "duration": 6,
    "start_time": "2023-03-23T18:09:00.335Z"
   },
   {
    "duration": 244,
    "start_time": "2023-03-23T18:09:24.818Z"
   },
   {
    "duration": 8,
    "start_time": "2023-03-23T18:09:32.815Z"
   },
   {
    "duration": 273,
    "start_time": "2023-03-23T18:09:35.910Z"
   },
   {
    "duration": 12,
    "start_time": "2023-03-23T18:09:53.781Z"
   },
   {
    "duration": 13,
    "start_time": "2023-03-23T18:09:59.276Z"
   },
   {
    "duration": 8,
    "start_time": "2023-03-23T18:11:03.759Z"
   },
   {
    "duration": 285,
    "start_time": "2023-03-23T18:11:04.582Z"
   },
   {
    "duration": 8,
    "start_time": "2023-03-23T18:11:09.173Z"
   },
   {
    "duration": 264,
    "start_time": "2023-03-23T18:11:09.573Z"
   },
   {
    "duration": 6,
    "start_time": "2023-03-23T18:11:21.242Z"
   },
   {
    "duration": 252,
    "start_time": "2023-03-23T18:11:21.957Z"
   },
   {
    "duration": 255,
    "start_time": "2023-03-23T18:11:33.755Z"
   },
   {
    "duration": 14,
    "start_time": "2023-03-23T18:11:49.996Z"
   },
   {
    "duration": 301,
    "start_time": "2023-03-23T18:12:18.638Z"
   },
   {
    "duration": 251,
    "start_time": "2023-03-23T18:12:21.332Z"
   },
   {
    "duration": 283,
    "start_time": "2023-03-23T18:12:33.535Z"
   },
   {
    "duration": 373,
    "start_time": "2023-03-23T18:12:45.561Z"
   },
   {
    "duration": 271,
    "start_time": "2023-03-23T18:12:52.802Z"
   },
   {
    "duration": 7,
    "start_time": "2023-03-23T18:26:31.398Z"
   },
   {
    "duration": 10,
    "start_time": "2023-03-23T18:26:56.130Z"
   },
   {
    "duration": 4,
    "start_time": "2023-03-23T18:28:25.772Z"
   },
   {
    "duration": 2,
    "start_time": "2023-03-23T18:28:40.304Z"
   },
   {
    "duration": 11,
    "start_time": "2023-03-23T18:29:00.336Z"
   },
   {
    "duration": 20,
    "start_time": "2023-03-23T18:29:05.481Z"
   },
   {
    "duration": 11,
    "start_time": "2023-03-23T18:29:08.734Z"
   },
   {
    "duration": 1323,
    "start_time": "2023-03-23T18:29:16.748Z"
   },
   {
    "duration": 89,
    "start_time": "2023-03-23T18:29:18.073Z"
   },
   {
    "duration": 14,
    "start_time": "2023-03-23T18:29:18.164Z"
   },
   {
    "duration": 58,
    "start_time": "2023-03-23T18:29:18.180Z"
   },
   {
    "duration": 24,
    "start_time": "2023-03-23T18:29:18.240Z"
   },
   {
    "duration": 35,
    "start_time": "2023-03-23T18:29:18.266Z"
   },
   {
    "duration": 19,
    "start_time": "2023-03-23T18:29:18.303Z"
   },
   {
    "duration": 12,
    "start_time": "2023-03-23T18:29:18.323Z"
   },
   {
    "duration": 12,
    "start_time": "2023-03-23T18:29:18.337Z"
   },
   {
    "duration": 7,
    "start_time": "2023-03-23T18:29:18.351Z"
   },
   {
    "duration": 9,
    "start_time": "2023-03-23T18:29:18.360Z"
   },
   {
    "duration": 12,
    "start_time": "2023-03-23T18:29:18.370Z"
   },
   {
    "duration": 25,
    "start_time": "2023-03-23T18:29:18.384Z"
   },
   {
    "duration": 13,
    "start_time": "2023-03-23T18:29:18.411Z"
   },
   {
    "duration": 12,
    "start_time": "2023-03-23T18:29:18.426Z"
   },
   {
    "duration": 9,
    "start_time": "2023-03-23T18:29:18.440Z"
   },
   {
    "duration": 13,
    "start_time": "2023-03-23T18:29:18.451Z"
   },
   {
    "duration": 10,
    "start_time": "2023-03-23T18:29:18.466Z"
   },
   {
    "duration": 13,
    "start_time": "2023-03-23T18:29:18.478Z"
   },
   {
    "duration": 584,
    "start_time": "2023-03-23T18:29:18.492Z"
   },
   {
    "duration": 24,
    "start_time": "2023-03-23T18:29:19.078Z"
   },
   {
    "duration": 9,
    "start_time": "2023-03-23T18:29:19.106Z"
   },
   {
    "duration": 15,
    "start_time": "2023-03-23T18:29:19.117Z"
   },
   {
    "duration": 9,
    "start_time": "2023-03-23T18:29:19.134Z"
   },
   {
    "duration": 10,
    "start_time": "2023-03-23T18:29:19.145Z"
   },
   {
    "duration": 779,
    "start_time": "2023-03-23T18:29:19.188Z"
   },
   {
    "duration": 32,
    "start_time": "2023-03-23T18:29:19.969Z"
   },
   {
    "duration": 10,
    "start_time": "2023-03-23T18:29:20.006Z"
   },
   {
    "duration": 11,
    "start_time": "2023-03-23T18:29:20.017Z"
   },
   {
    "duration": 12,
    "start_time": "2023-03-23T18:29:20.030Z"
   },
   {
    "duration": 13,
    "start_time": "2023-03-23T18:29:20.044Z"
   },
   {
    "duration": 435,
    "start_time": "2023-03-23T18:29:20.089Z"
   },
   {
    "duration": 16,
    "start_time": "2023-03-23T18:29:20.526Z"
   },
   {
    "duration": 36,
    "start_time": "2023-03-23T18:29:20.544Z"
   },
   {
    "duration": 30,
    "start_time": "2023-03-23T18:29:20.582Z"
   },
   {
    "duration": 24,
    "start_time": "2023-03-23T18:29:20.615Z"
   },
   {
    "duration": 15,
    "start_time": "2023-03-23T18:29:20.641Z"
   },
   {
    "duration": 28,
    "start_time": "2023-03-23T18:29:20.659Z"
   },
   {
    "duration": 785,
    "start_time": "2023-03-23T18:29:20.689Z"
   },
   {
    "duration": 287,
    "start_time": "2023-03-23T18:29:21.475Z"
   },
   {
    "duration": 294,
    "start_time": "2023-03-23T18:29:21.764Z"
   },
   {
    "duration": 424,
    "start_time": "2023-03-23T18:29:22.059Z"
   },
   {
    "duration": 353,
    "start_time": "2023-03-23T18:29:22.486Z"
   },
   {
    "duration": 430,
    "start_time": "2023-03-23T18:29:22.841Z"
   },
   {
    "duration": 205,
    "start_time": "2023-03-23T18:29:23.273Z"
   },
   {
    "duration": 20,
    "start_time": "2023-03-23T18:29:23.480Z"
   },
   {
    "duration": 7,
    "start_time": "2023-03-23T18:29:23.504Z"
   },
   {
    "duration": 7,
    "start_time": "2023-03-23T18:29:23.513Z"
   },
   {
    "duration": 230,
    "start_time": "2023-03-23T18:29:23.522Z"
   },
   {
    "duration": 244,
    "start_time": "2023-03-23T18:29:23.754Z"
   },
   {
    "duration": 6,
    "start_time": "2023-03-23T18:29:24.002Z"
   },
   {
    "duration": 6,
    "start_time": "2023-03-23T18:29:24.009Z"
   },
   {
    "duration": 7,
    "start_time": "2023-03-23T18:29:24.017Z"
   },
   {
    "duration": 272,
    "start_time": "2023-03-23T18:29:24.026Z"
   },
   {
    "duration": 200,
    "start_time": "2023-03-23T18:29:24.300Z"
   },
   {
    "duration": 11,
    "start_time": "2023-03-23T18:29:24.502Z"
   },
   {
    "duration": 28,
    "start_time": "2023-03-23T18:29:24.515Z"
   },
   {
    "duration": 12,
    "start_time": "2023-03-23T18:29:24.546Z"
   },
   {
    "duration": 46,
    "start_time": "2023-03-23T18:29:24.560Z"
   },
   {
    "duration": 10,
    "start_time": "2023-03-23T18:29:24.608Z"
   },
   {
    "duration": 30,
    "start_time": "2023-03-23T18:29:24.620Z"
   },
   {
    "duration": 16,
    "start_time": "2023-03-23T18:29:24.652Z"
   }
  ],
  "kernelspec": {
   "display_name": "Python 3 (ipykernel)",
   "language": "python",
   "name": "python3"
  },
  "language_info": {
   "codemirror_mode": {
    "name": "ipython",
    "version": 3
   },
   "file_extension": ".py",
   "mimetype": "text/x-python",
   "name": "python",
   "nbconvert_exporter": "python",
   "pygments_lexer": "ipython3",
   "version": "3.9.12"
  },
  "toc": {
   "base_numbering": 1,
   "nav_menu": {},
   "number_sections": false,
   "sideBar": true,
   "skip_h1_title": false,
   "title_cell": "Table of Contents",
   "title_sidebar": "Contents",
   "toc_cell": false,
   "toc_position": {
    "height": "calc(100% - 180px)",
    "left": "10px",
    "top": "150px",
    "width": "285.27px"
   },
   "toc_section_display": true,
   "toc_window_display": true
  }
 },
 "nbformat": 4,
 "nbformat_minor": 2
}
