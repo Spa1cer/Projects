{
 "cells": [
  {
   "cell_type": "markdown",
   "id": "8fb08588",
   "metadata": {},
   "source": [
    "# Описание проекта:"
   ]
  },
  {
   "cell_type": "markdown",
   "id": "dba7c7e6",
   "metadata": {},
   "source": [
    "Заказчик — кредитный отдел банка. Нужно разобраться, влияет ли семейное положение и количество детей клиента на факт погашения кредита в срок. Входные данные от банка — статистика о платёжеспособности клиентов.\n",
    "\n",
    "Результаты исследования будут учтены при построении модели кредитного скоринга — специальной системы, которая оценивает способность потенциального заёмщика вернуть кредит банку."
   ]
  },
  {
   "cell_type": "markdown",
   "id": "33639e47",
   "metadata": {},
   "source": [
    "**Описание данных:**\n",
    "\n",
    "* `children` — количество детей в семье\n",
    "* `days_employed` — общий трудовой стаж в днях\n",
    "* `dob_years` — возраст клиента в годах\n",
    "* `education` — уровень образования клиента\n",
    "* `education_id` — идентификатор уровня образования\n",
    "* `family_status` — семейное положение\n",
    "* `family_status_id` — идентификатор семейного положения\n",
    "* `gender` — пол клиента\n",
    "* `income_type` — тип занятости\n",
    "* `debt` — имел ли задолженность по возврату кредитов\n",
    "* `total_income` — ежемесячный доход\n",
    "* `purpose` — цель получения кредита"
   ]
  },
  {
   "cell_type": "markdown",
   "id": "d90c9602",
   "metadata": {},
   "source": [
    "# Обзор данных:"
   ]
  },
  {
   "cell_type": "markdown",
   "id": "57684dd8",
   "metadata": {},
   "source": [
    " Импортируем библиотеку pandas. Считаем данные из csv-файла в датафрейм и сохраните в переменную `data`. Путь к файлу:**\n",
    "`/datasets/data.csv`"
   ]
  },
  {
   "cell_type": "code",
   "execution_count": 27,
   "id": "06c32394",
   "metadata": {},
   "outputs": [],
   "source": [
    "import pandas as pd\n",
    "import seaborn as sns"
   ]
  },
  {
   "cell_type": "code",
   "execution_count": 2,
   "id": "f0b8138a",
   "metadata": {},
   "outputs": [],
   "source": [
    "try:\n",
    "    data = pd.read_csv('/datasets/data.csv')\n",
    "except:\n",
    "    data = pd.read_csv('https://code.s3.yandex.net/datasets/data.csv')"
   ]
  },
  {
   "cell_type": "markdown",
   "id": "46a758d1",
   "metadata": {},
   "source": [
    "Выведем первые 20 строчек датафрейма `data` на экран:"
   ]
  },
  {
   "cell_type": "code",
   "execution_count": 3,
   "id": "cedb69e5",
   "metadata": {},
   "outputs": [
    {
     "data": {
      "text/html": [
       "<div>\n",
       "<style scoped>\n",
       "    .dataframe tbody tr th:only-of-type {\n",
       "        vertical-align: middle;\n",
       "    }\n",
       "\n",
       "    .dataframe tbody tr th {\n",
       "        vertical-align: top;\n",
       "    }\n",
       "\n",
       "    .dataframe thead th {\n",
       "        text-align: right;\n",
       "    }\n",
       "</style>\n",
       "<table border=\"1\" class=\"dataframe\">\n",
       "  <thead>\n",
       "    <tr style=\"text-align: right;\">\n",
       "      <th></th>\n",
       "      <th>children</th>\n",
       "      <th>days_employed</th>\n",
       "      <th>dob_years</th>\n",
       "      <th>education</th>\n",
       "      <th>education_id</th>\n",
       "      <th>family_status</th>\n",
       "      <th>family_status_id</th>\n",
       "      <th>gender</th>\n",
       "      <th>income_type</th>\n",
       "      <th>debt</th>\n",
       "      <th>total_income</th>\n",
       "      <th>purpose</th>\n",
       "    </tr>\n",
       "  </thead>\n",
       "  <tbody>\n",
       "    <tr>\n",
       "      <th>0</th>\n",
       "      <td>1</td>\n",
       "      <td>-8437.673028</td>\n",
       "      <td>42</td>\n",
       "      <td>высшее</td>\n",
       "      <td>0</td>\n",
       "      <td>женат / замужем</td>\n",
       "      <td>0</td>\n",
       "      <td>F</td>\n",
       "      <td>сотрудник</td>\n",
       "      <td>0</td>\n",
       "      <td>253875.639453</td>\n",
       "      <td>покупка жилья</td>\n",
       "    </tr>\n",
       "    <tr>\n",
       "      <th>1</th>\n",
       "      <td>1</td>\n",
       "      <td>-4024.803754</td>\n",
       "      <td>36</td>\n",
       "      <td>среднее</td>\n",
       "      <td>1</td>\n",
       "      <td>женат / замужем</td>\n",
       "      <td>0</td>\n",
       "      <td>F</td>\n",
       "      <td>сотрудник</td>\n",
       "      <td>0</td>\n",
       "      <td>112080.014102</td>\n",
       "      <td>приобретение автомобиля</td>\n",
       "    </tr>\n",
       "    <tr>\n",
       "      <th>2</th>\n",
       "      <td>0</td>\n",
       "      <td>-5623.422610</td>\n",
       "      <td>33</td>\n",
       "      <td>Среднее</td>\n",
       "      <td>1</td>\n",
       "      <td>женат / замужем</td>\n",
       "      <td>0</td>\n",
       "      <td>M</td>\n",
       "      <td>сотрудник</td>\n",
       "      <td>0</td>\n",
       "      <td>145885.952297</td>\n",
       "      <td>покупка жилья</td>\n",
       "    </tr>\n",
       "    <tr>\n",
       "      <th>3</th>\n",
       "      <td>3</td>\n",
       "      <td>-4124.747207</td>\n",
       "      <td>32</td>\n",
       "      <td>среднее</td>\n",
       "      <td>1</td>\n",
       "      <td>женат / замужем</td>\n",
       "      <td>0</td>\n",
       "      <td>M</td>\n",
       "      <td>сотрудник</td>\n",
       "      <td>0</td>\n",
       "      <td>267628.550329</td>\n",
       "      <td>дополнительное образование</td>\n",
       "    </tr>\n",
       "    <tr>\n",
       "      <th>4</th>\n",
       "      <td>0</td>\n",
       "      <td>340266.072047</td>\n",
       "      <td>53</td>\n",
       "      <td>среднее</td>\n",
       "      <td>1</td>\n",
       "      <td>гражданский брак</td>\n",
       "      <td>1</td>\n",
       "      <td>F</td>\n",
       "      <td>пенсионер</td>\n",
       "      <td>0</td>\n",
       "      <td>158616.077870</td>\n",
       "      <td>сыграть свадьбу</td>\n",
       "    </tr>\n",
       "    <tr>\n",
       "      <th>5</th>\n",
       "      <td>0</td>\n",
       "      <td>-926.185831</td>\n",
       "      <td>27</td>\n",
       "      <td>высшее</td>\n",
       "      <td>0</td>\n",
       "      <td>гражданский брак</td>\n",
       "      <td>1</td>\n",
       "      <td>M</td>\n",
       "      <td>компаньон</td>\n",
       "      <td>0</td>\n",
       "      <td>255763.565419</td>\n",
       "      <td>покупка жилья</td>\n",
       "    </tr>\n",
       "    <tr>\n",
       "      <th>6</th>\n",
       "      <td>0</td>\n",
       "      <td>-2879.202052</td>\n",
       "      <td>43</td>\n",
       "      <td>высшее</td>\n",
       "      <td>0</td>\n",
       "      <td>женат / замужем</td>\n",
       "      <td>0</td>\n",
       "      <td>F</td>\n",
       "      <td>компаньон</td>\n",
       "      <td>0</td>\n",
       "      <td>240525.971920</td>\n",
       "      <td>операции с жильем</td>\n",
       "    </tr>\n",
       "    <tr>\n",
       "      <th>7</th>\n",
       "      <td>0</td>\n",
       "      <td>-152.779569</td>\n",
       "      <td>50</td>\n",
       "      <td>СРЕДНЕЕ</td>\n",
       "      <td>1</td>\n",
       "      <td>женат / замужем</td>\n",
       "      <td>0</td>\n",
       "      <td>M</td>\n",
       "      <td>сотрудник</td>\n",
       "      <td>0</td>\n",
       "      <td>135823.934197</td>\n",
       "      <td>образование</td>\n",
       "    </tr>\n",
       "    <tr>\n",
       "      <th>8</th>\n",
       "      <td>2</td>\n",
       "      <td>-6929.865299</td>\n",
       "      <td>35</td>\n",
       "      <td>ВЫСШЕЕ</td>\n",
       "      <td>0</td>\n",
       "      <td>гражданский брак</td>\n",
       "      <td>1</td>\n",
       "      <td>F</td>\n",
       "      <td>сотрудник</td>\n",
       "      <td>0</td>\n",
       "      <td>95856.832424</td>\n",
       "      <td>на проведение свадьбы</td>\n",
       "    </tr>\n",
       "    <tr>\n",
       "      <th>9</th>\n",
       "      <td>0</td>\n",
       "      <td>-2188.756445</td>\n",
       "      <td>41</td>\n",
       "      <td>среднее</td>\n",
       "      <td>1</td>\n",
       "      <td>женат / замужем</td>\n",
       "      <td>0</td>\n",
       "      <td>M</td>\n",
       "      <td>сотрудник</td>\n",
       "      <td>0</td>\n",
       "      <td>144425.938277</td>\n",
       "      <td>покупка жилья для семьи</td>\n",
       "    </tr>\n",
       "    <tr>\n",
       "      <th>10</th>\n",
       "      <td>2</td>\n",
       "      <td>-4171.483647</td>\n",
       "      <td>36</td>\n",
       "      <td>высшее</td>\n",
       "      <td>0</td>\n",
       "      <td>женат / замужем</td>\n",
       "      <td>0</td>\n",
       "      <td>M</td>\n",
       "      <td>компаньон</td>\n",
       "      <td>0</td>\n",
       "      <td>113943.491460</td>\n",
       "      <td>покупка недвижимости</td>\n",
       "    </tr>\n",
       "    <tr>\n",
       "      <th>11</th>\n",
       "      <td>0</td>\n",
       "      <td>-792.701887</td>\n",
       "      <td>40</td>\n",
       "      <td>среднее</td>\n",
       "      <td>1</td>\n",
       "      <td>женат / замужем</td>\n",
       "      <td>0</td>\n",
       "      <td>F</td>\n",
       "      <td>сотрудник</td>\n",
       "      <td>0</td>\n",
       "      <td>77069.234271</td>\n",
       "      <td>покупка коммерческой недвижимости</td>\n",
       "    </tr>\n",
       "    <tr>\n",
       "      <th>12</th>\n",
       "      <td>0</td>\n",
       "      <td>NaN</td>\n",
       "      <td>65</td>\n",
       "      <td>среднее</td>\n",
       "      <td>1</td>\n",
       "      <td>гражданский брак</td>\n",
       "      <td>1</td>\n",
       "      <td>M</td>\n",
       "      <td>пенсионер</td>\n",
       "      <td>0</td>\n",
       "      <td>NaN</td>\n",
       "      <td>сыграть свадьбу</td>\n",
       "    </tr>\n",
       "    <tr>\n",
       "      <th>13</th>\n",
       "      <td>0</td>\n",
       "      <td>-1846.641941</td>\n",
       "      <td>54</td>\n",
       "      <td>неоконченное высшее</td>\n",
       "      <td>2</td>\n",
       "      <td>женат / замужем</td>\n",
       "      <td>0</td>\n",
       "      <td>F</td>\n",
       "      <td>сотрудник</td>\n",
       "      <td>0</td>\n",
       "      <td>130458.228857</td>\n",
       "      <td>приобретение автомобиля</td>\n",
       "    </tr>\n",
       "    <tr>\n",
       "      <th>14</th>\n",
       "      <td>0</td>\n",
       "      <td>-1844.956182</td>\n",
       "      <td>56</td>\n",
       "      <td>высшее</td>\n",
       "      <td>0</td>\n",
       "      <td>гражданский брак</td>\n",
       "      <td>1</td>\n",
       "      <td>F</td>\n",
       "      <td>компаньон</td>\n",
       "      <td>1</td>\n",
       "      <td>165127.911772</td>\n",
       "      <td>покупка жилой недвижимости</td>\n",
       "    </tr>\n",
       "    <tr>\n",
       "      <th>15</th>\n",
       "      <td>1</td>\n",
       "      <td>-972.364419</td>\n",
       "      <td>26</td>\n",
       "      <td>среднее</td>\n",
       "      <td>1</td>\n",
       "      <td>женат / замужем</td>\n",
       "      <td>0</td>\n",
       "      <td>F</td>\n",
       "      <td>сотрудник</td>\n",
       "      <td>0</td>\n",
       "      <td>116820.904450</td>\n",
       "      <td>строительство собственной недвижимости</td>\n",
       "    </tr>\n",
       "    <tr>\n",
       "      <th>16</th>\n",
       "      <td>0</td>\n",
       "      <td>-1719.934226</td>\n",
       "      <td>35</td>\n",
       "      <td>среднее</td>\n",
       "      <td>1</td>\n",
       "      <td>женат / замужем</td>\n",
       "      <td>0</td>\n",
       "      <td>F</td>\n",
       "      <td>сотрудник</td>\n",
       "      <td>0</td>\n",
       "      <td>289202.704229</td>\n",
       "      <td>недвижимость</td>\n",
       "    </tr>\n",
       "    <tr>\n",
       "      <th>17</th>\n",
       "      <td>0</td>\n",
       "      <td>-2369.999720</td>\n",
       "      <td>33</td>\n",
       "      <td>высшее</td>\n",
       "      <td>0</td>\n",
       "      <td>гражданский брак</td>\n",
       "      <td>1</td>\n",
       "      <td>M</td>\n",
       "      <td>сотрудник</td>\n",
       "      <td>0</td>\n",
       "      <td>90410.586745</td>\n",
       "      <td>строительство недвижимости</td>\n",
       "    </tr>\n",
       "    <tr>\n",
       "      <th>18</th>\n",
       "      <td>0</td>\n",
       "      <td>400281.136913</td>\n",
       "      <td>53</td>\n",
       "      <td>среднее</td>\n",
       "      <td>1</td>\n",
       "      <td>вдовец / вдова</td>\n",
       "      <td>2</td>\n",
       "      <td>F</td>\n",
       "      <td>пенсионер</td>\n",
       "      <td>0</td>\n",
       "      <td>56823.777243</td>\n",
       "      <td>на покупку подержанного автомобиля</td>\n",
       "    </tr>\n",
       "    <tr>\n",
       "      <th>19</th>\n",
       "      <td>0</td>\n",
       "      <td>-10038.818549</td>\n",
       "      <td>48</td>\n",
       "      <td>СРЕДНЕЕ</td>\n",
       "      <td>1</td>\n",
       "      <td>в разводе</td>\n",
       "      <td>3</td>\n",
       "      <td>F</td>\n",
       "      <td>сотрудник</td>\n",
       "      <td>0</td>\n",
       "      <td>242831.107982</td>\n",
       "      <td>на покупку своего автомобиля</td>\n",
       "    </tr>\n",
       "  </tbody>\n",
       "</table>\n",
       "</div>"
      ],
      "text/plain": [
       "    children  days_employed  dob_years            education  education_id  \\\n",
       "0          1   -8437.673028         42               высшее             0   \n",
       "1          1   -4024.803754         36              среднее             1   \n",
       "2          0   -5623.422610         33              Среднее             1   \n",
       "3          3   -4124.747207         32              среднее             1   \n",
       "4          0  340266.072047         53              среднее             1   \n",
       "5          0    -926.185831         27               высшее             0   \n",
       "6          0   -2879.202052         43               высшее             0   \n",
       "7          0    -152.779569         50              СРЕДНЕЕ             1   \n",
       "8          2   -6929.865299         35               ВЫСШЕЕ             0   \n",
       "9          0   -2188.756445         41              среднее             1   \n",
       "10         2   -4171.483647         36               высшее             0   \n",
       "11         0    -792.701887         40              среднее             1   \n",
       "12         0            NaN         65              среднее             1   \n",
       "13         0   -1846.641941         54  неоконченное высшее             2   \n",
       "14         0   -1844.956182         56               высшее             0   \n",
       "15         1    -972.364419         26              среднее             1   \n",
       "16         0   -1719.934226         35              среднее             1   \n",
       "17         0   -2369.999720         33               высшее             0   \n",
       "18         0  400281.136913         53              среднее             1   \n",
       "19         0  -10038.818549         48              СРЕДНЕЕ             1   \n",
       "\n",
       "       family_status  family_status_id gender income_type  debt  \\\n",
       "0    женат / замужем                 0      F   сотрудник     0   \n",
       "1    женат / замужем                 0      F   сотрудник     0   \n",
       "2    женат / замужем                 0      M   сотрудник     0   \n",
       "3    женат / замужем                 0      M   сотрудник     0   \n",
       "4   гражданский брак                 1      F   пенсионер     0   \n",
       "5   гражданский брак                 1      M   компаньон     0   \n",
       "6    женат / замужем                 0      F   компаньон     0   \n",
       "7    женат / замужем                 0      M   сотрудник     0   \n",
       "8   гражданский брак                 1      F   сотрудник     0   \n",
       "9    женат / замужем                 0      M   сотрудник     0   \n",
       "10   женат / замужем                 0      M   компаньон     0   \n",
       "11   женат / замужем                 0      F   сотрудник     0   \n",
       "12  гражданский брак                 1      M   пенсионер     0   \n",
       "13   женат / замужем                 0      F   сотрудник     0   \n",
       "14  гражданский брак                 1      F   компаньон     1   \n",
       "15   женат / замужем                 0      F   сотрудник     0   \n",
       "16   женат / замужем                 0      F   сотрудник     0   \n",
       "17  гражданский брак                 1      M   сотрудник     0   \n",
       "18    вдовец / вдова                 2      F   пенсионер     0   \n",
       "19         в разводе                 3      F   сотрудник     0   \n",
       "\n",
       "     total_income                                 purpose  \n",
       "0   253875.639453                           покупка жилья  \n",
       "1   112080.014102                 приобретение автомобиля  \n",
       "2   145885.952297                           покупка жилья  \n",
       "3   267628.550329              дополнительное образование  \n",
       "4   158616.077870                         сыграть свадьбу  \n",
       "5   255763.565419                           покупка жилья  \n",
       "6   240525.971920                       операции с жильем  \n",
       "7   135823.934197                             образование  \n",
       "8    95856.832424                   на проведение свадьбы  \n",
       "9   144425.938277                 покупка жилья для семьи  \n",
       "10  113943.491460                    покупка недвижимости  \n",
       "11   77069.234271       покупка коммерческой недвижимости  \n",
       "12            NaN                         сыграть свадьбу  \n",
       "13  130458.228857                 приобретение автомобиля  \n",
       "14  165127.911772              покупка жилой недвижимости  \n",
       "15  116820.904450  строительство собственной недвижимости  \n",
       "16  289202.704229                            недвижимость  \n",
       "17   90410.586745              строительство недвижимости  \n",
       "18   56823.777243      на покупку подержанного автомобиля  \n",
       "19  242831.107982            на покупку своего автомобиля  "
      ]
     },
     "execution_count": 3,
     "metadata": {},
     "output_type": "execute_result"
    }
   ],
   "source": [
    "data.head(20)"
   ]
  },
  {
   "cell_type": "markdown",
   "id": "32afa16a",
   "metadata": {},
   "source": [
    "Выведем основную информацию о датафрейме с помощью метода `info()`:"
   ]
  },
  {
   "cell_type": "code",
   "execution_count": 4,
   "id": "49122543",
   "metadata": {},
   "outputs": [
    {
     "name": "stdout",
     "output_type": "stream",
     "text": [
      "<class 'pandas.core.frame.DataFrame'>\n",
      "RangeIndex: 21525 entries, 0 to 21524\n",
      "Data columns (total 12 columns):\n",
      " #   Column            Non-Null Count  Dtype  \n",
      "---  ------            --------------  -----  \n",
      " 0   children          21525 non-null  int64  \n",
      " 1   days_employed     19351 non-null  float64\n",
      " 2   dob_years         21525 non-null  int64  \n",
      " 3   education         21525 non-null  object \n",
      " 4   education_id      21525 non-null  int64  \n",
      " 5   family_status     21525 non-null  object \n",
      " 6   family_status_id  21525 non-null  int64  \n",
      " 7   gender            21525 non-null  object \n",
      " 8   income_type       21525 non-null  object \n",
      " 9   debt              21525 non-null  int64  \n",
      " 10  total_income      19351 non-null  float64\n",
      " 11  purpose           21525 non-null  object \n",
      "dtypes: float64(2), int64(5), object(5)\n",
      "memory usage: 2.0+ MB\n"
     ]
    }
   ],
   "source": [
    "data.info()"
   ]
  },
  {
   "cell_type": "markdown",
   "id": "0fa481e8",
   "metadata": {},
   "source": [
    "# Предобработка данных:"
   ]
  },
  {
   "cell_type": "markdown",
   "id": "8164a7fa",
   "metadata": {},
   "source": [
    "## Удаление пропусков"
   ]
  },
  {
   "cell_type": "markdown",
   "id": "bccb8202",
   "metadata": {},
   "source": [
    "Выведем количество пропущенных значений для каждого столбца. Используем комбинацию двух методов:"
   ]
  },
  {
   "cell_type": "code",
   "execution_count": 5,
   "id": "08cb622d",
   "metadata": {},
   "outputs": [
    {
     "data": {
      "text/plain": [
       "children               0\n",
       "days_employed       2174\n",
       "dob_years              0\n",
       "education              0\n",
       "education_id           0\n",
       "family_status          0\n",
       "family_status_id       0\n",
       "gender                 0\n",
       "income_type            0\n",
       "debt                   0\n",
       "total_income        2174\n",
       "purpose                0\n",
       "dtype: int64"
      ]
     },
     "execution_count": 5,
     "metadata": {},
     "output_type": "execute_result"
    }
   ],
   "source": [
    "data.isna().sum()"
   ]
  },
  {
   "cell_type": "markdown",
   "id": "26ba9e0b",
   "metadata": {},
   "source": [
    "В двух столбцах есть пропущенные значения. Один из них — `days_employed`. Другой столбец с пропущенными значениями — `total_income` — хранит данные о доходах. На сумму дохода сильнее всего влияет тип занятости, поэтому заполнить пропуски в этом столбце нужно медианным значением по каждому типу из столбца `income_type`. Например, у человека с типом занятости `сотрудник` пропуск в столбце `total_income` должен быть заполнен медианным доходом среди всех записей с тем же типом."
   ]
  },
  {
   "cell_type": "code",
   "execution_count": 6,
   "id": "3333447f",
   "metadata": {},
   "outputs": [],
   "source": [
    "for t in data['income_type'].unique():\n",
    "    data.loc[(data['income_type'] == t) & (data['total_income'].isna()), 'total_income'] = \\\n",
    "    data.loc[(data['income_type'] == t), 'total_income'].median()"
   ]
  },
  {
   "cell_type": "markdown",
   "id": "e53795cc",
   "metadata": {},
   "source": [
    "## Обработка аномальных значений"
   ]
  },
  {
   "cell_type": "markdown",
   "id": "1fbbda7e",
   "metadata": {},
   "source": [
    "В данных могут встречаться артефакты (аномалии) — значения, которые не отражают действительность и появились по какой-то ошибке. Таким артефактом будет отрицательное количество дней трудового стажа в столбце `days_employed`. Для реальных данных это нормально. Обработаем значения в этом столбце: заменим все отрицательные значения положительными с помощью метода `abs()`:"
   ]
  },
  {
   "cell_type": "code",
   "execution_count": 7,
   "id": "b294e03c",
   "metadata": {},
   "outputs": [],
   "source": [
    "data['days_employed'] = data['days_employed'].abs()"
   ]
  },
  {
   "cell_type": "markdown",
   "id": "758cad77",
   "metadata": {},
   "source": [
    "Для каждого типа занятости выведем медианное значение трудового стажа `days_employed` в днях:"
   ]
  },
  {
   "cell_type": "code",
   "execution_count": 8,
   "id": "edc1925c",
   "metadata": {},
   "outputs": [
    {
     "data": {
      "text/plain": [
       "income_type\n",
       "безработный        366413.652744\n",
       "в декрете            3296.759962\n",
       "госслужащий          2689.368353\n",
       "компаньон            1547.382223\n",
       "пенсионер          365213.306266\n",
       "предприниматель       520.848083\n",
       "сотрудник            1574.202821\n",
       "студент               578.751554\n",
       "Name: days_employed, dtype: float64"
      ]
     },
     "execution_count": 8,
     "metadata": {},
     "output_type": "execute_result"
    }
   ],
   "source": [
    "data.groupby('income_type')['days_employed'].agg('median')"
   ]
  },
  {
   "cell_type": "markdown",
   "id": "84ffa7d6",
   "metadata": {},
   "source": [
    "У двух типов (безработные и пенсионеры) получатся аномально большие значения. Исправить такие значения сложно, поэтому оставим их как есть. Тем более этот столбец не понадобится для исследования."
   ]
  },
  {
   "cell_type": "markdown",
   "id": "b2f4b1f5",
   "metadata": {},
   "source": [
    "Выведем перечень уникальных значений столбца `children`:"
   ]
  },
  {
   "cell_type": "code",
   "execution_count": 9,
   "id": "f240b291",
   "metadata": {},
   "outputs": [
    {
     "data": {
      "text/plain": [
       "array([ 1,  0,  3,  2, -1,  4, 20,  5], dtype=int64)"
      ]
     },
     "execution_count": 9,
     "metadata": {},
     "output_type": "execute_result"
    }
   ],
   "source": [
    "data['children'].unique()"
   ]
  },
  {
   "cell_type": "markdown",
   "id": "c06a2ab6",
   "metadata": {},
   "source": [
    "В столбце `children` есть два аномальных значения. Удалим строки, в которых встречаются такие аномальные значения из датафрейма `data`:"
   ]
  },
  {
   "cell_type": "code",
   "execution_count": 10,
   "id": "2440cdc7",
   "metadata": {},
   "outputs": [],
   "source": [
    "data = data[(data['children'] != -1) & (data['children'] != 20)]"
   ]
  },
  {
   "cell_type": "markdown",
   "id": "c657c6a0",
   "metadata": {},
   "source": [
    "Ещё раз выведем перечень уникальных значений столбца `children`, чтобы убедиться, что артефакты удалены:"
   ]
  },
  {
   "cell_type": "code",
   "execution_count": 11,
   "id": "8d03bd6a",
   "metadata": {},
   "outputs": [
    {
     "data": {
      "text/plain": [
       "array([1, 0, 3, 2, 4, 5], dtype=int64)"
      ]
     },
     "execution_count": 11,
     "metadata": {},
     "output_type": "execute_result"
    }
   ],
   "source": [
    "data['children'].unique()"
   ]
  },
  {
   "cell_type": "markdown",
   "id": "d0c8d08c",
   "metadata": {},
   "source": [
    "Заполним пропуски в столбце `days_employed` медианными значениями по каждого типа занятости `income_type`:"
   ]
  },
  {
   "cell_type": "code",
   "execution_count": 12,
   "id": "4bd6d5d8",
   "metadata": {},
   "outputs": [],
   "source": [
    "for t in data['income_type'].unique():\n",
    "    data.loc[(data['income_type'] == t) & (data['days_employed'].isna()), 'days_employed'] = \\\n",
    "    data.loc[(data['income_type'] == t), 'days_employed'].median()"
   ]
  },
  {
   "cell_type": "markdown",
   "id": "d513a97f",
   "metadata": {},
   "source": [
    "Убедимся, что все пропуски заполнены. Проверим себя и ещё раз выведем количество пропущенных значений для каждого столбца с помощью двух методов:"
   ]
  },
  {
   "cell_type": "code",
   "execution_count": 13,
   "id": "0b1cf6c5",
   "metadata": {},
   "outputs": [
    {
     "data": {
      "text/plain": [
       "children            0\n",
       "days_employed       0\n",
       "dob_years           0\n",
       "education           0\n",
       "education_id        0\n",
       "family_status       0\n",
       "family_status_id    0\n",
       "gender              0\n",
       "income_type         0\n",
       "debt                0\n",
       "total_income        0\n",
       "purpose             0\n",
       "dtype: int64"
      ]
     },
     "execution_count": 13,
     "metadata": {},
     "output_type": "execute_result"
    }
   ],
   "source": [
    "data.isna().sum()"
   ]
  },
  {
   "cell_type": "markdown",
   "id": "1bea56df",
   "metadata": {},
   "source": [
    "## Изменение типов данных:"
   ]
  },
  {
   "cell_type": "markdown",
   "id": "45537415",
   "metadata": {},
   "source": [
    "Заменим вещественный тип данных в столбце `total_income` на целочисленный с помощью метода `astype()`:"
   ]
  },
  {
   "cell_type": "code",
   "execution_count": 14,
   "id": "9c1000f4",
   "metadata": {},
   "outputs": [],
   "source": [
    "data['total_income'] = data['total_income'].astype(int)"
   ]
  },
  {
   "cell_type": "markdown",
   "id": "fcf56e9e",
   "metadata": {},
   "source": [
    "## Обработка дубликатов"
   ]
  },
  {
   "cell_type": "markdown",
   "id": "d13a4dda",
   "metadata": {},
   "source": [
    "Обработаем неявные дубликаты в столбце `education`. В этом столбце есть одни и те же значения, но записанные по-разному: с использованием заглавных и строчных букв. Приведем их к нижнему регистру. Проверим остальные столбцы:"
   ]
  },
  {
   "cell_type": "code",
   "execution_count": 15,
   "id": "733be334",
   "metadata": {},
   "outputs": [],
   "source": [
    "data['education'] = data['education'].str.lower()"
   ]
  },
  {
   "cell_type": "markdown",
   "id": "cad9e9c0",
   "metadata": {},
   "source": [
    "Выведем на экран количество строк-дубликатов в данных. Если такие строки присутствуют, удалим их:"
   ]
  },
  {
   "cell_type": "code",
   "execution_count": 16,
   "id": "c7f94c50",
   "metadata": {},
   "outputs": [
    {
     "data": {
      "text/plain": [
       "71"
      ]
     },
     "execution_count": 16,
     "metadata": {},
     "output_type": "execute_result"
    }
   ],
   "source": [
    "data.duplicated().sum()"
   ]
  },
  {
   "cell_type": "code",
   "execution_count": 17,
   "id": "67a31187",
   "metadata": {},
   "outputs": [],
   "source": [
    "data = data.drop_duplicates()"
   ]
  },
  {
   "cell_type": "markdown",
   "id": "54605c32",
   "metadata": {},
   "source": [
    "## Категоризация данных"
   ]
  },
  {
   "cell_type": "markdown",
   "id": "5a603d93",
   "metadata": {},
   "source": [
    "На основании диапазонов, указанных ниже, создадим в датафрейме `data` столбец `total_income_category` с категориями:**\n",
    "\n",
    "- 0–30000 — `'E'`;\n",
    "- 30001–50000 — `'D'`;\n",
    "- 50001–200000 — `'C'`;\n",
    "- 200001–1000000 — `'B'`;\n",
    "- 1000001 и выше — `'A'`."
   ]
  },
  {
   "cell_type": "code",
   "execution_count": 18,
   "id": "bbb8d6ad",
   "metadata": {},
   "outputs": [],
   "source": [
    "def categorize_income(income):\n",
    "    try:\n",
    "        if 0 <= income <= 30000:\n",
    "            return 'E'\n",
    "        elif 30001 <= income <= 50000:\n",
    "            return 'D'\n",
    "        elif 50001 <= income <= 200000:\n",
    "            return 'C'\n",
    "        elif 200001 <= income <= 1000000:\n",
    "            return 'B'\n",
    "        elif income >= 1000001:\n",
    "            return 'A'\n",
    "    except:\n",
    "        pass"
   ]
  },
  {
   "cell_type": "code",
   "execution_count": 19,
   "id": "e9267797",
   "metadata": {},
   "outputs": [],
   "source": [
    "data['total_income_category'] = data['total_income'].apply(categorize_income)"
   ]
  },
  {
   "cell_type": "markdown",
   "id": "f179e46c",
   "metadata": {},
   "source": [
    "Выведем на экран перечень уникальных целей взятия кредита из столбца `purpose`:"
   ]
  },
  {
   "cell_type": "code",
   "execution_count": 20,
   "id": "53d9069f",
   "metadata": {},
   "outputs": [
    {
     "data": {
      "text/plain": [
       "array(['покупка жилья', 'приобретение автомобиля',\n",
       "       'дополнительное образование', 'сыграть свадьбу',\n",
       "       'операции с жильем', 'образование', 'на проведение свадьбы',\n",
       "       'покупка жилья для семьи', 'покупка недвижимости',\n",
       "       'покупка коммерческой недвижимости', 'покупка жилой недвижимости',\n",
       "       'строительство собственной недвижимости', 'недвижимость',\n",
       "       'строительство недвижимости', 'на покупку подержанного автомобиля',\n",
       "       'на покупку своего автомобиля',\n",
       "       'операции с коммерческой недвижимостью',\n",
       "       'строительство жилой недвижимости', 'жилье',\n",
       "       'операции со своей недвижимостью', 'автомобили',\n",
       "       'заняться образованием', 'сделка с подержанным автомобилем',\n",
       "       'получение образования', 'автомобиль', 'свадьба',\n",
       "       'получение дополнительного образования', 'покупка своего жилья',\n",
       "       'операции с недвижимостью', 'получение высшего образования',\n",
       "       'свой автомобиль', 'сделка с автомобилем',\n",
       "       'профильное образование', 'высшее образование',\n",
       "       'покупка жилья для сдачи', 'на покупку автомобиля', 'ремонт жилью',\n",
       "       'заняться высшим образованием'], dtype=object)"
      ]
     },
     "execution_count": 20,
     "metadata": {},
     "output_type": "execute_result"
    }
   ],
   "source": [
    "data['purpose'].unique()"
   ]
  },
  {
   "cell_type": "markdown",
   "id": "8c78b9cc",
   "metadata": {},
   "source": [
    "Создадим функцию, которая на основании данных из столбца `purpose` сформирует новый столбец `purpose_category`, в который войдут следующие категории:\n",
    "\n",
    "- `'операции с автомобилем'`,\n",
    "- `'операции с недвижимостью'`,\n",
    "- `'проведение свадьбы'`,\n",
    "- `'получение образования'`."
   ]
  },
  {
   "cell_type": "code",
   "execution_count": 21,
   "id": "c55c58d7",
   "metadata": {},
   "outputs": [],
   "source": [
    "def categorize_purpose(row):\n",
    "    try:\n",
    "        if 'автом' in row:\n",
    "            return 'операции с автомобилем'\n",
    "        elif 'жил' in row or 'недвиж' in row:\n",
    "            return 'операции с недвижимостью'\n",
    "        elif 'свад' in row:\n",
    "            return 'проведение свадьбы'\n",
    "        elif 'образов' in row:\n",
    "            return 'получение образования'\n",
    "    except:\n",
    "        return 'нет категории'"
   ]
  },
  {
   "cell_type": "code",
   "execution_count": 22,
   "id": "37e642b4",
   "metadata": {},
   "outputs": [],
   "source": [
    "data['purpose_category'] = data['purpose'].apply(categorize_purpose)"
   ]
  },
  {
   "cell_type": "markdown",
   "id": "f09edcbd",
   "metadata": {},
   "source": [
    "## Исследуем данные и ответьтим на вопросы:"
   ]
  },
  {
   "cell_type": "markdown",
   "id": "0231c97d",
   "metadata": {},
   "source": [
    "### Есть ли зависимость между количеством детей и возвратом кредита в срок?"
   ]
  },
  {
   "cell_type": "code",
   "execution_count": 24,
   "id": "75b9c9bd",
   "metadata": {},
   "outputs": [
    {
     "data": {
      "text/html": [
       "<div>\n",
       "<style scoped>\n",
       "    .dataframe tbody tr th:only-of-type {\n",
       "        vertical-align: middle;\n",
       "    }\n",
       "\n",
       "    .dataframe tbody tr th {\n",
       "        vertical-align: top;\n",
       "    }\n",
       "\n",
       "    .dataframe thead th {\n",
       "        text-align: right;\n",
       "    }\n",
       "</style>\n",
       "<table border=\"1\" class=\"dataframe\">\n",
       "  <thead>\n",
       "    <tr style=\"text-align: right;\">\n",
       "      <th></th>\n",
       "      <th>Всего кредитополучателей</th>\n",
       "      <th>Количество должников</th>\n",
       "      <th>Доля должников</th>\n",
       "    </tr>\n",
       "    <tr>\n",
       "      <th>Количество детей:</th>\n",
       "      <th></th>\n",
       "      <th></th>\n",
       "      <th></th>\n",
       "    </tr>\n",
       "  </thead>\n",
       "  <tbody>\n",
       "    <tr>\n",
       "      <th>Два ребенка</th>\n",
       "      <td>2052</td>\n",
       "      <td>194</td>\n",
       "      <td>0.094542</td>\n",
       "    </tr>\n",
       "    <tr>\n",
       "      <th>Нет детей</th>\n",
       "      <td>14091</td>\n",
       "      <td>1063</td>\n",
       "      <td>0.075438</td>\n",
       "    </tr>\n",
       "    <tr>\n",
       "      <th>Один ребенок</th>\n",
       "      <td>4808</td>\n",
       "      <td>444</td>\n",
       "      <td>0.092346</td>\n",
       "    </tr>\n",
       "    <tr>\n",
       "      <th>Пять детей</th>\n",
       "      <td>9</td>\n",
       "      <td>0</td>\n",
       "      <td>0.000000</td>\n",
       "    </tr>\n",
       "    <tr>\n",
       "      <th>Три ребенка</th>\n",
       "      <td>330</td>\n",
       "      <td>27</td>\n",
       "      <td>0.081818</td>\n",
       "    </tr>\n",
       "    <tr>\n",
       "      <th>Четыре ребенка</th>\n",
       "      <td>41</td>\n",
       "      <td>4</td>\n",
       "      <td>0.097561</td>\n",
       "    </tr>\n",
       "  </tbody>\n",
       "</table>\n",
       "</div>"
      ],
      "text/plain": [
       "                   Всего кредитополучателей  Количество должников  \\\n",
       "Количество детей:                                                   \n",
       "Два ребенка                            2052                   194   \n",
       "Нет детей                             14091                  1063   \n",
       "Один ребенок                           4808                   444   \n",
       "Пять детей                                9                     0   \n",
       "Три ребенка                             330                    27   \n",
       "Четыре ребенка                           41                     4   \n",
       "\n",
       "                   Доля должников  \n",
       "Количество детей:                  \n",
       "Два ребенка              0.094542  \n",
       "Нет детей                0.075438  \n",
       "Один ребенок             0.092346  \n",
       "Пять детей               0.000000  \n",
       "Три ребенка              0.081818  \n",
       "Четыре ребенка           0.097561  "
      ]
     },
     "metadata": {},
     "output_type": "display_data"
    }
   ],
   "source": [
    "def quantity_children(children):\n",
    "    if children == 0:\n",
    "        return 'Нет детей'\n",
    "    elif children == 1:\n",
    "        return 'Один ребенок'\n",
    "    elif children == 2:\n",
    "        return 'Два ребенка'\n",
    "    elif children == 3:\n",
    "        return 'Три ребенка'\n",
    "    elif children == 4:\n",
    "        return 'Четыре ребенка'\n",
    "    elif children == 5:\n",
    "        return 'Пять детей'\n",
    "    \n",
    "data['Количество детей:'] = data['children'].apply(quantity_children)\n",
    "children_debt_dependence = data.pivot_table(index = ['Количество детей:'], values = 'debt', aggfunc = ['count', 'sum', 'mean']) # создадим сводную таблицу, сгруппируем по количеству детей и вычислим: всего кредитополучателей, всего должников и долю должников\n",
    "children_debt_dependence = children_debt_dependence.rename({'count': 'Всего кредитополучателей', 'sum': 'Всего должников', 'mean': 'Доля должников'}, axis = 'columns') # переименуем столбцы\n",
    "children_debt_dependence.columns = ['Всего кредитополучателей', 'Количество должников', 'Доля должников'] # уберем мультииндекс в назвниях столбцов (слово debt)\n",
    "display(children_debt_dependence) # выведем датафрейм на экран"
   ]
  },
  {
   "cell_type": "markdown",
   "id": "6aecc69c",
   "metadata": {},
   "source": [
    "**Вывод:** \n",
    "сгруппировав людей по количеству детей, и найдя количество людей, которые имели задолженности по возврату кредита, то можно заметить, что больше всего людей, которые не возвращали кредит в срок, у которых нет детей (таких людей и большинство). И с увеличением количества детей, количество не выплаченных кредитов в срок убывает. Это логично, так как чем больше у человека детей, тем меньше таких людей. Из данных можно сделать вывод, что есть зависимость между количеством детей и возвратом кредита в срок. Больше всего просрочек у людей с одним, двумя, тремя и четырьмя детьми. Нет просрочек у людей, у которых 5 детей, это скорее всего связано с тем, что крайне маленькая выборка (всего 9). И в итоге меньше всего просрочек у людей, у кого совсем нет детей."
   ]
  },
  {
   "cell_type": "markdown",
   "id": "e27c1a73",
   "metadata": {},
   "source": [
    "### Есть ли зависимость между семейным положением и возвратом кредита в срок?"
   ]
  },
  {
   "cell_type": "code",
   "execution_count": 25,
   "id": "bf6f21ef",
   "metadata": {},
   "outputs": [
    {
     "data": {
      "text/html": [
       "<div>\n",
       "<style scoped>\n",
       "    .dataframe tbody tr th:only-of-type {\n",
       "        vertical-align: middle;\n",
       "    }\n",
       "\n",
       "    .dataframe tbody tr th {\n",
       "        vertical-align: top;\n",
       "    }\n",
       "\n",
       "    .dataframe thead th {\n",
       "        text-align: right;\n",
       "    }\n",
       "</style>\n",
       "<table border=\"1\" class=\"dataframe\">\n",
       "  <thead>\n",
       "    <tr style=\"text-align: right;\">\n",
       "      <th></th>\n",
       "      <th>Всего кредитополучателей</th>\n",
       "      <th>Количество должников</th>\n",
       "      <th>Доля должников</th>\n",
       "    </tr>\n",
       "    <tr>\n",
       "      <th>family_status</th>\n",
       "      <th></th>\n",
       "      <th></th>\n",
       "      <th></th>\n",
       "    </tr>\n",
       "  </thead>\n",
       "  <tbody>\n",
       "    <tr>\n",
       "      <th>Не женат / не замужем</th>\n",
       "      <td>2796</td>\n",
       "      <td>273</td>\n",
       "      <td>0.097639</td>\n",
       "    </tr>\n",
       "    <tr>\n",
       "      <th>в разводе</th>\n",
       "      <td>1189</td>\n",
       "      <td>84</td>\n",
       "      <td>0.070648</td>\n",
       "    </tr>\n",
       "    <tr>\n",
       "      <th>вдовец / вдова</th>\n",
       "      <td>951</td>\n",
       "      <td>63</td>\n",
       "      <td>0.066246</td>\n",
       "    </tr>\n",
       "    <tr>\n",
       "      <th>гражданский брак</th>\n",
       "      <td>4134</td>\n",
       "      <td>385</td>\n",
       "      <td>0.093130</td>\n",
       "    </tr>\n",
       "    <tr>\n",
       "      <th>женат / замужем</th>\n",
       "      <td>12261</td>\n",
       "      <td>927</td>\n",
       "      <td>0.075606</td>\n",
       "    </tr>\n",
       "  </tbody>\n",
       "</table>\n",
       "</div>"
      ],
      "text/plain": [
       "                       Всего кредитополучателей  Количество должников  \\\n",
       "family_status                                                           \n",
       "Не женат / не замужем                      2796                   273   \n",
       "в разводе                                  1189                    84   \n",
       "вдовец / вдова                              951                    63   \n",
       "гражданский брак                           4134                   385   \n",
       "женат / замужем                           12261                   927   \n",
       "\n",
       "                       Доля должников  \n",
       "family_status                          \n",
       "Не женат / не замужем        0.097639  \n",
       "в разводе                    0.070648  \n",
       "вдовец / вдова               0.066246  \n",
       "гражданский брак             0.093130  \n",
       "женат / замужем              0.075606  "
      ]
     },
     "metadata": {},
     "output_type": "display_data"
    }
   ],
   "source": [
    "family_debt_dependence = data.pivot_table(index = ['family_status'], values = 'debt', aggfunc = ['count', 'sum', 'mean']) # создадим сводную таблицу, сгруппируем по семейному положению и вычислим: всего кредитополучателей, всего должников и долю должников\n",
    "family_debt_dependence = family_debt_dependence.rename({'count': 'Всего кредитополучателей', 'sum': 'Всего должников', 'mean': 'Доля должников'}, axis = 'columns') # переименуем столбцы\n",
    "family_debt_dependence.columns = ['Всего кредитополучателей', 'Количество должников', 'Доля должников'] # уберем мультииндекс в назвниях столбцов (слово debt)\n",
    "display(family_debt_dependence) # выведем датафрейм на экран"
   ]
  },
  {
   "cell_type": "markdown",
   "id": "dd3efed4",
   "metadata": {},
   "source": [
    "**Вывод:** на основании полученных данных, можно сделать вывод, что существует прямая зависимость между семейным положением, и возвратом кредита в срок. Больше всего просрочек по кредиту у людей не \"женат/не замужем\", скорее всего это связано с тем, что либо человек еще молодой и соответственно, не может брать ответственность за свои поступки, либо нет желания брать ответственность за свои поступки. Тоже самое касается категории \"гражданский брак\". Люди из данных категорий, скорее всего, берут кредит для своих нужд, и так как нет ответственности перед семьей, то и не торопятся возвращать кредит вовремя. Категория \"вдовец/вдова\" самая ответственная (больше всего возвратов кредитов в срок). Это связано, скорее всего, с тем, что имеют большую зону ответственности, накопленную с возрастом. Категории: \"в разводе\" и \"женат/замужем\" имеют близкие значения возврата кредита в срок, и являются средним значением."
   ]
  },
  {
   "cell_type": "markdown",
   "id": "1353301b",
   "metadata": {},
   "source": [
    "### Есть ли зависимость между уровнем дохода и возвратом кредита в срок?"
   ]
  },
  {
   "cell_type": "code",
   "execution_count": 26,
   "id": "3e266675",
   "metadata": {},
   "outputs": [
    {
     "data": {
      "text/html": [
       "<div>\n",
       "<style scoped>\n",
       "    .dataframe tbody tr th:only-of-type {\n",
       "        vertical-align: middle;\n",
       "    }\n",
       "\n",
       "    .dataframe tbody tr th {\n",
       "        vertical-align: top;\n",
       "    }\n",
       "\n",
       "    .dataframe thead th {\n",
       "        text-align: right;\n",
       "    }\n",
       "</style>\n",
       "<table border=\"1\" class=\"dataframe\">\n",
       "  <thead>\n",
       "    <tr style=\"text-align: right;\">\n",
       "      <th></th>\n",
       "      <th>Всего кредитополучателей</th>\n",
       "      <th>Количество должников</th>\n",
       "      <th>Доля должников</th>\n",
       "    </tr>\n",
       "    <tr>\n",
       "      <th>Уровень дохода:</th>\n",
       "      <th></th>\n",
       "      <th></th>\n",
       "      <th></th>\n",
       "    </tr>\n",
       "  </thead>\n",
       "  <tbody>\n",
       "    <tr>\n",
       "      <th>Высокий доход, выше 200001 рублей</th>\n",
       "      <td>5039</td>\n",
       "      <td>356</td>\n",
       "      <td>0.070649</td>\n",
       "    </tr>\n",
       "    <tr>\n",
       "      <th>Средний доход и низкий доход, ниже 200000 рублей</th>\n",
       "      <td>16292</td>\n",
       "      <td>1376</td>\n",
       "      <td>0.084459</td>\n",
       "    </tr>\n",
       "  </tbody>\n",
       "</table>\n",
       "</div>"
      ],
      "text/plain": [
       "                                                  Всего кредитополучателей  \\\n",
       "Уровень дохода:                                                              \n",
       "Высокий доход, выше 200001 рублей                                     5039   \n",
       "Средний доход и низкий доход, ниже 200000 рублей                     16292   \n",
       "\n",
       "                                                  Количество должников  \\\n",
       "Уровень дохода:                                                          \n",
       "Высокий доход, выше 200001 рублей                                  356   \n",
       "Средний доход и низкий доход, ниже 200000 рублей                  1376   \n",
       "\n",
       "                                                  Доля должников  \n",
       "Уровень дохода:                                                   \n",
       "Высокий доход, выше 200001 рублей                       0.070649  \n",
       "Средний доход и низкий доход, ниже 200000 рублей        0.084459  "
      ]
     },
     "metadata": {},
     "output_type": "display_data"
    }
   ],
   "source": [
    "def income_level(income):\n",
    "    if income == 'E' or income == 'D' or income == 'C':\n",
    "        return 'Средний доход и низкий доход, ниже 200000 рублей'\n",
    "    elif income == 'B' or income == 'A':\n",
    "        return 'Высокий доход, выше 200001 рублей'\n",
    "\n",
    "data['Уровень дохода:'] = data['total_income_category'].apply(income_level)\n",
    "income_debt_dependence = data.pivot_table(index = ['Уровень дохода:'], values = 'debt', aggfunc = ['count', 'sum', 'mean']) # создадим сводную таблицу, сгруппируем по уровню дохода и вычислим: всего кредитополучателей, всего должников и долю должников\n",
    "income_debt_dependence = income_debt_dependence.rename({'count': 'Всего кредитополучателей', 'sum': 'Всего должников', 'mean': 'Доля должников'}, axis = 'columns') # переименуем столбцы\n",
    "income_debt_dependence.columns = ['Всего кредитополучателей', 'Количество должников', 'Доля должников'] # уберем мультииндекс в назвниях столбцов (слово debt)\n",
    "display(income_debt_dependence) # выведем датафрейм на экран"
   ]
  },
  {
   "cell_type": "markdown",
   "id": "903f335b",
   "metadata": {},
   "source": [
    "Построим график с отсечками погрешностей:"
   ]
  },
  {
   "cell_type": "code",
   "execution_count": 28,
   "id": "ade9a68f",
   "metadata": {},
   "outputs": [
    {
     "data": {
      "image/png": "[encoded data removed]",
      "text/plain": [
       "<Figure size 432x288 with 1 Axes>"
      ]
     },
     "metadata": {
      "needs_background": "light"
     },
     "output_type": "display_data"
    }
   ],
   "source": [
    "sns.barplot(data = data, x = 'total_income_category', y = 'debt');"
   ]
  },
  {
   "cell_type": "markdown",
   "id": "c00f6c9e",
   "metadata": {},
   "source": [
    "Обратим внимание, чем больше данных мы имеем, тем точнее мы получим значение среднего. Мы видим, что у категории D погрешность сравнима с самим значением. А данных по категориям А и Е еще меньше."
   ]
  },
  {
   "cell_type": "markdown",
   "id": "cae195c6",
   "metadata": {},
   "source": [
    "**Вывод:** так как около 98% всех клиентов принадлежат категориям B (доход от 200001 до 1000000 рублей) и C (доход от 50001 до 200000 рублей), то принято решение сгруппировать клиентов на две категории: доход до 200000 и выше 200001 рублей. Благодаря этому решению, будет возможно сделать корректные выводы и статпогрешность будет маленькая. На основе полученных значений можно сделать следующие выводы, что доля должников меньше у людей с высоким доходом. Это, скорее всего, связано с тем, что люди с более высоким доходом понимают ценность денег, отдают отчет своим поступкам, и берут кредит только в экстренных случаях, при этом имея план выплаты кредитов, что и понижает долю должников в данной категории. А люди, имеющие более низких доход, не имея возможности что-то купить в обозримом будущем, берут необдуманный кредит. Что и приводит к большой доле невыплаченных кредитов вовремя в данной категории."
   ]
  },
  {
   "cell_type": "markdown",
   "id": "63d7e127",
   "metadata": {},
   "source": [
    "### Как разные цели кредита влияют на его возврат в срок?"
   ]
  },
  {
   "cell_type": "code",
   "execution_count": 29,
   "id": "cfb5cd9a",
   "metadata": {},
   "outputs": [
    {
     "data": {
      "text/html": [
       "<div>\n",
       "<style scoped>\n",
       "    .dataframe tbody tr th:only-of-type {\n",
       "        vertical-align: middle;\n",
       "    }\n",
       "\n",
       "    .dataframe tbody tr th {\n",
       "        vertical-align: top;\n",
       "    }\n",
       "\n",
       "    .dataframe thead th {\n",
       "        text-align: right;\n",
       "    }\n",
       "</style>\n",
       "<table border=\"1\" class=\"dataframe\">\n",
       "  <thead>\n",
       "    <tr style=\"text-align: right;\">\n",
       "      <th></th>\n",
       "      <th>Всего кредитополучателей</th>\n",
       "      <th>Количество должников</th>\n",
       "      <th>Доля должников</th>\n",
       "    </tr>\n",
       "    <tr>\n",
       "      <th>purpose_category</th>\n",
       "      <th></th>\n",
       "      <th></th>\n",
       "      <th></th>\n",
       "    </tr>\n",
       "  </thead>\n",
       "  <tbody>\n",
       "    <tr>\n",
       "      <th>операции с автомобилем</th>\n",
       "      <td>4279</td>\n",
       "      <td>400</td>\n",
       "      <td>0.093480</td>\n",
       "    </tr>\n",
       "    <tr>\n",
       "      <th>операции с недвижимостью</th>\n",
       "      <td>10751</td>\n",
       "      <td>780</td>\n",
       "      <td>0.072551</td>\n",
       "    </tr>\n",
       "    <tr>\n",
       "      <th>получение образования</th>\n",
       "      <td>3988</td>\n",
       "      <td>369</td>\n",
       "      <td>0.092528</td>\n",
       "    </tr>\n",
       "    <tr>\n",
       "      <th>проведение свадьбы</th>\n",
       "      <td>2313</td>\n",
       "      <td>183</td>\n",
       "      <td>0.079118</td>\n",
       "    </tr>\n",
       "  </tbody>\n",
       "</table>\n",
       "</div>"
      ],
      "text/plain": [
       "                          Всего кредитополучателей  Количество должников  \\\n",
       "purpose_category                                                           \n",
       "операции с автомобилем                        4279                   400   \n",
       "операции с недвижимостью                     10751                   780   \n",
       "получение образования                         3988                   369   \n",
       "проведение свадьбы                            2313                   183   \n",
       "\n",
       "                          Доля должников  \n",
       "purpose_category                          \n",
       "операции с автомобилем          0.093480  \n",
       "операции с недвижимостью        0.072551  \n",
       "получение образования           0.092528  \n",
       "проведение свадьбы              0.079118  "
      ]
     },
     "metadata": {},
     "output_type": "display_data"
    }
   ],
   "source": [
    "purpose_debt_dependence = data.pivot_table(index = ['purpose_category'], values = 'debt', aggfunc = ['count', 'sum', 'mean']) # создадим сводную таблицу, сгруппируем по целям кредита и вычислим: всего кредитополучателей, всего должников и долю должников\n",
    "purpose_debt_dependence = purpose_debt_dependence.rename({'count': 'Всего кредитополучателей', 'sum': 'Всего должников', 'mean': 'Доля должников'}, axis = 'columns') # переименуем столбцы\n",
    "purpose_debt_dependence.columns = ['Всего кредитополучателей', 'Количество должников', 'Доля должников'] # уберем мультииндекс в назвниях столбцов (слово debt)\n",
    "display(purpose_debt_dependence) # выведем датафрейм на экран"
   ]
  },
  {
   "cell_type": "markdown",
   "id": "3a47a15e",
   "metadata": {},
   "source": [
    "**Вывод:** на основании полученных данных, можно сделать вывод, что наибольшее значение просрочек по кредиту, это из категории \"операции с автомобилем\". Я считаю, что это связано с тем, что автомобиль требует обслуживания, и еще может случиться авария, и тогда человеку приходиться тратить деньги, как на ремонт автомобиля, так и погашение кредита, что является сложной задачей, и требует большого дохода. Также крайне большое значение не возвращенных кредитов, взятых на категорию: \"получение образования\". Это связано с тем, что чаще всего кредит берется на обучение в университете, и много людей выбирают не то направление, которое им нравиться, либо их отчисляют из ВУЗа. И в том и в другом случае, с психологической точки зрения сложно выплачивать кредит вовремя. А наименьшее значение, невыплаченных кредитов в срок, это из категории: \"операции с недвижимостью\". Предполагаю, что чаще всего берется ипотека на недвижимость, и люди понимают, что если не будут выплачивать средства, то у них банк просто заберет данную недвижимость, осознавая это – люди стремятся вовремя платить по кредиту. У категории \"проведение свадьбы\", довольно высокая доля выплаченных кредитов в срок. Я считаю, так как в большинстве случаев свадьба это заблаговременно обдуманный и спланированный шаг, и соответственно люди готовы к выплате по кредиту."
   ]
  },
  {
   "cell_type": "markdown",
   "id": "3581ee71",
   "metadata": {},
   "source": [
    "### Приведем возможные причины появления пропусков в исходных данных:"
   ]
  },
  {
   "cell_type": "markdown",
   "id": "e3fe40de",
   "metadata": {},
   "source": [
    "*Ответ:* Возможные причины появления пропусков в исходных данных:\n",
    "клиент может искажать или скрывать информацию о себе;\n",
    "человеческий фактор, работник вводящий данные клиента допускает ошибку;\n",
    "поломка оборудования, приводящая к частичной потере данных (маловероятная причина, но возможная);\n",
    "невозможность получения данных, или их обработки;\n",
    "неправильная загрузка или выгрузка данных;\n",
    "неправильный запрос, объединение таблиц."
   ]
  },
  {
   "cell_type": "markdown",
   "id": "dc522333",
   "metadata": {},
   "source": [
    "### Объясним, почему заполнить пропуски медианным значением — лучшее решение для количественных переменных:"
   ]
  },
  {
   "cell_type": "markdown",
   "id": "29e1d7bc",
   "metadata": {},
   "source": [
    "*Ответ:* медиана является характеристикой менее зависимой к случайным выбросам, т.е. к появлению в данных аномально больших или маленьких значений. Например, если считать среднее арифметическую зарплату по отделу, где всего 5 сотрудников и начальник отдела. И допустим у сотрудников зарплата в пределах от 80000 до 120000 рублей. А у начальника отдела 300000 рублей зарплата. То средняя зарплата будет равна приблизительно 133000 рублей. Что больше любой зарплаты сотрудника. А если посчитаем медиану, то она будет равна 105000 рублей. Также будет возникать, если у кого-то будет слишком маленькая зарплата. Вывод: для заполнения пропусков в количественных переменных, лучше использовать медиану, чем среднее арифметическое или моду. Так как медиана наименее подвержена к выбросам в значениях."
   ]
  },
  {
   "cell_type": "markdown",
   "id": "cd0bb262",
   "metadata": {},
   "source": [
    "## Общий вывод:"
   ]
  },
  {
   "cell_type": "markdown",
   "id": "49c7e4da",
   "metadata": {},
   "source": [
    "В ходе работы были определена зависимость между различными категориями людей и возвратом их кредита в срок.\n",
    "На основе полученных результатов, можно сделать вывод, что предоставлять кредит лучше всего клиентам, имеющие следующие категории:\n",
    "заемщик не имеет детей;\n",
    "семейное положение вдовец/вдова;\n",
    "доход, чем выше, тем лучше;\n",
    "а цель кредита - это \"операции с недвижимостью\".\n",
    "Исходя из данных, заемщики, относящиеся к данным категориям, выплатят кредит вовремя с наибольшей вероятностью. \n",
    "И необходимо более детально изучать заемщика и его входные данные, если заемщик берет кредит на автомобиль или образование. Так как доля просрочек по кредиту на данные цели самая высокая. \n",
    "Наиболее надежный портрет клиента следующий: клиент, который берут ипотеку, с заработкам выше среднего(чем выше заработок, тем лучше), не имеющий детей, состоящий в официальном браке (лучше вдовец или вдова).\n",
    "А если описать портрет, наоборот, наиболее рискованного клиента, то он будет следующим: клиент имеет двоих или более детей, не женат/не замужем или находиться в гражданском браке, имеет доход ниже среднего или средний, а цель кредита получение образования или операции с автомобилем. По данным категориям хорошо подходят молодые люди, которые берут кредит на автомобиль или образование, и я являются не благонадежными клиентами. "
   ]
  }
 ],
 "metadata": {
  "kernelspec": {
   "display_name": "Python 3 (ipykernel)",
   "language": "python",
   "name": "python3"
  },
  "language_info": {
   "codemirror_mode": {
    "name": "ipython",
    "version": 3
   },
   "file_extension": ".py",
   "mimetype": "text/x-python",
   "name": "python",
   "nbconvert_exporter": "python",
   "pygments_lexer": "ipython3",
   "version": "3.9.12"
  }
 },
 "nbformat": 4,
 "nbformat_minor": 5
}
